{
 "cells": [
  {
   "cell_type": "markdown",
   "metadata": {},
   "source": [
    "### Importing modules"
   ]
  },
  {
   "cell_type": "code",
   "execution_count": 1,
   "metadata": {},
   "outputs": [],
   "source": [
    "import numpy as np\n",
    "import pandas as pd\n",
    "import matplotlib.pyplot as plt\n",
    "import seaborn as sns\n",
    "import json\n",
    "from wordcloud import WordCloud, STOPWORDS, ImageColorGenerator\n",
    "import string\n",
    "from datetime import date, timedelta   \n",
    "import nltk\n",
    "%matplotlib inline"
   ]
  },
  {
   "cell_type": "code",
   "execution_count": null,
   "metadata": {},
   "outputs": [],
   "source": []
  },
  {
   "cell_type": "markdown",
   "metadata": {},
   "source": [
    "### 1. Data ghathring"
   ]
  },
  {
   "cell_type": "code",
   "execution_count": 2,
   "metadata": {},
   "outputs": [],
   "source": [
    "def get_data(week_nums):\n",
    "    url = \"http://web.mta.info/developers/data/nyct/turnstile/turnstile_{}.txt\"\n",
    "    dfs = []\n",
    "    for week_num in week_nums:\n",
    "        file_url = url.format(week_num)\n",
    "        dfs.append(pd.read_csv(file_url))\n",
    "    return pd.concat(dfs)\n",
    "        \n",
    "week_nums = [210501, 210508, 210515,210529,210605,210612,210619,210626,210703,210710,210717,210724,210731]\n",
    "df = get_data(week_nums)"
   ]
  },
  {
   "cell_type": "code",
   "execution_count": null,
   "metadata": {},
   "outputs": [],
   "source": []
  },
  {
   "cell_type": "markdown",
   "metadata": {},
   "source": [
    "### 2. Data Exploring"
   ]
  },
  {
   "cell_type": "code",
   "execution_count": 3,
   "metadata": {},
   "outputs": [
    {
     "data": {
      "text/html": [
       "<div>\n",
       "<style scoped>\n",
       "    .dataframe tbody tr th:only-of-type {\n",
       "        vertical-align: middle;\n",
       "    }\n",
       "\n",
       "    .dataframe tbody tr th {\n",
       "        vertical-align: top;\n",
       "    }\n",
       "\n",
       "    .dataframe thead th {\n",
       "        text-align: right;\n",
       "    }\n",
       "</style>\n",
       "<table border=\"1\" class=\"dataframe\">\n",
       "  <thead>\n",
       "    <tr style=\"text-align: right;\">\n",
       "      <th></th>\n",
       "      <th>C/A</th>\n",
       "      <th>UNIT</th>\n",
       "      <th>SCP</th>\n",
       "      <th>STATION</th>\n",
       "      <th>LINENAME</th>\n",
       "      <th>DIVISION</th>\n",
       "      <th>DATE</th>\n",
       "      <th>TIME</th>\n",
       "      <th>DESC</th>\n",
       "      <th>ENTRIES</th>\n",
       "      <th>EXITS</th>\n",
       "    </tr>\n",
       "  </thead>\n",
       "  <tbody>\n",
       "    <tr>\n",
       "      <th>0</th>\n",
       "      <td>A002</td>\n",
       "      <td>R051</td>\n",
       "      <td>02-00-00</td>\n",
       "      <td>59 ST</td>\n",
       "      <td>NQR456W</td>\n",
       "      <td>BMT</td>\n",
       "      <td>04/24/2021</td>\n",
       "      <td>00:00:00</td>\n",
       "      <td>REGULAR</td>\n",
       "      <td>7561288</td>\n",
       "      <td>2582898</td>\n",
       "    </tr>\n",
       "    <tr>\n",
       "      <th>1</th>\n",
       "      <td>A002</td>\n",
       "      <td>R051</td>\n",
       "      <td>02-00-00</td>\n",
       "      <td>59 ST</td>\n",
       "      <td>NQR456W</td>\n",
       "      <td>BMT</td>\n",
       "      <td>04/24/2021</td>\n",
       "      <td>04:00:00</td>\n",
       "      <td>REGULAR</td>\n",
       "      <td>7561295</td>\n",
       "      <td>2582903</td>\n",
       "    </tr>\n",
       "    <tr>\n",
       "      <th>2</th>\n",
       "      <td>A002</td>\n",
       "      <td>R051</td>\n",
       "      <td>02-00-00</td>\n",
       "      <td>59 ST</td>\n",
       "      <td>NQR456W</td>\n",
       "      <td>BMT</td>\n",
       "      <td>04/24/2021</td>\n",
       "      <td>08:00:00</td>\n",
       "      <td>REGULAR</td>\n",
       "      <td>7561302</td>\n",
       "      <td>2582918</td>\n",
       "    </tr>\n",
       "    <tr>\n",
       "      <th>3</th>\n",
       "      <td>A002</td>\n",
       "      <td>R051</td>\n",
       "      <td>02-00-00</td>\n",
       "      <td>59 ST</td>\n",
       "      <td>NQR456W</td>\n",
       "      <td>BMT</td>\n",
       "      <td>04/24/2021</td>\n",
       "      <td>12:00:00</td>\n",
       "      <td>REGULAR</td>\n",
       "      <td>7561336</td>\n",
       "      <td>2582977</td>\n",
       "    </tr>\n",
       "    <tr>\n",
       "      <th>4</th>\n",
       "      <td>A002</td>\n",
       "      <td>R051</td>\n",
       "      <td>02-00-00</td>\n",
       "      <td>59 ST</td>\n",
       "      <td>NQR456W</td>\n",
       "      <td>BMT</td>\n",
       "      <td>04/24/2021</td>\n",
       "      <td>16:00:00</td>\n",
       "      <td>REGULAR</td>\n",
       "      <td>7561426</td>\n",
       "      <td>2583008</td>\n",
       "    </tr>\n",
       "  </tbody>\n",
       "</table>\n",
       "</div>"
      ],
      "text/plain": [
       "    C/A  UNIT       SCP STATION LINENAME DIVISION        DATE      TIME  \\\n",
       "0  A002  R051  02-00-00   59 ST  NQR456W      BMT  04/24/2021  00:00:00   \n",
       "1  A002  R051  02-00-00   59 ST  NQR456W      BMT  04/24/2021  04:00:00   \n",
       "2  A002  R051  02-00-00   59 ST  NQR456W      BMT  04/24/2021  08:00:00   \n",
       "3  A002  R051  02-00-00   59 ST  NQR456W      BMT  04/24/2021  12:00:00   \n",
       "4  A002  R051  02-00-00   59 ST  NQR456W      BMT  04/24/2021  16:00:00   \n",
       "\n",
       "      DESC  ENTRIES  \\\n",
       "0  REGULAR  7561288   \n",
       "1  REGULAR  7561295   \n",
       "2  REGULAR  7561302   \n",
       "3  REGULAR  7561336   \n",
       "4  REGULAR  7561426   \n",
       "\n",
       "   EXITS                                                                 \n",
       "0                                            2582898                     \n",
       "1                                            2582903                     \n",
       "2                                            2582918                     \n",
       "3                                            2582977                     \n",
       "4                                            2583008                     "
      ]
     },
     "execution_count": 3,
     "metadata": {},
     "output_type": "execute_result"
    }
   ],
   "source": [
    "df.head()"
   ]
  },
  {
   "cell_type": "code",
   "execution_count": 4,
   "metadata": {},
   "outputs": [
    {
     "data": {
      "text/html": [
       "<div>\n",
       "<style scoped>\n",
       "    .dataframe tbody tr th:only-of-type {\n",
       "        vertical-align: middle;\n",
       "    }\n",
       "\n",
       "    .dataframe tbody tr th {\n",
       "        vertical-align: top;\n",
       "    }\n",
       "\n",
       "    .dataframe thead th {\n",
       "        text-align: right;\n",
       "    }\n",
       "</style>\n",
       "<table border=\"1\" class=\"dataframe\">\n",
       "  <thead>\n",
       "    <tr style=\"text-align: right;\">\n",
       "      <th></th>\n",
       "      <th>C/A</th>\n",
       "      <th>UNIT</th>\n",
       "      <th>SCP</th>\n",
       "      <th>STATION</th>\n",
       "      <th>LINENAME</th>\n",
       "      <th>DIVISION</th>\n",
       "      <th>DATE</th>\n",
       "      <th>TIME</th>\n",
       "      <th>DESC</th>\n",
       "      <th>ENTRIES</th>\n",
       "      <th>EXITS</th>\n",
       "    </tr>\n",
       "  </thead>\n",
       "  <tbody>\n",
       "    <tr>\n",
       "      <th>209458</th>\n",
       "      <td>TRAM2</td>\n",
       "      <td>R469</td>\n",
       "      <td>00-05-01</td>\n",
       "      <td>RIT-ROOSEVELT</td>\n",
       "      <td>R</td>\n",
       "      <td>RIT</td>\n",
       "      <td>07/30/2021</td>\n",
       "      <td>05:00:00</td>\n",
       "      <td>REGULAR</td>\n",
       "      <td>5554</td>\n",
       "      <td>589</td>\n",
       "    </tr>\n",
       "    <tr>\n",
       "      <th>209459</th>\n",
       "      <td>TRAM2</td>\n",
       "      <td>R469</td>\n",
       "      <td>00-05-01</td>\n",
       "      <td>RIT-ROOSEVELT</td>\n",
       "      <td>R</td>\n",
       "      <td>RIT</td>\n",
       "      <td>07/30/2021</td>\n",
       "      <td>09:00:00</td>\n",
       "      <td>REGULAR</td>\n",
       "      <td>5554</td>\n",
       "      <td>589</td>\n",
       "    </tr>\n",
       "    <tr>\n",
       "      <th>209460</th>\n",
       "      <td>TRAM2</td>\n",
       "      <td>R469</td>\n",
       "      <td>00-05-01</td>\n",
       "      <td>RIT-ROOSEVELT</td>\n",
       "      <td>R</td>\n",
       "      <td>RIT</td>\n",
       "      <td>07/30/2021</td>\n",
       "      <td>13:00:00</td>\n",
       "      <td>REGULAR</td>\n",
       "      <td>5554</td>\n",
       "      <td>589</td>\n",
       "    </tr>\n",
       "    <tr>\n",
       "      <th>209461</th>\n",
       "      <td>TRAM2</td>\n",
       "      <td>R469</td>\n",
       "      <td>00-05-01</td>\n",
       "      <td>RIT-ROOSEVELT</td>\n",
       "      <td>R</td>\n",
       "      <td>RIT</td>\n",
       "      <td>07/30/2021</td>\n",
       "      <td>17:00:00</td>\n",
       "      <td>REGULAR</td>\n",
       "      <td>5554</td>\n",
       "      <td>590</td>\n",
       "    </tr>\n",
       "    <tr>\n",
       "      <th>209462</th>\n",
       "      <td>TRAM2</td>\n",
       "      <td>R469</td>\n",
       "      <td>00-05-01</td>\n",
       "      <td>RIT-ROOSEVELT</td>\n",
       "      <td>R</td>\n",
       "      <td>RIT</td>\n",
       "      <td>07/30/2021</td>\n",
       "      <td>21:00:00</td>\n",
       "      <td>REGULAR</td>\n",
       "      <td>5554</td>\n",
       "      <td>591</td>\n",
       "    </tr>\n",
       "  </tbody>\n",
       "</table>\n",
       "</div>"
      ],
      "text/plain": [
       "          C/A  UNIT       SCP        STATION LINENAME DIVISION        DATE  \\\n",
       "209458  TRAM2  R469  00-05-01  RIT-ROOSEVELT        R      RIT  07/30/2021   \n",
       "209459  TRAM2  R469  00-05-01  RIT-ROOSEVELT        R      RIT  07/30/2021   \n",
       "209460  TRAM2  R469  00-05-01  RIT-ROOSEVELT        R      RIT  07/30/2021   \n",
       "209461  TRAM2  R469  00-05-01  RIT-ROOSEVELT        R      RIT  07/30/2021   \n",
       "209462  TRAM2  R469  00-05-01  RIT-ROOSEVELT        R      RIT  07/30/2021   \n",
       "\n",
       "            TIME     DESC  ENTRIES  \\\n",
       "209458  05:00:00  REGULAR     5554   \n",
       "209459  09:00:00  REGULAR     5554   \n",
       "209460  13:00:00  REGULAR     5554   \n",
       "209461  17:00:00  REGULAR     5554   \n",
       "209462  21:00:00  REGULAR     5554   \n",
       "\n",
       "        EXITS                                                                 \n",
       "209458                                                589                     \n",
       "209459                                                589                     \n",
       "209460                                                589                     \n",
       "209461                                                590                     \n",
       "209462                                                591                     "
      ]
     },
     "execution_count": 4,
     "metadata": {},
     "output_type": "execute_result"
    }
   ],
   "source": [
    "df.tail()"
   ]
  },
  {
   "cell_type": "code",
   "execution_count": 5,
   "metadata": {},
   "outputs": [
    {
     "name": "stdout",
     "output_type": "stream",
     "text": [
      "<class 'pandas.core.frame.DataFrame'>\n",
      "Int64Index: 2721477 entries, 0 to 209462\n",
      "Data columns (total 11 columns):\n",
      " #   Column                                                                Dtype \n",
      "---  ------                                                                ----- \n",
      " 0   C/A                                                                   object\n",
      " 1   UNIT                                                                  object\n",
      " 2   SCP                                                                   object\n",
      " 3   STATION                                                               object\n",
      " 4   LINENAME                                                              object\n",
      " 5   DIVISION                                                              object\n",
      " 6   DATE                                                                  object\n",
      " 7   TIME                                                                  object\n",
      " 8   DESC                                                                  object\n",
      " 9   ENTRIES                                                               int64 \n",
      " 10  EXITS                                                                 int64 \n",
      "dtypes: int64(2), object(9)\n",
      "memory usage: 249.2+ MB\n"
     ]
    }
   ],
   "source": [
    "df.info()"
   ]
  },
  {
   "cell_type": "code",
   "execution_count": 6,
   "metadata": {},
   "outputs": [
    {
     "data": {
      "text/html": [
       "<div>\n",
       "<style scoped>\n",
       "    .dataframe tbody tr th:only-of-type {\n",
       "        vertical-align: middle;\n",
       "    }\n",
       "\n",
       "    .dataframe tbody tr th {\n",
       "        vertical-align: top;\n",
       "    }\n",
       "\n",
       "    .dataframe thead th {\n",
       "        text-align: right;\n",
       "    }\n",
       "</style>\n",
       "<table border=\"1\" class=\"dataframe\">\n",
       "  <thead>\n",
       "    <tr style=\"text-align: right;\">\n",
       "      <th></th>\n",
       "      <th>ENTRIES</th>\n",
       "      <th>EXITS</th>\n",
       "    </tr>\n",
       "  </thead>\n",
       "  <tbody>\n",
       "    <tr>\n",
       "      <th>count</th>\n",
       "      <td>2.721477e+06</td>\n",
       "      <td>2.721477e+06</td>\n",
       "    </tr>\n",
       "    <tr>\n",
       "      <th>mean</th>\n",
       "      <td>4.187829e+07</td>\n",
       "      <td>3.352181e+07</td>\n",
       "    </tr>\n",
       "    <tr>\n",
       "      <th>std</th>\n",
       "      <td>2.189091e+08</td>\n",
       "      <td>1.927547e+08</td>\n",
       "    </tr>\n",
       "    <tr>\n",
       "      <th>min</th>\n",
       "      <td>0.000000e+00</td>\n",
       "      <td>0.000000e+00</td>\n",
       "    </tr>\n",
       "    <tr>\n",
       "      <th>25%</th>\n",
       "      <td>2.168880e+05</td>\n",
       "      <td>9.585300e+04</td>\n",
       "    </tr>\n",
       "    <tr>\n",
       "      <th>50%</th>\n",
       "      <td>1.419220e+06</td>\n",
       "      <td>8.587600e+05</td>\n",
       "    </tr>\n",
       "    <tr>\n",
       "      <th>75%</th>\n",
       "      <td>6.049660e+06</td>\n",
       "      <td>3.980241e+06</td>\n",
       "    </tr>\n",
       "    <tr>\n",
       "      <th>max</th>\n",
       "      <td>2.147430e+09</td>\n",
       "      <td>2.122941e+09</td>\n",
       "    </tr>\n",
       "  </tbody>\n",
       "</table>\n",
       "</div>"
      ],
      "text/plain": [
       "            ENTRIES  \\\n",
       "count  2.721477e+06   \n",
       "mean   4.187829e+07   \n",
       "std    2.189091e+08   \n",
       "min    0.000000e+00   \n",
       "25%    2.168880e+05   \n",
       "50%    1.419220e+06   \n",
       "75%    6.049660e+06   \n",
       "max    2.147430e+09   \n",
       "\n",
       "       EXITS                                                                 \n",
       "count                                       2.721477e+06                     \n",
       "mean                                        3.352181e+07                     \n",
       "std                                         1.927547e+08                     \n",
       "min                                         0.000000e+00                     \n",
       "25%                                         9.585300e+04                     \n",
       "50%                                         8.587600e+05                     \n",
       "75%                                         3.980241e+06                     \n",
       "max                                         2.122941e+09                     "
      ]
     },
     "execution_count": 6,
     "metadata": {},
     "output_type": "execute_result"
    }
   ],
   "source": [
    "df.describe()"
   ]
  },
  {
   "cell_type": "code",
   "execution_count": 7,
   "metadata": {},
   "outputs": [
    {
     "data": {
      "text/plain": [
       "(2721477, 11)"
      ]
     },
     "execution_count": 7,
     "metadata": {},
     "output_type": "execute_result"
    }
   ],
   "source": [
    "df.shape"
   ]
  },
  {
   "cell_type": "code",
   "execution_count": 8,
   "metadata": {},
   "outputs": [
    {
     "data": {
      "text/plain": [
       "C/A                                                                     object\n",
       "UNIT                                                                    object\n",
       "SCP                                                                     object\n",
       "STATION                                                                 object\n",
       "LINENAME                                                                object\n",
       "DIVISION                                                                object\n",
       "DATE                                                                    object\n",
       "TIME                                                                    object\n",
       "DESC                                                                    object\n",
       "ENTRIES                                                                  int64\n",
       "EXITS                                                                    int64\n",
       "dtype: object"
      ]
     },
     "execution_count": 8,
     "metadata": {},
     "output_type": "execute_result"
    }
   ],
   "source": [
    "df.dtypes"
   ]
  },
  {
   "cell_type": "code",
   "execution_count": 9,
   "metadata": {},
   "outputs": [
    {
     "data": {
      "text/plain": [
       "Index(['C/A', 'UNIT', 'SCP', 'STATION', 'LINENAME', 'DIVISION', 'DATE', 'TIME',\n",
       "       'DESC', 'ENTRIES',\n",
       "       'EXITS                                                               '],\n",
       "      dtype='object')"
      ]
     },
     "execution_count": 9,
     "metadata": {},
     "output_type": "execute_result"
    }
   ],
   "source": [
    "df.columns"
   ]
  },
  {
   "cell_type": "code",
   "execution_count": 10,
   "metadata": {},
   "outputs": [
    {
     "data": {
      "text/plain": [
       "34 ST-PENN STA     55619\n",
       "FULTON ST          52376\n",
       "GRD CNTRL-42 ST    48482\n",
       "23 ST              39852\n",
       "86 ST              35390\n",
       "                   ...  \n",
       "ALABAMA AV          1628\n",
       "182-183 STS         1627\n",
       "ORCHARD BEACH       1613\n",
       "SUTTER AV           1092\n",
       "CLEVELAND ST        1090\n",
       "Name: STATION, Length: 379, dtype: int64"
      ]
     },
     "execution_count": 10,
     "metadata": {},
     "output_type": "execute_result"
    }
   ],
   "source": [
    "df['STATION'].value_counts()"
   ]
  },
  {
   "cell_type": "code",
   "execution_count": 11,
   "metadata": {},
   "outputs": [
    {
     "data": {
      "text/plain": [
       "08:00:00    232912\n",
       "12:00:00    232912\n",
       "00:00:00    232900\n",
       "16:00:00    232900\n",
       "04:00:00    232863\n",
       "             ...  \n",
       "21:51:05         1\n",
       "13:51:15         1\n",
       "15:59:15         1\n",
       "09:07:16         1\n",
       "00:12:55         1\n",
       "Name: TIME, Length: 54464, dtype: int64"
      ]
     },
     "execution_count": 11,
     "metadata": {},
     "output_type": "execute_result"
    }
   ],
   "source": [
    "df['TIME'].value_counts()"
   ]
  },
  {
   "cell_type": "code",
   "execution_count": 12,
   "metadata": {},
   "outputs": [
    {
     "data": {
      "text/plain": [
       "04/24/2021    29924\n",
       "04/25/2021    29844\n",
       "04/26/2021    29803\n",
       "04/27/2021    29973\n",
       "04/28/2021    29817\n",
       "              ...  \n",
       "07/26/2021    29816\n",
       "07/27/2021    29928\n",
       "07/28/2021    29923\n",
       "07/29/2021    30016\n",
       "07/30/2021    30061\n",
       "Name: DATE, Length: 91, dtype: int64"
      ]
     },
     "execution_count": 12,
     "metadata": {},
     "output_type": "execute_result"
    }
   ],
   "source": [
    "df['DATE'].value_counts().sort_index()"
   ]
  },
  {
   "cell_type": "code",
   "execution_count": 13,
   "metadata": {},
   "outputs": [
    {
     "data": {
      "text/plain": [
       "R549    37157\n",
       "R057    27852\n",
       "R014    27263\n",
       "R540    25953\n",
       "R029    25516\n",
       "        ...  \n",
       "R433     1628\n",
       "R237     1627\n",
       "R459     1613\n",
       "R349     1092\n",
       "R435     1090\n",
       "Name: UNIT, Length: 469, dtype: int64"
      ]
     },
     "execution_count": 13,
     "metadata": {},
     "output_type": "execute_result"
    }
   ],
   "source": [
    "df['UNIT'].value_counts()"
   ]
  },
  {
   "cell_type": "code",
   "execution_count": 14,
   "metadata": {
    "scrolled": true
   },
   "outputs": [
    {
     "data": {
      "text/plain": [
       "IRT    978201\n",
       "IND    949508\n",
       "BMT    602095\n",
       "PTH    168776\n",
       "SRT     17461\n",
       "RIT      5436\n",
       "Name: DIVISION, dtype: int64"
      ]
     },
     "execution_count": 14,
     "metadata": {},
     "output_type": "execute_result"
    }
   ],
   "source": [
    "df['DIVISION'].value_counts()"
   ]
  },
  {
   "cell_type": "code",
   "execution_count": 15,
   "metadata": {},
   "outputs": [
    {
     "data": {
      "text/plain": [
       "REGULAR       2709955\n",
       "RECOVR AUD      11522\n",
       "Name: DESC, dtype: int64"
      ]
     },
     "execution_count": 15,
     "metadata": {},
     "output_type": "execute_result"
    }
   ],
   "source": [
    "df['DESC'].value_counts()"
   ]
  },
  {
   "cell_type": "code",
   "execution_count": 16,
   "metadata": {},
   "outputs": [
    {
     "data": {
      "text/plain": [
       "00-00-00    252686\n",
       "00-00-01    250981\n",
       "00-00-02    223093\n",
       "00-00-03    112618\n",
       "00-03-00     99010\n",
       "             ...  \n",
       "03-00-08         6\n",
       "01-02-08         5\n",
       "01-00-11         1\n",
       "01-00-10         1\n",
       "00-B8-02         1\n",
       "Name: SCP, Length: 227, dtype: int64"
      ]
     },
     "execution_count": 16,
     "metadata": {},
     "output_type": "execute_result"
    }
   ],
   "source": [
    "df['SCP'].value_counts()"
   ]
  },
  {
   "cell_type": "code",
   "execution_count": 17,
   "metadata": {},
   "outputs": [
    {
     "data": {
      "text/plain": [
       "DIVISION  STATION        \n",
       "BMT       1 AV               13092\n",
       "          104 ST              2188\n",
       "          111 ST              2166\n",
       "          121 ST              3234\n",
       "          14 ST-UNION SQ     14739\n",
       "                             ...  \n",
       "PTH       TWENTY THIRD ST     4633\n",
       "RIT       RIT-MANHATTAN       2164\n",
       "          RIT-ROOSEVELT       3272\n",
       "SRT       ST. GEORGE         13639\n",
       "          TOMPKINSVILLE       3822\n",
       "Length: 449, dtype: int64"
      ]
     },
     "execution_count": 17,
     "metadata": {},
     "output_type": "execute_result"
    }
   ],
   "source": [
    "df.groupby(['DIVISION', 'STATION']).size()"
   ]
  },
  {
   "cell_type": "markdown",
   "metadata": {},
   "source": [
    "### 3. Data Cleaning"
   ]
  },
  {
   "cell_type": "code",
   "execution_count": 18,
   "metadata": {},
   "outputs": [
    {
     "name": "stdout",
     "output_type": "stream",
     "text": [
      "<class 'pandas.core.frame.DataFrame'>\n",
      "Int64Index: 2721477 entries, 0 to 209462\n",
      "Data columns (total 11 columns):\n",
      " #   Column                                                                Dtype \n",
      "---  ------                                                                ----- \n",
      " 0   C/A                                                                   object\n",
      " 1   UNIT                                                                  object\n",
      " 2   SCP                                                                   object\n",
      " 3   STATION                                                               object\n",
      " 4   LINENAME                                                              object\n",
      " 5   DIVISION                                                              object\n",
      " 6   DATE                                                                  object\n",
      " 7   TIME                                                                  object\n",
      " 8   DESC                                                                  object\n",
      " 9   ENTRIES                                                               int64 \n",
      " 10  EXITS                                                                 int64 \n",
      "dtypes: int64(2), object(9)\n",
      "memory usage: 249.2+ MB\n"
     ]
    }
   ],
   "source": [
    "df.info()"
   ]
  },
  {
   "cell_type": "code",
   "execution_count": 19,
   "metadata": {},
   "outputs": [],
   "source": [
    "df.columns=[column.strip()for column in df.columns]"
   ]
  },
  {
   "cell_type": "code",
   "execution_count": 20,
   "metadata": {},
   "outputs": [
    {
     "name": "stdout",
     "output_type": "stream",
     "text": [
      "<class 'pandas.core.frame.DataFrame'>\n",
      "Int64Index: 2721477 entries, 0 to 209462\n",
      "Data columns (total 11 columns):\n",
      " #   Column    Dtype \n",
      "---  ------    ----- \n",
      " 0   C/A       object\n",
      " 1   UNIT      object\n",
      " 2   SCP       object\n",
      " 3   STATION   object\n",
      " 4   LINENAME  object\n",
      " 5   DIVISION  object\n",
      " 6   DATE      object\n",
      " 7   TIME      object\n",
      " 8   DESC      object\n",
      " 9   ENTRIES   int64 \n",
      " 10  EXITS     int64 \n",
      "dtypes: int64(2), object(9)\n",
      "memory usage: 249.2+ MB\n"
     ]
    }
   ],
   "source": [
    "df.info()"
   ]
  },
  {
   "cell_type": "markdown",
   "metadata": {},
   "source": [
    "#### Rename columns"
   ]
  },
  {
   "cell_type": "code",
   "execution_count": 21,
   "metadata": {},
   "outputs": [],
   "source": [
    "df.rename({'C/A': 'control_area', 'UNIT': 'unit','SCP':'subunit_channel_position','STATION':'station','LINENAME':'line_name','DIVISION':'division','DATE':'date','TIME':'time','DESC':'description','ENTRIES':'entries','EXITS':'exits'}, axis=1,inplace=True)"
   ]
  },
  {
   "cell_type": "code",
   "execution_count": 22,
   "metadata": {},
   "outputs": [
    {
     "name": "stdout",
     "output_type": "stream",
     "text": [
      "<class 'pandas.core.frame.DataFrame'>\n",
      "Int64Index: 2721477 entries, 0 to 209462\n",
      "Data columns (total 11 columns):\n",
      " #   Column                    Dtype \n",
      "---  ------                    ----- \n",
      " 0   control_area              object\n",
      " 1   unit                      object\n",
      " 2   subunit_channel_position  object\n",
      " 3   station                   object\n",
      " 4   line_name                 object\n",
      " 5   division                  object\n",
      " 6   date                      object\n",
      " 7   time                      object\n",
      " 8   description               object\n",
      " 9   entries                   int64 \n",
      " 10  exits                     int64 \n",
      "dtypes: int64(2), object(9)\n",
      "memory usage: 249.2+ MB\n"
     ]
    }
   ],
   "source": [
    "df.info()"
   ]
  },
  {
   "cell_type": "code",
   "execution_count": 23,
   "metadata": {},
   "outputs": [
    {
     "data": {
      "text/plain": [
       "2721477"
      ]
     },
     "execution_count": 23,
     "metadata": {},
     "output_type": "execute_result"
    }
   ],
   "source": [
    "df.shape[0]"
   ]
  },
  {
   "cell_type": "code",
   "execution_count": 24,
   "metadata": {},
   "outputs": [
    {
     "data": {
      "text/plain": [
       "control_area                0\n",
       "unit                        0\n",
       "subunit_channel_position    0\n",
       "station                     0\n",
       "line_name                   0\n",
       "division                    0\n",
       "date                        0\n",
       "time                        0\n",
       "description                 0\n",
       "entries                     0\n",
       "exits                       0\n",
       "dtype: int64"
      ]
     },
     "execution_count": 24,
     "metadata": {},
     "output_type": "execute_result"
    }
   ],
   "source": [
    "df.isna().sum()"
   ]
  },
  {
   "cell_type": "markdown",
   "metadata": {},
   "source": [
    "#### No null values"
   ]
  },
  {
   "cell_type": "code",
   "execution_count": 25,
   "metadata": {},
   "outputs": [],
   "source": [
    "df =df[df['description'] != 'RECOVR AUD' ]"
   ]
  },
  {
   "cell_type": "markdown",
   "metadata": {},
   "source": [
    "#### Drop duplicate"
   ]
  },
  {
   "cell_type": "code",
   "execution_count": 26,
   "metadata": {},
   "outputs": [],
   "source": [
    "df.drop_duplicates(inplace=True)"
   ]
  },
  {
   "cell_type": "code",
   "execution_count": 27,
   "metadata": {},
   "outputs": [
    {
     "data": {
      "text/plain": [
       "REGULAR    2709955\n",
       "Name: description, dtype: int64"
      ]
     },
     "execution_count": 27,
     "metadata": {},
     "output_type": "execute_result"
    }
   ],
   "source": [
    "df['description'].value_counts()"
   ]
  },
  {
   "cell_type": "code",
   "execution_count": 28,
   "metadata": {},
   "outputs": [
    {
     "data": {
      "text/plain": [
       "REGULAR    2709955\n",
       "Name: description, dtype: int64"
      ]
     },
     "execution_count": 28,
     "metadata": {},
     "output_type": "execute_result"
    }
   ],
   "source": [
    "df.description.value_counts()"
   ]
  },
  {
   "cell_type": "code",
   "execution_count": 29,
   "metadata": {},
   "outputs": [],
   "source": [
    "df[\"date_time\"] = pd.to_datetime(df.date + \" \" + df.time, \n",
    "                                            format=\"%m/%d/%Y %H:%M:%S\")"
   ]
  },
  {
   "cell_type": "code",
   "execution_count": 30,
   "metadata": {
    "scrolled": true
   },
   "outputs": [
    {
     "data": {
      "text/html": [
       "<div>\n",
       "<style scoped>\n",
       "    .dataframe tbody tr th:only-of-type {\n",
       "        vertical-align: middle;\n",
       "    }\n",
       "\n",
       "    .dataframe tbody tr th {\n",
       "        vertical-align: top;\n",
       "    }\n",
       "\n",
       "    .dataframe thead th {\n",
       "        text-align: right;\n",
       "    }\n",
       "</style>\n",
       "<table border=\"1\" class=\"dataframe\">\n",
       "  <thead>\n",
       "    <tr style=\"text-align: right;\">\n",
       "      <th></th>\n",
       "      <th>control_area</th>\n",
       "      <th>unit</th>\n",
       "      <th>subunit_channel_position</th>\n",
       "      <th>station</th>\n",
       "      <th>date_time</th>\n",
       "      <th>entries</th>\n",
       "    </tr>\n",
       "  </thead>\n",
       "  <tbody>\n",
       "    <tr>\n",
       "      <th>0</th>\n",
       "      <td>A002</td>\n",
       "      <td>R051</td>\n",
       "      <td>02-00-00</td>\n",
       "      <td>59 ST</td>\n",
       "      <td>2021-04-24 00:00:00</td>\n",
       "      <td>1</td>\n",
       "    </tr>\n",
       "    <tr>\n",
       "      <th>1806631</th>\n",
       "      <td>R138</td>\n",
       "      <td>R293</td>\n",
       "      <td>00-03-02</td>\n",
       "      <td>34 ST-PENN STA</td>\n",
       "      <td>2021-06-03 22:00:00</td>\n",
       "      <td>1</td>\n",
       "    </tr>\n",
       "    <tr>\n",
       "      <th>1806633</th>\n",
       "      <td>R138</td>\n",
       "      <td>R293</td>\n",
       "      <td>00-03-02</td>\n",
       "      <td>34 ST-PENN STA</td>\n",
       "      <td>2021-06-04 06:00:00</td>\n",
       "      <td>1</td>\n",
       "    </tr>\n",
       "    <tr>\n",
       "      <th>1806634</th>\n",
       "      <td>R138</td>\n",
       "      <td>R293</td>\n",
       "      <td>00-03-02</td>\n",
       "      <td>34 ST-PENN STA</td>\n",
       "      <td>2021-06-04 10:00:00</td>\n",
       "      <td>1</td>\n",
       "    </tr>\n",
       "    <tr>\n",
       "      <th>1806635</th>\n",
       "      <td>R138</td>\n",
       "      <td>R293</td>\n",
       "      <td>00-03-02</td>\n",
       "      <td>34 ST-PENN STA</td>\n",
       "      <td>2021-06-04 10:28:37</td>\n",
       "      <td>1</td>\n",
       "    </tr>\n",
       "  </tbody>\n",
       "</table>\n",
       "</div>"
      ],
      "text/plain": [
       "        control_area  unit subunit_channel_position         station  \\\n",
       "0               A002  R051                 02-00-00           59 ST   \n",
       "1806631         R138  R293                 00-03-02  34 ST-PENN STA   \n",
       "1806633         R138  R293                 00-03-02  34 ST-PENN STA   \n",
       "1806634         R138  R293                 00-03-02  34 ST-PENN STA   \n",
       "1806635         R138  R293                 00-03-02  34 ST-PENN STA   \n",
       "\n",
       "                  date_time  entries  \n",
       "0       2021-04-24 00:00:00        1  \n",
       "1806631 2021-06-03 22:00:00        1  \n",
       "1806633 2021-06-04 06:00:00        1  \n",
       "1806634 2021-06-04 10:00:00        1  \n",
       "1806635 2021-06-04 10:28:37        1  "
      ]
     },
     "execution_count": 30,
     "metadata": {},
     "output_type": "execute_result"
    }
   ],
   "source": [
    "#Check that there is no duplicate\n",
    "(df\n",
    " .groupby([\"control_area\", \"unit\", \"subunit_channel_position\", \"station\", \"date_time\"])\n",
    " .entries.count()\n",
    " .reset_index()\n",
    " .sort_values(\"entries\", ascending=False)).head(5)\n"
   ]
  },
  {
   "cell_type": "markdown",
   "metadata": {},
   "source": [
    "#### No more duplicate"
   ]
  },
  {
   "cell_type": "code",
   "execution_count": 31,
   "metadata": {},
   "outputs": [
    {
     "name": "stdout",
     "output_type": "stream",
     "text": [
      "<class 'pandas.core.frame.DataFrame'>\n",
      "Int64Index: 2709955 entries, 0 to 209462\n",
      "Data columns (total 12 columns):\n",
      " #   Column                    Dtype         \n",
      "---  ------                    -----         \n",
      " 0   control_area              object        \n",
      " 1   unit                      object        \n",
      " 2   subunit_channel_position  object        \n",
      " 3   station                   object        \n",
      " 4   line_name                 object        \n",
      " 5   division                  object        \n",
      " 6   date                      object        \n",
      " 7   time                      object        \n",
      " 8   description               object        \n",
      " 9   entries                   int64         \n",
      " 10  exits                     int64         \n",
      " 11  date_time                 datetime64[ns]\n",
      "dtypes: datetime64[ns](1), int64(2), object(9)\n",
      "memory usage: 268.8+ MB\n"
     ]
    }
   ],
   "source": [
    "df.info()"
   ]
  },
  {
   "cell_type": "code",
   "execution_count": 32,
   "metadata": {},
   "outputs": [
    {
     "data": {
      "text/html": [
       "<div>\n",
       "<style scoped>\n",
       "    .dataframe tbody tr th:only-of-type {\n",
       "        vertical-align: middle;\n",
       "    }\n",
       "\n",
       "    .dataframe tbody tr th {\n",
       "        vertical-align: top;\n",
       "    }\n",
       "\n",
       "    .dataframe thead th {\n",
       "        text-align: right;\n",
       "    }\n",
       "</style>\n",
       "<table border=\"1\" class=\"dataframe\">\n",
       "  <thead>\n",
       "    <tr style=\"text-align: right;\">\n",
       "      <th></th>\n",
       "      <th>control_area</th>\n",
       "      <th>unit</th>\n",
       "      <th>subunit_channel_position</th>\n",
       "      <th>station</th>\n",
       "      <th>line_name</th>\n",
       "      <th>division</th>\n",
       "      <th>date</th>\n",
       "      <th>time</th>\n",
       "      <th>description</th>\n",
       "      <th>entries</th>\n",
       "      <th>exits</th>\n",
       "      <th>date_time</th>\n",
       "    </tr>\n",
       "  </thead>\n",
       "  <tbody>\n",
       "    <tr>\n",
       "      <th>0</th>\n",
       "      <td>A002</td>\n",
       "      <td>R051</td>\n",
       "      <td>02-00-00</td>\n",
       "      <td>59 ST</td>\n",
       "      <td>NQR456W</td>\n",
       "      <td>BMT</td>\n",
       "      <td>04/24/2021</td>\n",
       "      <td>00:00:00</td>\n",
       "      <td>REGULAR</td>\n",
       "      <td>7561288</td>\n",
       "      <td>2582898</td>\n",
       "      <td>2021-04-24 00:00:00</td>\n",
       "    </tr>\n",
       "    <tr>\n",
       "      <th>1</th>\n",
       "      <td>A002</td>\n",
       "      <td>R051</td>\n",
       "      <td>02-00-00</td>\n",
       "      <td>59 ST</td>\n",
       "      <td>NQR456W</td>\n",
       "      <td>BMT</td>\n",
       "      <td>04/24/2021</td>\n",
       "      <td>04:00:00</td>\n",
       "      <td>REGULAR</td>\n",
       "      <td>7561295</td>\n",
       "      <td>2582903</td>\n",
       "      <td>2021-04-24 04:00:00</td>\n",
       "    </tr>\n",
       "    <tr>\n",
       "      <th>2</th>\n",
       "      <td>A002</td>\n",
       "      <td>R051</td>\n",
       "      <td>02-00-00</td>\n",
       "      <td>59 ST</td>\n",
       "      <td>NQR456W</td>\n",
       "      <td>BMT</td>\n",
       "      <td>04/24/2021</td>\n",
       "      <td>08:00:00</td>\n",
       "      <td>REGULAR</td>\n",
       "      <td>7561302</td>\n",
       "      <td>2582918</td>\n",
       "      <td>2021-04-24 08:00:00</td>\n",
       "    </tr>\n",
       "    <tr>\n",
       "      <th>3</th>\n",
       "      <td>A002</td>\n",
       "      <td>R051</td>\n",
       "      <td>02-00-00</td>\n",
       "      <td>59 ST</td>\n",
       "      <td>NQR456W</td>\n",
       "      <td>BMT</td>\n",
       "      <td>04/24/2021</td>\n",
       "      <td>12:00:00</td>\n",
       "      <td>REGULAR</td>\n",
       "      <td>7561336</td>\n",
       "      <td>2582977</td>\n",
       "      <td>2021-04-24 12:00:00</td>\n",
       "    </tr>\n",
       "    <tr>\n",
       "      <th>4</th>\n",
       "      <td>A002</td>\n",
       "      <td>R051</td>\n",
       "      <td>02-00-00</td>\n",
       "      <td>59 ST</td>\n",
       "      <td>NQR456W</td>\n",
       "      <td>BMT</td>\n",
       "      <td>04/24/2021</td>\n",
       "      <td>16:00:00</td>\n",
       "      <td>REGULAR</td>\n",
       "      <td>7561426</td>\n",
       "      <td>2583008</td>\n",
       "      <td>2021-04-24 16:00:00</td>\n",
       "    </tr>\n",
       "  </tbody>\n",
       "</table>\n",
       "</div>"
      ],
      "text/plain": [
       "  control_area  unit subunit_channel_position station line_name division  \\\n",
       "0         A002  R051                 02-00-00   59 ST   NQR456W      BMT   \n",
       "1         A002  R051                 02-00-00   59 ST   NQR456W      BMT   \n",
       "2         A002  R051                 02-00-00   59 ST   NQR456W      BMT   \n",
       "3         A002  R051                 02-00-00   59 ST   NQR456W      BMT   \n",
       "4         A002  R051                 02-00-00   59 ST   NQR456W      BMT   \n",
       "\n",
       "         date      time description  entries    exits           date_time  \n",
       "0  04/24/2021  00:00:00     REGULAR  7561288  2582898 2021-04-24 00:00:00  \n",
       "1  04/24/2021  04:00:00     REGULAR  7561295  2582903 2021-04-24 04:00:00  \n",
       "2  04/24/2021  08:00:00     REGULAR  7561302  2582918 2021-04-24 08:00:00  \n",
       "3  04/24/2021  12:00:00     REGULAR  7561336  2582977 2021-04-24 12:00:00  \n",
       "4  04/24/2021  16:00:00     REGULAR  7561426  2583008 2021-04-24 16:00:00  "
      ]
     },
     "execution_count": 32,
     "metadata": {},
     "output_type": "execute_result"
    }
   ],
   "source": [
    "df.head()"
   ]
  },
  {
   "cell_type": "markdown",
   "metadata": {},
   "source": [
    "#### Make a turnstile dataframe"
   ]
  },
  {
   "cell_type": "code",
   "execution_count": 33,
   "metadata": {},
   "outputs": [],
   "source": [
    "turnstiles_daily = (df\n",
    "                        .groupby([\"control_area\", \"unit\", \"subunit_channel_position\", \"station\", \"date\"],as_index=False)\n",
    "                        .entries.first())"
   ]
  },
  {
   "cell_type": "code",
   "execution_count": 34,
   "metadata": {},
   "outputs": [
    {
     "data": {
      "text/html": [
       "<div>\n",
       "<style scoped>\n",
       "    .dataframe tbody tr th:only-of-type {\n",
       "        vertical-align: middle;\n",
       "    }\n",
       "\n",
       "    .dataframe tbody tr th {\n",
       "        vertical-align: top;\n",
       "    }\n",
       "\n",
       "    .dataframe thead th {\n",
       "        text-align: right;\n",
       "    }\n",
       "</style>\n",
       "<table border=\"1\" class=\"dataframe\">\n",
       "  <thead>\n",
       "    <tr style=\"text-align: right;\">\n",
       "      <th></th>\n",
       "      <th>control_area</th>\n",
       "      <th>unit</th>\n",
       "      <th>subunit_channel_position</th>\n",
       "      <th>station</th>\n",
       "      <th>date</th>\n",
       "      <th>entries</th>\n",
       "    </tr>\n",
       "  </thead>\n",
       "  <tbody>\n",
       "    <tr>\n",
       "      <th>0</th>\n",
       "      <td>A002</td>\n",
       "      <td>R051</td>\n",
       "      <td>02-00-00</td>\n",
       "      <td>59 ST</td>\n",
       "      <td>04/24/2021</td>\n",
       "      <td>7561288</td>\n",
       "    </tr>\n",
       "    <tr>\n",
       "      <th>1</th>\n",
       "      <td>A002</td>\n",
       "      <td>R051</td>\n",
       "      <td>02-00-00</td>\n",
       "      <td>59 ST</td>\n",
       "      <td>04/25/2021</td>\n",
       "      <td>7561638</td>\n",
       "    </tr>\n",
       "    <tr>\n",
       "      <th>2</th>\n",
       "      <td>A002</td>\n",
       "      <td>R051</td>\n",
       "      <td>02-00-00</td>\n",
       "      <td>59 ST</td>\n",
       "      <td>04/26/2021</td>\n",
       "      <td>7561870</td>\n",
       "    </tr>\n",
       "    <tr>\n",
       "      <th>3</th>\n",
       "      <td>A002</td>\n",
       "      <td>R051</td>\n",
       "      <td>02-00-00</td>\n",
       "      <td>59 ST</td>\n",
       "      <td>04/27/2021</td>\n",
       "      <td>7562365</td>\n",
       "    </tr>\n",
       "    <tr>\n",
       "      <th>4</th>\n",
       "      <td>A002</td>\n",
       "      <td>R051</td>\n",
       "      <td>02-00-00</td>\n",
       "      <td>59 ST</td>\n",
       "      <td>04/28/2021</td>\n",
       "      <td>7562953</td>\n",
       "    </tr>\n",
       "  </tbody>\n",
       "</table>\n",
       "</div>"
      ],
      "text/plain": [
       "  control_area  unit subunit_channel_position station        date  entries\n",
       "0         A002  R051                 02-00-00   59 ST  04/24/2021  7561288\n",
       "1         A002  R051                 02-00-00   59 ST  04/25/2021  7561638\n",
       "2         A002  R051                 02-00-00   59 ST  04/26/2021  7561870\n",
       "3         A002  R051                 02-00-00   59 ST  04/27/2021  7562365\n",
       "4         A002  R051                 02-00-00   59 ST  04/28/2021  7562953"
      ]
     },
     "execution_count": 34,
     "metadata": {},
     "output_type": "execute_result"
    }
   ],
   "source": [
    "turnstiles_daily.head()"
   ]
  },
  {
   "cell_type": "markdown",
   "metadata": {},
   "source": [
    "#### adding a new columns in turnstile dataframe"
   ]
  },
  {
   "cell_type": "code",
   "execution_count": 35,
   "metadata": {},
   "outputs": [
    {
     "name": "stderr",
     "output_type": "stream",
     "text": [
      "<ipython-input-35-0df0482dca0c>:1: FutureWarning: Indexing with multiple keys (implicitly converted to a tuple of keys) will be deprecated, use a list instead.\n",
      "  turnstiles_daily[[\"pre_date\", \"pre_entries\"]] = (turnstiles_daily\n"
     ]
    }
   ],
   "source": [
    "turnstiles_daily[[\"pre_date\", \"pre_entries\"]] = (turnstiles_daily\n",
    "                                                       .groupby([\"control_area\", \"unit\", \"subunit_channel_position\", \"station\"])[\"date\", \"entries\"]\n",
    "                                                       .apply(lambda grp: grp.shift(1)))\n",
    "#apply the shift function by 1"
   ]
  },
  {
   "cell_type": "code",
   "execution_count": 36,
   "metadata": {},
   "outputs": [],
   "source": [
    "turnstiles_daily[\"diff\"] = (turnstiles_daily\n",
    "                                                       .groupby([\"control_area\", \"unit\", \"subunit_channel_position\", \"station\"])[\"entries\"]\n",
    "                                                       .apply(lambda x: x.diff()))"
   ]
  },
  {
   "cell_type": "code",
   "execution_count": 37,
   "metadata": {},
   "outputs": [
    {
     "data": {
      "text/html": [
       "<div>\n",
       "<style scoped>\n",
       "    .dataframe tbody tr th:only-of-type {\n",
       "        vertical-align: middle;\n",
       "    }\n",
       "\n",
       "    .dataframe tbody tr th {\n",
       "        vertical-align: top;\n",
       "    }\n",
       "\n",
       "    .dataframe thead th {\n",
       "        text-align: right;\n",
       "    }\n",
       "</style>\n",
       "<table border=\"1\" class=\"dataframe\">\n",
       "  <thead>\n",
       "    <tr style=\"text-align: right;\">\n",
       "      <th></th>\n",
       "      <th>control_area</th>\n",
       "      <th>unit</th>\n",
       "      <th>subunit_channel_position</th>\n",
       "      <th>station</th>\n",
       "      <th>date</th>\n",
       "      <th>entries</th>\n",
       "      <th>pre_date</th>\n",
       "      <th>pre_entries</th>\n",
       "      <th>diff</th>\n",
       "    </tr>\n",
       "  </thead>\n",
       "  <tbody>\n",
       "    <tr>\n",
       "      <th>0</th>\n",
       "      <td>A002</td>\n",
       "      <td>R051</td>\n",
       "      <td>02-00-00</td>\n",
       "      <td>59 ST</td>\n",
       "      <td>04/24/2021</td>\n",
       "      <td>7561288</td>\n",
       "      <td>NaN</td>\n",
       "      <td>NaN</td>\n",
       "      <td>NaN</td>\n",
       "    </tr>\n",
       "    <tr>\n",
       "      <th>1</th>\n",
       "      <td>A002</td>\n",
       "      <td>R051</td>\n",
       "      <td>02-00-00</td>\n",
       "      <td>59 ST</td>\n",
       "      <td>04/25/2021</td>\n",
       "      <td>7561638</td>\n",
       "      <td>04/24/2021</td>\n",
       "      <td>7561288.0</td>\n",
       "      <td>350.0</td>\n",
       "    </tr>\n",
       "    <tr>\n",
       "      <th>2</th>\n",
       "      <td>A002</td>\n",
       "      <td>R051</td>\n",
       "      <td>02-00-00</td>\n",
       "      <td>59 ST</td>\n",
       "      <td>04/26/2021</td>\n",
       "      <td>7561870</td>\n",
       "      <td>04/25/2021</td>\n",
       "      <td>7561638.0</td>\n",
       "      <td>232.0</td>\n",
       "    </tr>\n",
       "    <tr>\n",
       "      <th>3</th>\n",
       "      <td>A002</td>\n",
       "      <td>R051</td>\n",
       "      <td>02-00-00</td>\n",
       "      <td>59 ST</td>\n",
       "      <td>04/27/2021</td>\n",
       "      <td>7562365</td>\n",
       "      <td>04/26/2021</td>\n",
       "      <td>7561870.0</td>\n",
       "      <td>495.0</td>\n",
       "    </tr>\n",
       "    <tr>\n",
       "      <th>4</th>\n",
       "      <td>A002</td>\n",
       "      <td>R051</td>\n",
       "      <td>02-00-00</td>\n",
       "      <td>59 ST</td>\n",
       "      <td>04/28/2021</td>\n",
       "      <td>7562953</td>\n",
       "      <td>04/27/2021</td>\n",
       "      <td>7562365.0</td>\n",
       "      <td>588.0</td>\n",
       "    </tr>\n",
       "  </tbody>\n",
       "</table>\n",
       "</div>"
      ],
      "text/plain": [
       "  control_area  unit subunit_channel_position station        date  entries  \\\n",
       "0         A002  R051                 02-00-00   59 ST  04/24/2021  7561288   \n",
       "1         A002  R051                 02-00-00   59 ST  04/25/2021  7561638   \n",
       "2         A002  R051                 02-00-00   59 ST  04/26/2021  7561870   \n",
       "3         A002  R051                 02-00-00   59 ST  04/27/2021  7562365   \n",
       "4         A002  R051                 02-00-00   59 ST  04/28/2021  7562953   \n",
       "\n",
       "     pre_date  pre_entries   diff  \n",
       "0         NaN          NaN    NaN  \n",
       "1  04/24/2021    7561288.0  350.0  \n",
       "2  04/25/2021    7561638.0  232.0  \n",
       "3  04/26/2021    7561870.0  495.0  \n",
       "4  04/27/2021    7562365.0  588.0  "
      ]
     },
     "execution_count": 37,
     "metadata": {},
     "output_type": "execute_result"
    }
   ],
   "source": [
    "turnstiles_daily.head()"
   ]
  },
  {
   "cell_type": "code",
   "execution_count": 38,
   "metadata": {},
   "outputs": [
    {
     "data": {
      "text/html": [
       "<div>\n",
       "<style scoped>\n",
       "    .dataframe tbody tr th:only-of-type {\n",
       "        vertical-align: middle;\n",
       "    }\n",
       "\n",
       "    .dataframe tbody tr th {\n",
       "        vertical-align: top;\n",
       "    }\n",
       "\n",
       "    .dataframe thead th {\n",
       "        text-align: right;\n",
       "    }\n",
       "</style>\n",
       "<table border=\"1\" class=\"dataframe\">\n",
       "  <thead>\n",
       "    <tr style=\"text-align: right;\">\n",
       "      <th></th>\n",
       "      <th>control_area</th>\n",
       "      <th>unit</th>\n",
       "      <th>subunit_channel_position</th>\n",
       "      <th>station</th>\n",
       "      <th>date</th>\n",
       "      <th>entries</th>\n",
       "      <th>pre_date</th>\n",
       "      <th>pre_entries</th>\n",
       "      <th>diff</th>\n",
       "    </tr>\n",
       "  </thead>\n",
       "  <tbody>\n",
       "    <tr>\n",
       "      <th>454074</th>\n",
       "      <td>TRAM2</td>\n",
       "      <td>R469</td>\n",
       "      <td>00-05-01</td>\n",
       "      <td>RIT-ROOSEVELT</td>\n",
       "      <td>07/26/2021</td>\n",
       "      <td>5554</td>\n",
       "      <td>07/25/2021</td>\n",
       "      <td>5554.0</td>\n",
       "      <td>0.0</td>\n",
       "    </tr>\n",
       "    <tr>\n",
       "      <th>454075</th>\n",
       "      <td>TRAM2</td>\n",
       "      <td>R469</td>\n",
       "      <td>00-05-01</td>\n",
       "      <td>RIT-ROOSEVELT</td>\n",
       "      <td>07/27/2021</td>\n",
       "      <td>5554</td>\n",
       "      <td>07/26/2021</td>\n",
       "      <td>5554.0</td>\n",
       "      <td>0.0</td>\n",
       "    </tr>\n",
       "    <tr>\n",
       "      <th>454076</th>\n",
       "      <td>TRAM2</td>\n",
       "      <td>R469</td>\n",
       "      <td>00-05-01</td>\n",
       "      <td>RIT-ROOSEVELT</td>\n",
       "      <td>07/28/2021</td>\n",
       "      <td>5554</td>\n",
       "      <td>07/27/2021</td>\n",
       "      <td>5554.0</td>\n",
       "      <td>0.0</td>\n",
       "    </tr>\n",
       "    <tr>\n",
       "      <th>454077</th>\n",
       "      <td>TRAM2</td>\n",
       "      <td>R469</td>\n",
       "      <td>00-05-01</td>\n",
       "      <td>RIT-ROOSEVELT</td>\n",
       "      <td>07/29/2021</td>\n",
       "      <td>5554</td>\n",
       "      <td>07/28/2021</td>\n",
       "      <td>5554.0</td>\n",
       "      <td>0.0</td>\n",
       "    </tr>\n",
       "    <tr>\n",
       "      <th>454078</th>\n",
       "      <td>TRAM2</td>\n",
       "      <td>R469</td>\n",
       "      <td>00-05-01</td>\n",
       "      <td>RIT-ROOSEVELT</td>\n",
       "      <td>07/30/2021</td>\n",
       "      <td>5554</td>\n",
       "      <td>07/29/2021</td>\n",
       "      <td>5554.0</td>\n",
       "      <td>0.0</td>\n",
       "    </tr>\n",
       "  </tbody>\n",
       "</table>\n",
       "</div>"
      ],
      "text/plain": [
       "       control_area  unit subunit_channel_position        station        date  \\\n",
       "454074        TRAM2  R469                 00-05-01  RIT-ROOSEVELT  07/26/2021   \n",
       "454075        TRAM2  R469                 00-05-01  RIT-ROOSEVELT  07/27/2021   \n",
       "454076        TRAM2  R469                 00-05-01  RIT-ROOSEVELT  07/28/2021   \n",
       "454077        TRAM2  R469                 00-05-01  RIT-ROOSEVELT  07/29/2021   \n",
       "454078        TRAM2  R469                 00-05-01  RIT-ROOSEVELT  07/30/2021   \n",
       "\n",
       "        entries    pre_date  pre_entries  diff  \n",
       "454074     5554  07/25/2021       5554.0   0.0  \n",
       "454075     5554  07/26/2021       5554.0   0.0  \n",
       "454076     5554  07/27/2021       5554.0   0.0  \n",
       "454077     5554  07/28/2021       5554.0   0.0  \n",
       "454078     5554  07/29/2021       5554.0   0.0  "
      ]
     },
     "execution_count": 38,
     "metadata": {},
     "output_type": "execute_result"
    }
   ],
   "source": [
    "turnstiles_daily.tail()"
   ]
  },
  {
   "cell_type": "code",
   "execution_count": 39,
   "metadata": {},
   "outputs": [],
   "source": [
    "# Drop the rows for the earliest date in the df\n",
    "turnstiles_daily.dropna(subset=[\"pre_date\",'pre_entries'], axis=0, inplace=True)"
   ]
  },
  {
   "cell_type": "code",
   "execution_count": 40,
   "metadata": {},
   "outputs": [
    {
     "data": {
      "text/plain": [
       "control_area                0\n",
       "unit                        0\n",
       "subunit_channel_position    0\n",
       "station                     0\n",
       "date                        0\n",
       "entries                     0\n",
       "pre_date                    0\n",
       "pre_entries                 0\n",
       "diff                        0\n",
       "dtype: int64"
      ]
     },
     "execution_count": 40,
     "metadata": {},
     "output_type": "execute_result"
    }
   ],
   "source": [
    "turnstiles_daily.isna().sum()"
   ]
  },
  {
   "cell_type": "code",
   "execution_count": 41,
   "metadata": {},
   "outputs": [
    {
     "data": {
      "text/html": [
       "<div>\n",
       "<style scoped>\n",
       "    .dataframe tbody tr th:only-of-type {\n",
       "        vertical-align: middle;\n",
       "    }\n",
       "\n",
       "    .dataframe tbody tr th {\n",
       "        vertical-align: top;\n",
       "    }\n",
       "\n",
       "    .dataframe thead th {\n",
       "        text-align: right;\n",
       "    }\n",
       "</style>\n",
       "<table border=\"1\" class=\"dataframe\">\n",
       "  <thead>\n",
       "    <tr style=\"text-align: right;\">\n",
       "      <th></th>\n",
       "      <th>control_area</th>\n",
       "      <th>unit</th>\n",
       "      <th>subunit_channel_position</th>\n",
       "      <th>station</th>\n",
       "      <th>date</th>\n",
       "      <th>entries</th>\n",
       "      <th>pre_date</th>\n",
       "      <th>pre_entries</th>\n",
       "      <th>diff</th>\n",
       "    </tr>\n",
       "  </thead>\n",
       "  <tbody>\n",
       "    <tr>\n",
       "      <th>3550</th>\n",
       "      <td>A011</td>\n",
       "      <td>R080</td>\n",
       "      <td>01-03-00</td>\n",
       "      <td>57 ST-7 AV</td>\n",
       "      <td>04/25/2021</td>\n",
       "      <td>885609559</td>\n",
       "      <td>04/24/2021</td>\n",
       "      <td>8.856097e+08</td>\n",
       "      <td>-166.0</td>\n",
       "    </tr>\n",
       "    <tr>\n",
       "      <th>3551</th>\n",
       "      <td>A011</td>\n",
       "      <td>R080</td>\n",
       "      <td>01-03-00</td>\n",
       "      <td>57 ST-7 AV</td>\n",
       "      <td>04/26/2021</td>\n",
       "      <td>885609408</td>\n",
       "      <td>04/25/2021</td>\n",
       "      <td>8.856096e+08</td>\n",
       "      <td>-151.0</td>\n",
       "    </tr>\n",
       "    <tr>\n",
       "      <th>3552</th>\n",
       "      <td>A011</td>\n",
       "      <td>R080</td>\n",
       "      <td>01-03-00</td>\n",
       "      <td>57 ST-7 AV</td>\n",
       "      <td>04/27/2021</td>\n",
       "      <td>885609207</td>\n",
       "      <td>04/26/2021</td>\n",
       "      <td>8.856094e+08</td>\n",
       "      <td>-201.0</td>\n",
       "    </tr>\n",
       "    <tr>\n",
       "      <th>3553</th>\n",
       "      <td>A011</td>\n",
       "      <td>R080</td>\n",
       "      <td>01-03-00</td>\n",
       "      <td>57 ST-7 AV</td>\n",
       "      <td>04/28/2021</td>\n",
       "      <td>885608991</td>\n",
       "      <td>04/27/2021</td>\n",
       "      <td>8.856092e+08</td>\n",
       "      <td>-216.0</td>\n",
       "    </tr>\n",
       "    <tr>\n",
       "      <th>3554</th>\n",
       "      <td>A011</td>\n",
       "      <td>R080</td>\n",
       "      <td>01-03-00</td>\n",
       "      <td>57 ST-7 AV</td>\n",
       "      <td>04/29/2021</td>\n",
       "      <td>885608748</td>\n",
       "      <td>04/28/2021</td>\n",
       "      <td>8.856090e+08</td>\n",
       "      <td>-243.0</td>\n",
       "    </tr>\n",
       "    <tr>\n",
       "      <th>...</th>\n",
       "      <td>...</td>\n",
       "      <td>...</td>\n",
       "      <td>...</td>\n",
       "      <td>...</td>\n",
       "      <td>...</td>\n",
       "      <td>...</td>\n",
       "      <td>...</td>\n",
       "      <td>...</td>\n",
       "      <td>...</td>\n",
       "    </tr>\n",
       "    <tr>\n",
       "      <th>450259</th>\n",
       "      <td>R730</td>\n",
       "      <td>R431</td>\n",
       "      <td>00-00-04</td>\n",
       "      <td>EASTCHSTER/DYRE</td>\n",
       "      <td>07/27/2021</td>\n",
       "      <td>1559803712</td>\n",
       "      <td>07/26/2021</td>\n",
       "      <td>1.559804e+09</td>\n",
       "      <td>-158.0</td>\n",
       "    </tr>\n",
       "    <tr>\n",
       "      <th>450260</th>\n",
       "      <td>R730</td>\n",
       "      <td>R431</td>\n",
       "      <td>00-00-04</td>\n",
       "      <td>EASTCHSTER/DYRE</td>\n",
       "      <td>07/28/2021</td>\n",
       "      <td>1559803547</td>\n",
       "      <td>07/27/2021</td>\n",
       "      <td>1.559804e+09</td>\n",
       "      <td>-165.0</td>\n",
       "    </tr>\n",
       "    <tr>\n",
       "      <th>450261</th>\n",
       "      <td>R730</td>\n",
       "      <td>R431</td>\n",
       "      <td>00-00-04</td>\n",
       "      <td>EASTCHSTER/DYRE</td>\n",
       "      <td>07/29/2021</td>\n",
       "      <td>1559803380</td>\n",
       "      <td>07/28/2021</td>\n",
       "      <td>1.559804e+09</td>\n",
       "      <td>-167.0</td>\n",
       "    </tr>\n",
       "    <tr>\n",
       "      <th>450262</th>\n",
       "      <td>R730</td>\n",
       "      <td>R431</td>\n",
       "      <td>00-00-04</td>\n",
       "      <td>EASTCHSTER/DYRE</td>\n",
       "      <td>07/30/2021</td>\n",
       "      <td>1559803230</td>\n",
       "      <td>07/29/2021</td>\n",
       "      <td>1.559803e+09</td>\n",
       "      <td>-150.0</td>\n",
       "    </tr>\n",
       "    <tr>\n",
       "      <th>453923</th>\n",
       "      <td>TRAM2</td>\n",
       "      <td>R469</td>\n",
       "      <td>00-05-00</td>\n",
       "      <td>RIT-ROOSEVELT</td>\n",
       "      <td>05/27/2021</td>\n",
       "      <td>0</td>\n",
       "      <td>05/26/2021</td>\n",
       "      <td>1.445503e+07</td>\n",
       "      <td>-14455033.0</td>\n",
       "    </tr>\n",
       "  </tbody>\n",
       "</table>\n",
       "<p>4227 rows × 9 columns</p>\n",
       "</div>"
      ],
      "text/plain": [
       "       control_area  unit subunit_channel_position          station  \\\n",
       "3550           A011  R080                 01-03-00       57 ST-7 AV   \n",
       "3551           A011  R080                 01-03-00       57 ST-7 AV   \n",
       "3552           A011  R080                 01-03-00       57 ST-7 AV   \n",
       "3553           A011  R080                 01-03-00       57 ST-7 AV   \n",
       "3554           A011  R080                 01-03-00       57 ST-7 AV   \n",
       "...             ...   ...                      ...              ...   \n",
       "450259         R730  R431                 00-00-04  EASTCHSTER/DYRE   \n",
       "450260         R730  R431                 00-00-04  EASTCHSTER/DYRE   \n",
       "450261         R730  R431                 00-00-04  EASTCHSTER/DYRE   \n",
       "450262         R730  R431                 00-00-04  EASTCHSTER/DYRE   \n",
       "453923        TRAM2  R469                 00-05-00    RIT-ROOSEVELT   \n",
       "\n",
       "              date     entries    pre_date   pre_entries        diff  \n",
       "3550    04/25/2021   885609559  04/24/2021  8.856097e+08      -166.0  \n",
       "3551    04/26/2021   885609408  04/25/2021  8.856096e+08      -151.0  \n",
       "3552    04/27/2021   885609207  04/26/2021  8.856094e+08      -201.0  \n",
       "3553    04/28/2021   885608991  04/27/2021  8.856092e+08      -216.0  \n",
       "3554    04/29/2021   885608748  04/28/2021  8.856090e+08      -243.0  \n",
       "...            ...         ...         ...           ...         ...  \n",
       "450259  07/27/2021  1559803712  07/26/2021  1.559804e+09      -158.0  \n",
       "450260  07/28/2021  1559803547  07/27/2021  1.559804e+09      -165.0  \n",
       "450261  07/29/2021  1559803380  07/28/2021  1.559804e+09      -167.0  \n",
       "450262  07/30/2021  1559803230  07/29/2021  1.559803e+09      -150.0  \n",
       "453923  05/27/2021           0  05/26/2021  1.445503e+07 -14455033.0  \n",
       "\n",
       "[4227 rows x 9 columns]"
      ]
     },
     "execution_count": 41,
     "metadata": {},
     "output_type": "execute_result"
    }
   ],
   "source": [
    "turnstiles_daily[turnstiles_daily[\"entries\"] < turnstiles_daily[\"pre_entries\"]]"
   ]
  },
  {
   "cell_type": "code",
   "execution_count": 42,
   "metadata": {},
   "outputs": [
    {
     "data": {
      "text/plain": [
       "42 ST-PORT AUTH    271\n",
       "DEKALB AV          268\n",
       "14 ST              180\n",
       "BAY PKWY           180\n",
       "GRD CNTRL-42 ST    160\n",
       "                  ... \n",
       "9TH STREET           1\n",
       "BERGEN ST            1\n",
       "145 ST               1\n",
       "52 ST                1\n",
       "66 ST-LINCOLN        1\n",
       "Name: station, Length: 115, dtype: int64"
      ]
     },
     "execution_count": 42,
     "metadata": {},
     "output_type": "execute_result"
    }
   ],
   "source": [
    "turnstiles_daily[\"station\"][turnstiles_daily[\"entries\"] < turnstiles_daily[\"pre_entries\"]].value_counts()"
   ]
  },
  {
   "cell_type": "code",
   "execution_count": 43,
   "metadata": {},
   "outputs": [
    {
     "data": {
      "text/html": [
       "<div>\n",
       "<style scoped>\n",
       "    .dataframe tbody tr th:only-of-type {\n",
       "        vertical-align: middle;\n",
       "    }\n",
       "\n",
       "    .dataframe tbody tr th {\n",
       "        vertical-align: top;\n",
       "    }\n",
       "\n",
       "    .dataframe thead th {\n",
       "        text-align: right;\n",
       "    }\n",
       "</style>\n",
       "<table border=\"1\" class=\"dataframe\">\n",
       "  <thead>\n",
       "    <tr style=\"text-align: right;\">\n",
       "      <th></th>\n",
       "      <th>control_area</th>\n",
       "      <th>unit</th>\n",
       "      <th>subunit_channel_position</th>\n",
       "      <th>station</th>\n",
       "      <th>date</th>\n",
       "      <th>entries</th>\n",
       "      <th>pre_date</th>\n",
       "      <th>pre_entries</th>\n",
       "      <th>diff</th>\n",
       "    </tr>\n",
       "  </thead>\n",
       "  <tbody>\n",
       "    <tr>\n",
       "      <th>3550</th>\n",
       "      <td>A011</td>\n",
       "      <td>R080</td>\n",
       "      <td>01-03-00</td>\n",
       "      <td>57 ST-7 AV</td>\n",
       "      <td>04/25/2021</td>\n",
       "      <td>885609559</td>\n",
       "      <td>04/24/2021</td>\n",
       "      <td>885609725.0</td>\n",
       "      <td>-166.0</td>\n",
       "    </tr>\n",
       "    <tr>\n",
       "      <th>3551</th>\n",
       "      <td>A011</td>\n",
       "      <td>R080</td>\n",
       "      <td>01-03-00</td>\n",
       "      <td>57 ST-7 AV</td>\n",
       "      <td>04/26/2021</td>\n",
       "      <td>885609408</td>\n",
       "      <td>04/25/2021</td>\n",
       "      <td>885609559.0</td>\n",
       "      <td>-151.0</td>\n",
       "    </tr>\n",
       "    <tr>\n",
       "      <th>3552</th>\n",
       "      <td>A011</td>\n",
       "      <td>R080</td>\n",
       "      <td>01-03-00</td>\n",
       "      <td>57 ST-7 AV</td>\n",
       "      <td>04/27/2021</td>\n",
       "      <td>885609207</td>\n",
       "      <td>04/26/2021</td>\n",
       "      <td>885609408.0</td>\n",
       "      <td>-201.0</td>\n",
       "    </tr>\n",
       "    <tr>\n",
       "      <th>3553</th>\n",
       "      <td>A011</td>\n",
       "      <td>R080</td>\n",
       "      <td>01-03-00</td>\n",
       "      <td>57 ST-7 AV</td>\n",
       "      <td>04/28/2021</td>\n",
       "      <td>885608991</td>\n",
       "      <td>04/27/2021</td>\n",
       "      <td>885609207.0</td>\n",
       "      <td>-216.0</td>\n",
       "    </tr>\n",
       "    <tr>\n",
       "      <th>3554</th>\n",
       "      <td>A011</td>\n",
       "      <td>R080</td>\n",
       "      <td>01-03-00</td>\n",
       "      <td>57 ST-7 AV</td>\n",
       "      <td>04/29/2021</td>\n",
       "      <td>885608748</td>\n",
       "      <td>04/28/2021</td>\n",
       "      <td>885608991.0</td>\n",
       "      <td>-243.0</td>\n",
       "    </tr>\n",
       "  </tbody>\n",
       "</table>\n",
       "</div>"
      ],
      "text/plain": [
       "     control_area  unit subunit_channel_position     station        date  \\\n",
       "3550         A011  R080                 01-03-00  57 ST-7 AV  04/25/2021   \n",
       "3551         A011  R080                 01-03-00  57 ST-7 AV  04/26/2021   \n",
       "3552         A011  R080                 01-03-00  57 ST-7 AV  04/27/2021   \n",
       "3553         A011  R080                 01-03-00  57 ST-7 AV  04/28/2021   \n",
       "3554         A011  R080                 01-03-00  57 ST-7 AV  04/29/2021   \n",
       "\n",
       "        entries    pre_date  pre_entries   diff  \n",
       "3550  885609559  04/24/2021  885609725.0 -166.0  \n",
       "3551  885609408  04/25/2021  885609559.0 -151.0  \n",
       "3552  885609207  04/26/2021  885609408.0 -201.0  \n",
       "3553  885608991  04/27/2021  885609207.0 -216.0  \n",
       "3554  885608748  04/28/2021  885608991.0 -243.0  "
      ]
     },
     "execution_count": 43,
     "metadata": {},
     "output_type": "execute_result"
    }
   ],
   "source": [
    "turnstiles_daily[turnstiles_daily[\"entries\"] < turnstiles_daily[\"pre_entries\"]].head()"
   ]
  },
  {
   "cell_type": "code",
   "execution_count": 44,
   "metadata": {},
   "outputs": [
    {
     "data": {
      "text/plain": [
       "control_area  unit  subunit_channel_position  station        \n",
       "A011          R080  01-03-00                  57 ST-7 AV         90\n",
       "                    01-03-03                  57 ST-7 AV          1\n",
       "                    01-03-04                  57 ST-7 AV          1\n",
       "A013          R081  01-06-01                  49 ST               2\n",
       "A014          R081  02-00-00                  49 ST               1\n",
       "                                                                 ..\n",
       "R612          R057  01-05-00                  ATL AV-BARCLAY      1\n",
       "R617          R058  00-00-02                  BERGEN ST           1\n",
       "R622          R123  00-00-00                  FRANKLIN AV        90\n",
       "R730          R431  00-00-04                  EASTCHSTER/DYRE    88\n",
       "TRAM2         R469  00-05-00                  RIT-ROOSEVELT       1\n",
       "Length: 214, dtype: int64"
      ]
     },
     "execution_count": 44,
     "metadata": {},
     "output_type": "execute_result"
    }
   ],
   "source": [
    "(turnstiles_daily[turnstiles_daily[\"entries\"] < turnstiles_daily[\"pre_entries\"]]\n",
    "    .groupby([\"control_area\", \"unit\", \"subunit_channel_position\", \"station\"])\n",
    "    .size())"
   ]
  },
  {
   "cell_type": "markdown",
   "metadata": {},
   "source": [
    "#### Fixing the order problem"
   ]
  },
  {
   "cell_type": "code",
   "execution_count": 45,
   "metadata": {},
   "outputs": [
    {
     "name": "stdout",
     "output_type": "stream",
     "text": [
      "3091 1390173.0\n",
      "1308 4340554.0\n",
      "14 1028362.0\n",
      "327680 756269765.0\n",
      "193 8049630.0\n",
      "0 5309746.0\n",
      "16 2651099.0\n",
      "30 2627867.0\n",
      "200 1605012.0\n",
      "6006 4298763.0\n",
      "237 8882974.0\n",
      "132 4454753.0\n",
      "189 7643368.0\n",
      "328039 7577096.0\n",
      "238 4780275.0\n",
      "4 1534984195.0\n",
      "67109632 14.0\n",
      "327682 67109640.0\n",
      "67109632 1.0\n",
      "15 67109632.0\n",
      "12517625 94.0\n",
      "95 5405384.0\n",
      "687970645 19471254.0\n",
      "30 7489966.0\n",
      "16777220 1037158.0\n",
      "271 6101347.0\n",
      "4825276 12538332.0\n",
      "12539185 4825276.0\n",
      "181 1657902.0\n",
      "231 2524688.0\n",
      "262156 2393343.0\n",
      "67437911 375578.0\n",
      "20 4070949.0\n",
      "35 58304767.0\n",
      "5430 2341294.0\n",
      "2 33030303.0\n",
      "572 5198164.0\n",
      "111 2320052.0\n",
      "302 1953511.0\n",
      "90 4788199.0\n",
      "393412 104110962.0\n",
      "118 909043446.0\n",
      "406 4470923.0\n",
      "197281 1891026.0\n",
      "196879 3277263.0\n",
      "87 303654987.0\n",
      "11 3145365.0\n",
      "35 10736984.0\n",
      "146668937 1123536132.0\n",
      "1191142633 12133821.0\n",
      "1441860 12919099.0\n",
      "13943214 8899046.0\n",
      "69 4183423.0\n",
      "199 1653251.0\n",
      "432 11851565.0\n",
      "24 1925928.0\n",
      "327683 50346231.0\n",
      "14455033 262146.0\n",
      "0 14455033.0\n"
     ]
    }
   ],
   "source": [
    "def get_daily_counts(row,max_counter):\n",
    "    counter=row['entries'] - row['pre_entries']\n",
    "    if counter<0:\n",
    "        counter= - counter\n",
    "    if counter >max_counter:\n",
    "        print(row['entries'],row['pre_entries'])\n",
    "        return 0\n",
    "    return counter\n",
    "\n",
    "x = turnstiles_daily.apply(get_daily_counts ,axis=1,max_counter=1000000)\n"
   ]
  },
  {
   "cell_type": "code",
   "execution_count": 46,
   "metadata": {},
   "outputs": [
    {
     "name": "stdout",
     "output_type": "stream",
     "text": [
      "3091 1390173.0\n",
      "1308 4340554.0\n",
      "14 1028362.0\n",
      "327680 756269765.0\n",
      "193 8049630.0\n",
      "0 5309746.0\n",
      "16 2651099.0\n",
      "30 2627867.0\n",
      "200 1605012.0\n",
      "6006 4298763.0\n",
      "237 8882974.0\n",
      "132 4454753.0\n",
      "189 7643368.0\n",
      "328039 7577096.0\n",
      "238 4780275.0\n",
      "4 1534984195.0\n",
      "67109632 14.0\n",
      "327682 67109640.0\n",
      "67109632 1.0\n",
      "15 67109632.0\n",
      "12517625 94.0\n",
      "95 5405384.0\n",
      "687970645 19471254.0\n",
      "30 7489966.0\n",
      "16777220 1037158.0\n",
      "271 6101347.0\n",
      "4825276 12538332.0\n",
      "12539185 4825276.0\n",
      "181 1657902.0\n",
      "231 2524688.0\n",
      "262156 2393343.0\n",
      "67437911 375578.0\n",
      "20 4070949.0\n",
      "35 58304767.0\n",
      "5430 2341294.0\n",
      "2 33030303.0\n",
      "572 5198164.0\n",
      "111 2320052.0\n",
      "302 1953511.0\n",
      "90 4788199.0\n",
      "393412 104110962.0\n",
      "118 909043446.0\n",
      "406 4470923.0\n",
      "197281 1891026.0\n",
      "196879 3277263.0\n",
      "87 303654987.0\n",
      "11 3145365.0\n",
      "35 10736984.0\n",
      "146668937 1123536132.0\n",
      "1191142633 12133821.0\n",
      "1441860 12919099.0\n",
      "13943214 8899046.0\n",
      "69 4183423.0\n",
      "199 1653251.0\n",
      "432 11851565.0\n",
      "24 1925928.0\n",
      "327683 50346231.0\n",
      "14455033 262146.0\n",
      "0 14455033.0\n"
     ]
    }
   ],
   "source": [
    "def get_daily_counts(row, max_counter):\n",
    "    counter = row[\"entries\"] - row[\"pre_entries\"]\n",
    "    if counter < 0:\n",
    "        # Maybe counter is reversed?\n",
    "        counter = -counter\n",
    "    if counter > max_counter:\n",
    "        # Maybe counter was reset to 0? \n",
    "        print(row[\"entries\"], row[\"pre_entries\"])\n",
    "        counter = min(row[\"entries\"], row[\"pre_entries\"])\n",
    "    if counter > max_counter:\n",
    "        # Check it again to make sure we're not still giving a counter that's too big\n",
    "        return 0\n",
    "    return counter\n",
    "\n",
    "# If counter is > 1Million, then the counter might have been reset.  \n",
    "# Just set it to zero as different counters have different cycle limits\n",
    "# It'd probably be a good idea to use a number even significantly smaller than 1 million as the limit!\n",
    "turnstiles_daily[\"daily_entries\"] = turnstiles_daily.apply(get_daily_counts, axis=1, max_counter=1000000)"
   ]
  },
  {
   "cell_type": "code",
   "execution_count": 47,
   "metadata": {},
   "outputs": [
    {
     "data": {
      "text/html": [
       "<div>\n",
       "<style scoped>\n",
       "    .dataframe tbody tr th:only-of-type {\n",
       "        vertical-align: middle;\n",
       "    }\n",
       "\n",
       "    .dataframe tbody tr th {\n",
       "        vertical-align: top;\n",
       "    }\n",
       "\n",
       "    .dataframe thead th {\n",
       "        text-align: right;\n",
       "    }\n",
       "</style>\n",
       "<table border=\"1\" class=\"dataframe\">\n",
       "  <thead>\n",
       "    <tr style=\"text-align: right;\">\n",
       "      <th></th>\n",
       "      <th>control_area</th>\n",
       "      <th>unit</th>\n",
       "      <th>subunit_channel_position</th>\n",
       "      <th>station</th>\n",
       "      <th>date</th>\n",
       "      <th>entries</th>\n",
       "      <th>pre_date</th>\n",
       "      <th>pre_entries</th>\n",
       "      <th>diff</th>\n",
       "      <th>daily_entries</th>\n",
       "    </tr>\n",
       "  </thead>\n",
       "  <tbody>\n",
       "    <tr>\n",
       "      <th>1</th>\n",
       "      <td>A002</td>\n",
       "      <td>R051</td>\n",
       "      <td>02-00-00</td>\n",
       "      <td>59 ST</td>\n",
       "      <td>04/25/2021</td>\n",
       "      <td>7561638</td>\n",
       "      <td>04/24/2021</td>\n",
       "      <td>7561288.0</td>\n",
       "      <td>350.0</td>\n",
       "      <td>350.0</td>\n",
       "    </tr>\n",
       "    <tr>\n",
       "      <th>2</th>\n",
       "      <td>A002</td>\n",
       "      <td>R051</td>\n",
       "      <td>02-00-00</td>\n",
       "      <td>59 ST</td>\n",
       "      <td>04/26/2021</td>\n",
       "      <td>7561870</td>\n",
       "      <td>04/25/2021</td>\n",
       "      <td>7561638.0</td>\n",
       "      <td>232.0</td>\n",
       "      <td>232.0</td>\n",
       "    </tr>\n",
       "    <tr>\n",
       "      <th>3</th>\n",
       "      <td>A002</td>\n",
       "      <td>R051</td>\n",
       "      <td>02-00-00</td>\n",
       "      <td>59 ST</td>\n",
       "      <td>04/27/2021</td>\n",
       "      <td>7562365</td>\n",
       "      <td>04/26/2021</td>\n",
       "      <td>7561870.0</td>\n",
       "      <td>495.0</td>\n",
       "      <td>495.0</td>\n",
       "    </tr>\n",
       "    <tr>\n",
       "      <th>4</th>\n",
       "      <td>A002</td>\n",
       "      <td>R051</td>\n",
       "      <td>02-00-00</td>\n",
       "      <td>59 ST</td>\n",
       "      <td>04/28/2021</td>\n",
       "      <td>7562953</td>\n",
       "      <td>04/27/2021</td>\n",
       "      <td>7562365.0</td>\n",
       "      <td>588.0</td>\n",
       "      <td>588.0</td>\n",
       "    </tr>\n",
       "  </tbody>\n",
       "</table>\n",
       "</div>"
      ],
      "text/plain": [
       "  control_area  unit subunit_channel_position station        date  entries  \\\n",
       "1         A002  R051                 02-00-00   59 ST  04/25/2021  7561638   \n",
       "2         A002  R051                 02-00-00   59 ST  04/26/2021  7561870   \n",
       "3         A002  R051                 02-00-00   59 ST  04/27/2021  7562365   \n",
       "4         A002  R051                 02-00-00   59 ST  04/28/2021  7562953   \n",
       "\n",
       "     pre_date  pre_entries   diff  daily_entries  \n",
       "1  04/24/2021    7561288.0  350.0          350.0  \n",
       "2  04/25/2021    7561638.0  232.0          232.0  \n",
       "3  04/26/2021    7561870.0  495.0          495.0  \n",
       "4  04/27/2021    7562365.0  588.0          588.0  "
      ]
     },
     "execution_count": 47,
     "metadata": {},
     "output_type": "execute_result"
    }
   ],
   "source": [
    "turnstiles_daily.head(4)"
   ]
  },
  {
   "cell_type": "code",
   "execution_count": 48,
   "metadata": {},
   "outputs": [
    {
     "data": {
      "text/html": [
       "<div>\n",
       "<style scoped>\n",
       "    .dataframe tbody tr th:only-of-type {\n",
       "        vertical-align: middle;\n",
       "    }\n",
       "\n",
       "    .dataframe tbody tr th {\n",
       "        vertical-align: top;\n",
       "    }\n",
       "\n",
       "    .dataframe thead th {\n",
       "        text-align: right;\n",
       "    }\n",
       "</style>\n",
       "<table border=\"1\" class=\"dataframe\">\n",
       "  <thead>\n",
       "    <tr style=\"text-align: right;\">\n",
       "      <th></th>\n",
       "      <th>control_area</th>\n",
       "      <th>unit</th>\n",
       "      <th>station</th>\n",
       "      <th>date</th>\n",
       "      <th>daily_entries</th>\n",
       "    </tr>\n",
       "  </thead>\n",
       "  <tbody>\n",
       "    <tr>\n",
       "      <th>0</th>\n",
       "      <td>A002</td>\n",
       "      <td>R051</td>\n",
       "      <td>59 ST</td>\n",
       "      <td>04/25/2021</td>\n",
       "      <td>3054.0</td>\n",
       "    </tr>\n",
       "    <tr>\n",
       "      <th>1</th>\n",
       "      <td>A002</td>\n",
       "      <td>R051</td>\n",
       "      <td>59 ST</td>\n",
       "      <td>04/26/2021</td>\n",
       "      <td>1872.0</td>\n",
       "    </tr>\n",
       "    <tr>\n",
       "      <th>2</th>\n",
       "      <td>A002</td>\n",
       "      <td>R051</td>\n",
       "      <td>59 ST</td>\n",
       "      <td>04/27/2021</td>\n",
       "      <td>4578.0</td>\n",
       "    </tr>\n",
       "    <tr>\n",
       "      <th>3</th>\n",
       "      <td>A002</td>\n",
       "      <td>R051</td>\n",
       "      <td>59 ST</td>\n",
       "      <td>04/28/2021</td>\n",
       "      <td>4827.0</td>\n",
       "    </tr>\n",
       "    <tr>\n",
       "      <th>4</th>\n",
       "      <td>A002</td>\n",
       "      <td>R051</td>\n",
       "      <td>59 ST</td>\n",
       "      <td>04/29/2021</td>\n",
       "      <td>4864.0</td>\n",
       "    </tr>\n",
       "  </tbody>\n",
       "</table>\n",
       "</div>"
      ],
      "text/plain": [
       "  control_area  unit station        date  daily_entries\n",
       "0         A002  R051   59 ST  04/25/2021         3054.0\n",
       "1         A002  R051   59 ST  04/26/2021         1872.0\n",
       "2         A002  R051   59 ST  04/27/2021         4578.0\n",
       "3         A002  R051   59 ST  04/28/2021         4827.0\n",
       "4         A002  R051   59 ST  04/29/2021         4864.0"
      ]
     },
     "execution_count": 48,
     "metadata": {},
     "output_type": "execute_result"
    }
   ],
   "source": [
    "ca_unit_station_daily = turnstiles_daily.groupby([\"control_area\", \"unit\", \"station\", \"date\"])[['daily_entries']].sum().reset_index()\n",
    "ca_unit_station_daily.head()"
   ]
  },
  {
   "cell_type": "code",
   "execution_count": 49,
   "metadata": {},
   "outputs": [
    {
     "data": {
      "text/html": [
       "<div>\n",
       "<style scoped>\n",
       "    .dataframe tbody tr th:only-of-type {\n",
       "        vertical-align: middle;\n",
       "    }\n",
       "\n",
       "    .dataframe tbody tr th {\n",
       "        vertical-align: top;\n",
       "    }\n",
       "\n",
       "    .dataframe thead th {\n",
       "        text-align: right;\n",
       "    }\n",
       "</style>\n",
       "<table border=\"1\" class=\"dataframe\">\n",
       "  <thead>\n",
       "    <tr style=\"text-align: right;\">\n",
       "      <th></th>\n",
       "      <th>station</th>\n",
       "      <th>date</th>\n",
       "      <th>daily_entries</th>\n",
       "    </tr>\n",
       "  </thead>\n",
       "  <tbody>\n",
       "    <tr>\n",
       "      <th>0</th>\n",
       "      <td>1 AV</td>\n",
       "      <td>04/25/2021</td>\n",
       "      <td>6588.0</td>\n",
       "    </tr>\n",
       "    <tr>\n",
       "      <th>1</th>\n",
       "      <td>1 AV</td>\n",
       "      <td>04/26/2021</td>\n",
       "      <td>4071.0</td>\n",
       "    </tr>\n",
       "    <tr>\n",
       "      <th>2</th>\n",
       "      <td>1 AV</td>\n",
       "      <td>04/27/2021</td>\n",
       "      <td>6767.0</td>\n",
       "    </tr>\n",
       "    <tr>\n",
       "      <th>3</th>\n",
       "      <td>1 AV</td>\n",
       "      <td>04/28/2021</td>\n",
       "      <td>6998.0</td>\n",
       "    </tr>\n",
       "    <tr>\n",
       "      <th>4</th>\n",
       "      <td>1 AV</td>\n",
       "      <td>04/29/2021</td>\n",
       "      <td>7224.0</td>\n",
       "    </tr>\n",
       "  </tbody>\n",
       "</table>\n",
       "</div>"
      ],
      "text/plain": [
       "  station        date  daily_entries\n",
       "0    1 AV  04/25/2021         6588.0\n",
       "1    1 AV  04/26/2021         4071.0\n",
       "2    1 AV  04/27/2021         6767.0\n",
       "3    1 AV  04/28/2021         6998.0\n",
       "4    1 AV  04/29/2021         7224.0"
      ]
     },
     "execution_count": 49,
     "metadata": {},
     "output_type": "execute_result"
    }
   ],
   "source": [
    "station_daily = turnstiles_daily.groupby([\"station\", \"date\"])[['daily_entries']].sum().reset_index()\n",
    "station_daily.head()"
   ]
  },
  {
   "cell_type": "markdown",
   "metadata": {},
   "source": [
    "#### The busiest station is 34 ST-PENN STA"
   ]
  },
  {
   "cell_type": "code",
   "execution_count": 50,
   "metadata": {},
   "outputs": [
    {
     "data": {
      "text/html": [
       "<div>\n",
       "<style scoped>\n",
       "    .dataframe tbody tr th:only-of-type {\n",
       "        vertical-align: middle;\n",
       "    }\n",
       "\n",
       "    .dataframe tbody tr th {\n",
       "        vertical-align: top;\n",
       "    }\n",
       "\n",
       "    .dataframe thead th {\n",
       "        text-align: right;\n",
       "    }\n",
       "</style>\n",
       "<table border=\"1\" class=\"dataframe\">\n",
       "  <thead>\n",
       "    <tr style=\"text-align: right;\">\n",
       "      <th></th>\n",
       "      <th>station</th>\n",
       "      <th>daily_entries</th>\n",
       "    </tr>\n",
       "  </thead>\n",
       "  <tbody>\n",
       "    <tr>\n",
       "      <th>0</th>\n",
       "      <td>34 ST-PENN STA</td>\n",
       "      <td>4799084.0</td>\n",
       "    </tr>\n",
       "    <tr>\n",
       "      <th>1</th>\n",
       "      <td>FULTON ST</td>\n",
       "      <td>4168143.0</td>\n",
       "    </tr>\n",
       "    <tr>\n",
       "      <th>2</th>\n",
       "      <td>PATH NEW WTC</td>\n",
       "      <td>3847055.0</td>\n",
       "    </tr>\n",
       "    <tr>\n",
       "      <th>3</th>\n",
       "      <td>34 ST-HERALD SQ</td>\n",
       "      <td>3762874.0</td>\n",
       "    </tr>\n",
       "    <tr>\n",
       "      <th>4</th>\n",
       "      <td>86 ST</td>\n",
       "      <td>3649763.0</td>\n",
       "    </tr>\n",
       "    <tr>\n",
       "      <th>...</th>\n",
       "      <td>...</td>\n",
       "      <td>...</td>\n",
       "    </tr>\n",
       "    <tr>\n",
       "      <th>374</th>\n",
       "      <td>TOMPKINSVILLE</td>\n",
       "      <td>26775.0</td>\n",
       "    </tr>\n",
       "    <tr>\n",
       "      <th>375</th>\n",
       "      <td>BEACH 98 ST</td>\n",
       "      <td>16321.0</td>\n",
       "    </tr>\n",
       "    <tr>\n",
       "      <th>376</th>\n",
       "      <td>BEACH 105 ST</td>\n",
       "      <td>11025.0</td>\n",
       "    </tr>\n",
       "    <tr>\n",
       "      <th>377</th>\n",
       "      <td>BROAD CHANNEL</td>\n",
       "      <td>10812.0</td>\n",
       "    </tr>\n",
       "    <tr>\n",
       "      <th>378</th>\n",
       "      <td>ORCHARD BEACH</td>\n",
       "      <td>382.0</td>\n",
       "    </tr>\n",
       "  </tbody>\n",
       "</table>\n",
       "<p>379 rows × 2 columns</p>\n",
       "</div>"
      ],
      "text/plain": [
       "             station  daily_entries\n",
       "0     34 ST-PENN STA      4799084.0\n",
       "1          FULTON ST      4168143.0\n",
       "2       PATH NEW WTC      3847055.0\n",
       "3    34 ST-HERALD SQ      3762874.0\n",
       "4              86 ST      3649763.0\n",
       "..               ...            ...\n",
       "374    TOMPKINSVILLE        26775.0\n",
       "375      BEACH 98 ST        16321.0\n",
       "376     BEACH 105 ST        11025.0\n",
       "377    BROAD CHANNEL        10812.0\n",
       "378    ORCHARD BEACH          382.0\n",
       "\n",
       "[379 rows x 2 columns]"
      ]
     },
     "execution_count": 50,
     "metadata": {},
     "output_type": "execute_result"
    }
   ],
   "source": [
    "station_totals=station_daily.groupby('station').sum().sort_values('daily_entries', ascending=False).reset_index()\n",
    "station_totals"
   ]
  },
  {
   "cell_type": "code",
   "execution_count": 51,
   "metadata": {},
   "outputs": [
    {
     "data": {
      "text/html": [
       "<div>\n",
       "<style scoped>\n",
       "    .dataframe tbody tr th:only-of-type {\n",
       "        vertical-align: middle;\n",
       "    }\n",
       "\n",
       "    .dataframe tbody tr th {\n",
       "        vertical-align: top;\n",
       "    }\n",
       "\n",
       "    .dataframe thead th {\n",
       "        text-align: right;\n",
       "    }\n",
       "</style>\n",
       "<table border=\"1\" class=\"dataframe\">\n",
       "  <thead>\n",
       "    <tr style=\"text-align: right;\">\n",
       "      <th></th>\n",
       "      <th>station</th>\n",
       "      <th>daily_entries</th>\n",
       "    </tr>\n",
       "  </thead>\n",
       "  <tbody>\n",
       "    <tr>\n",
       "      <th>0</th>\n",
       "      <td>34 ST-PENN STA</td>\n",
       "      <td>4799084.0</td>\n",
       "    </tr>\n",
       "    <tr>\n",
       "      <th>1</th>\n",
       "      <td>FULTON ST</td>\n",
       "      <td>4168143.0</td>\n",
       "    </tr>\n",
       "    <tr>\n",
       "      <th>2</th>\n",
       "      <td>PATH NEW WTC</td>\n",
       "      <td>3847055.0</td>\n",
       "    </tr>\n",
       "    <tr>\n",
       "      <th>3</th>\n",
       "      <td>34 ST-HERALD SQ</td>\n",
       "      <td>3762874.0</td>\n",
       "    </tr>\n",
       "    <tr>\n",
       "      <th>4</th>\n",
       "      <td>86 ST</td>\n",
       "      <td>3649763.0</td>\n",
       "    </tr>\n",
       "    <tr>\n",
       "      <th>...</th>\n",
       "      <td>...</td>\n",
       "      <td>...</td>\n",
       "    </tr>\n",
       "    <tr>\n",
       "      <th>374</th>\n",
       "      <td>TOMPKINSVILLE</td>\n",
       "      <td>26775.0</td>\n",
       "    </tr>\n",
       "    <tr>\n",
       "      <th>375</th>\n",
       "      <td>BEACH 98 ST</td>\n",
       "      <td>16321.0</td>\n",
       "    </tr>\n",
       "    <tr>\n",
       "      <th>376</th>\n",
       "      <td>BEACH 105 ST</td>\n",
       "      <td>11025.0</td>\n",
       "    </tr>\n",
       "    <tr>\n",
       "      <th>377</th>\n",
       "      <td>BROAD CHANNEL</td>\n",
       "      <td>10812.0</td>\n",
       "    </tr>\n",
       "    <tr>\n",
       "      <th>378</th>\n",
       "      <td>ORCHARD BEACH</td>\n",
       "      <td>382.0</td>\n",
       "    </tr>\n",
       "  </tbody>\n",
       "</table>\n",
       "<p>379 rows × 2 columns</p>\n",
       "</div>"
      ],
      "text/plain": [
       "             station  daily_entries\n",
       "0     34 ST-PENN STA      4799084.0\n",
       "1          FULTON ST      4168143.0\n",
       "2       PATH NEW WTC      3847055.0\n",
       "3    34 ST-HERALD SQ      3762874.0\n",
       "4              86 ST      3649763.0\n",
       "..               ...            ...\n",
       "374    TOMPKINSVILLE        26775.0\n",
       "375      BEACH 98 ST        16321.0\n",
       "376     BEACH 105 ST        11025.0\n",
       "377    BROAD CHANNEL        10812.0\n",
       "378    ORCHARD BEACH          382.0\n",
       "\n",
       "[379 rows x 2 columns]"
      ]
     },
     "execution_count": 51,
     "metadata": {},
     "output_type": "execute_result"
    }
   ],
   "source": [
    "station_totals"
   ]
  },
  {
   "cell_type": "code",
   "execution_count": 52,
   "metadata": {},
   "outputs": [
    {
     "data": {
      "text/plain": [
       "379"
      ]
     },
     "execution_count": 52,
     "metadata": {},
     "output_type": "execute_result"
    }
   ],
   "source": [
    "len(df.station.unique())"
   ]
  },
  {
   "cell_type": "code",
   "execution_count": 53,
   "metadata": {},
   "outputs": [],
   "source": [
    "df['time_str'] = df['time'].str[:2]\n",
    "#Only the hours"
   ]
  },
  {
   "cell_type": "code",
   "execution_count": 54,
   "metadata": {},
   "outputs": [],
   "source": [
    "df['date_str'] = df['date'].str[:2]\n",
    "#Only the months"
   ]
  },
  {
   "cell_type": "markdown",
   "metadata": {},
   "source": [
    "### 4. Data Visualization"
   ]
  },
  {
   "cell_type": "markdown",
   "metadata": {},
   "source": [
    "#### Represnting the division"
   ]
  },
  {
   "cell_type": "code",
   "execution_count": 55,
   "metadata": {},
   "outputs": [
    {
     "data": {
      "image/png": "[encoded data removed]",
      "text/plain": [
       "<Figure size 432x432 with 1 Axes>"
      ]
     },
     "metadata": {},
     "output_type": "display_data"
    }
   ],
   "source": [
    "sns.set(style='darkgrid')\n",
    "plt.rcParams['figure.figsize'] = 6,6\n",
    "sorted_counts = df['division'].value_counts()\n",
    "plt.pie(sorted_counts, startangle = 90, counterclock = False, autopct='%.0f%%' );\n",
    "plt.title('Division in MTA transport project');\n",
    "plt.legend(sorted_counts.index);"
   ]
  },
  {
   "cell_type": "markdown",
   "metadata": {},
   "source": [
    "##### The biggest division is IRT Interborough Rapid Transit Company"
   ]
  },
  {
   "cell_type": "markdown",
   "metadata": {},
   "source": [
    "#### The most repeted stations in MTA data set"
   ]
  },
  {
   "cell_type": "code",
   "execution_count": 56,
   "metadata": {},
   "outputs": [],
   "source": [
    "def random_color_func(word=None, font_size=None, position=None,  orientation=None, font_path=None, random_state=None):\n",
    "    h = 216\n",
    "    s = 70\n",
    "    l = int(100.0 * float(random_state.randint(50, 120)) / 255.0)\n",
    "    return \"hsl({}, {}%, {}%)\".format(h, s, l)"
   ]
  },
  {
   "cell_type": "code",
   "execution_count": 57,
   "metadata": {},
   "outputs": [],
   "source": [
    "text=\" \".join(df[\"station\"])"
   ]
  },
  {
   "cell_type": "code",
   "execution_count": 58,
   "metadata": {},
   "outputs": [
    {
     "data": {
      "image/png": "[encoded data removed]",
      "text/plain": [
       "<Figure size 648x288 with 1 Axes>"
      ]
     },
     "metadata": {},
     "output_type": "display_data"
    }
   ],
   "source": [
    "plt.rcParams['figure.figsize'] =9, 4\n",
    "wordcloud = WordCloud(font_path=\"Roboto-Medium.ttf\",max_font_size=100, max_words=60, background_color=\"white\",width=500, height=200,collocations=False).generate(text)\n",
    "plt.figure()\n",
    "plt.imshow(wordcloud, interpolation=\"bilinear\")\n",
    "plt.axis(\"off\")\n",
    "plt.title(\"The most repeted stations in MTA data set\")\n",
    "plt.show();"
   ]
  },
  {
   "cell_type": "markdown",
   "metadata": {},
   "source": [
    "##### The most reapeted station is ST"
   ]
  },
  {
   "cell_type": "markdown",
   "metadata": {},
   "source": [
    "#### The number of weekly entreis in million\n",
    "#### The busiest station with the weekly entries"
   ]
  },
  {
   "cell_type": "code",
   "execution_count": 59,
   "metadata": {},
   "outputs": [
    {
     "data": {
      "image/png": "[encoded data removed]",
      "text/plain": [
       "<Figure size 648x288 with 1 Axes>"
      ]
     },
     "metadata": {},
     "output_type": "display_data"
    }
   ],
   "source": [
    "plt.rcParams['figure.figsize'] =9, 4\n",
    "\n",
    "plt.bar(x=station_totals['station'][:10], height=station_totals['daily_entries'][:10])\n",
    "\n",
    "plt.xticks(rotation=90)\n",
    "plt.title('The busiest station with the weekly entries');"
   ]
  },
  {
   "cell_type": "markdown",
   "metadata": {},
   "source": [
    "##### The busiest station is 34-ST-PENNSTA"
   ]
  },
  {
   "cell_type": "markdown",
   "metadata": {},
   "source": [
    "#### Rush hours"
   ]
  },
  {
   "cell_type": "code",
   "execution_count": 60,
   "metadata": {},
   "outputs": [
    {
     "data": {
      "image/png": "[encoded data removed]",
      "text/plain": [
       "<Figure size 648x288 with 1 Axes>"
      ]
     },
     "metadata": {},
     "output_type": "display_data"
    }
   ],
   "source": [
    "plt.rcParams['figure.figsize'] =9, 4\n",
    "sns.countplot(data=df, x='time_str',order = df['time_str'].value_counts().index)\n",
    "plt.title('Rush hours');"
   ]
  },
  {
   "cell_type": "markdown",
   "metadata": {},
   "source": [
    "##### The peek hours are 12,4,6 AM\n",
    "##### The peek hours are 12,4,8 PM"
   ]
  },
  {
   "cell_type": "markdown",
   "metadata": {},
   "source": [
    "#### Rush months"
   ]
  },
  {
   "cell_type": "code",
   "execution_count": 61,
   "metadata": {},
   "outputs": [
    {
     "data": {
      "image/png": "[encoded data removed]",
      "text/plain": [
       "<Figure size 648x288 with 1 Axes>"
      ]
     },
     "metadata": {},
     "output_type": "display_data"
    }
   ],
   "source": [
    "plt.rcParams['figure.figsize'] =9, 4\n",
    "sns.countplot(data=df, y='date_str',order = df['date_str'].value_counts().index)\n",
    "plt.title('Rush months');"
   ]
  },
  {
   "cell_type": "markdown",
   "metadata": {},
   "source": [
    "##### The busiest month is July of 2021"
   ]
  },
  {
   "cell_type": "code",
   "execution_count": null,
   "metadata": {},
   "outputs": [],
   "source": []
  }
 ],
 "metadata": {
  "kernelspec": {
   "display_name": "Python 3",
   "language": "python",
   "name": "python3"
  },
  "language_info": {
   "codemirror_mode": {
    "name": "ipython",
    "version": 3
   },
   "file_extension": ".py",
   "mimetype": "text/x-python",
   "name": "python",
   "nbconvert_exporter": "python",
   "pygments_lexer": "ipython3",
   "version": "3.8.3"
  }
 },
 "nbformat": 4,
 "nbformat_minor": 4
}
