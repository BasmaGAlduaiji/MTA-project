{
 "cells": [
  {
   "cell_type": "markdown",
   "metadata": {},
   "source": [
    "### Importing Modules"
   ]
  },
  {
   "cell_type": "code",
   "execution_count": 1,
   "metadata": {},
   "outputs": [],
   "source": [
    "#Call all the needed libraries\n",
    "import numpy as np\n",
    "import pandas as pd\n",
    "import matplotlib.pyplot as plt\n",
    "import seaborn as sns\n",
    "import json\n",
    "from wordcloud import WordCloud, STOPWORDS, ImageColorGenerator\n",
    "import string\n",
    "from datetime import date, timedelta   \n",
    "import nltk\n",
    "from sqlalchemy import create_engine\n",
    "import sqlite3\n",
    "%matplotlib inline"
   ]
  },
  {
   "cell_type": "markdown",
   "metadata": {},
   "source": [
    "### 1. Data Ghathring"
   ]
  },
  {
   "cell_type": "code",
   "execution_count": 2,
   "metadata": {},
   "outputs": [],
   "source": [
    "# Itreate using for loop to gather the data from data set\n",
    "def get_data(week_nums):\n",
    "    url = \"http://web.mta.info/developers/data/nyct/turnstile/turnstile_{}.txt\"\n",
    "    dfs = []\n",
    "    for week_num in week_nums:\n",
    "        file_url = url.format(week_num)\n",
    "        dfs.append(pd.read_csv(file_url))\n",
    "    return pd.concat(dfs)\n",
    "        \n",
    "week_nums = [210501, 210508, 210515,210529,210605,210612,210619,210626,210703,210710,210717,210724,210731]\n",
    "df = get_data(week_nums)"
   ]
  },
  {
   "cell_type": "markdown",
   "metadata": {},
   "source": [
    "### 2. Data Exploring"
   ]
  },
  {
   "cell_type": "code",
   "execution_count": 3,
   "metadata": {},
   "outputs": [
    {
     "data": {
      "text/html": [
       "<div>\n",
       "<style scoped>\n",
       "    .dataframe tbody tr th:only-of-type {\n",
       "        vertical-align: middle;\n",
       "    }\n",
       "\n",
       "    .dataframe tbody tr th {\n",
       "        vertical-align: top;\n",
       "    }\n",
       "\n",
       "    .dataframe thead th {\n",
       "        text-align: right;\n",
       "    }\n",
       "</style>\n",
       "<table border=\"1\" class=\"dataframe\">\n",
       "  <thead>\n",
       "    <tr style=\"text-align: right;\">\n",
       "      <th></th>\n",
       "      <th>C/A</th>\n",
       "      <th>UNIT</th>\n",
       "      <th>SCP</th>\n",
       "      <th>STATION</th>\n",
       "      <th>LINENAME</th>\n",
       "      <th>DIVISION</th>\n",
       "      <th>DATE</th>\n",
       "      <th>TIME</th>\n",
       "      <th>DESC</th>\n",
       "      <th>ENTRIES</th>\n",
       "      <th>EXITS</th>\n",
       "    </tr>\n",
       "  </thead>\n",
       "  <tbody>\n",
       "    <tr>\n",
       "      <th>0</th>\n",
       "      <td>A002</td>\n",
       "      <td>R051</td>\n",
       "      <td>02-00-00</td>\n",
       "      <td>59 ST</td>\n",
       "      <td>NQR456W</td>\n",
       "      <td>BMT</td>\n",
       "      <td>04/24/2021</td>\n",
       "      <td>00:00:00</td>\n",
       "      <td>REGULAR</td>\n",
       "      <td>7561288</td>\n",
       "      <td>2582898</td>\n",
       "    </tr>\n",
       "    <tr>\n",
       "      <th>1</th>\n",
       "      <td>A002</td>\n",
       "      <td>R051</td>\n",
       "      <td>02-00-00</td>\n",
       "      <td>59 ST</td>\n",
       "      <td>NQR456W</td>\n",
       "      <td>BMT</td>\n",
       "      <td>04/24/2021</td>\n",
       "      <td>04:00:00</td>\n",
       "      <td>REGULAR</td>\n",
       "      <td>7561295</td>\n",
       "      <td>2582903</td>\n",
       "    </tr>\n",
       "    <tr>\n",
       "      <th>2</th>\n",
       "      <td>A002</td>\n",
       "      <td>R051</td>\n",
       "      <td>02-00-00</td>\n",
       "      <td>59 ST</td>\n",
       "      <td>NQR456W</td>\n",
       "      <td>BMT</td>\n",
       "      <td>04/24/2021</td>\n",
       "      <td>08:00:00</td>\n",
       "      <td>REGULAR</td>\n",
       "      <td>7561302</td>\n",
       "      <td>2582918</td>\n",
       "    </tr>\n",
       "    <tr>\n",
       "      <th>3</th>\n",
       "      <td>A002</td>\n",
       "      <td>R051</td>\n",
       "      <td>02-00-00</td>\n",
       "      <td>59 ST</td>\n",
       "      <td>NQR456W</td>\n",
       "      <td>BMT</td>\n",
       "      <td>04/24/2021</td>\n",
       "      <td>12:00:00</td>\n",
       "      <td>REGULAR</td>\n",
       "      <td>7561336</td>\n",
       "      <td>2582977</td>\n",
       "    </tr>\n",
       "    <tr>\n",
       "      <th>4</th>\n",
       "      <td>A002</td>\n",
       "      <td>R051</td>\n",
       "      <td>02-00-00</td>\n",
       "      <td>59 ST</td>\n",
       "      <td>NQR456W</td>\n",
       "      <td>BMT</td>\n",
       "      <td>04/24/2021</td>\n",
       "      <td>16:00:00</td>\n",
       "      <td>REGULAR</td>\n",
       "      <td>7561426</td>\n",
       "      <td>2583008</td>\n",
       "    </tr>\n",
       "  </tbody>\n",
       "</table>\n",
       "</div>"
      ],
      "text/plain": [
       "    C/A  UNIT       SCP STATION LINENAME DIVISION        DATE      TIME  \\\n",
       "0  A002  R051  02-00-00   59 ST  NQR456W      BMT  04/24/2021  00:00:00   \n",
       "1  A002  R051  02-00-00   59 ST  NQR456W      BMT  04/24/2021  04:00:00   \n",
       "2  A002  R051  02-00-00   59 ST  NQR456W      BMT  04/24/2021  08:00:00   \n",
       "3  A002  R051  02-00-00   59 ST  NQR456W      BMT  04/24/2021  12:00:00   \n",
       "4  A002  R051  02-00-00   59 ST  NQR456W      BMT  04/24/2021  16:00:00   \n",
       "\n",
       "      DESC  ENTRIES  \\\n",
       "0  REGULAR  7561288   \n",
       "1  REGULAR  7561295   \n",
       "2  REGULAR  7561302   \n",
       "3  REGULAR  7561336   \n",
       "4  REGULAR  7561426   \n",
       "\n",
       "   EXITS                                                                 \n",
       "0                                            2582898                     \n",
       "1                                            2582903                     \n",
       "2                                            2582918                     \n",
       "3                                            2582977                     \n",
       "4                                            2583008                     "
      ]
     },
     "execution_count": 3,
     "metadata": {},
     "output_type": "execute_result"
    }
   ],
   "source": [
    "#Display the first five rows of data frame\n",
    "df.head()"
   ]
  },
  {
   "cell_type": "code",
   "execution_count": 4,
   "metadata": {},
   "outputs": [
    {
     "data": {
      "text/html": [
       "<div>\n",
       "<style scoped>\n",
       "    .dataframe tbody tr th:only-of-type {\n",
       "        vertical-align: middle;\n",
       "    }\n",
       "\n",
       "    .dataframe tbody tr th {\n",
       "        vertical-align: top;\n",
       "    }\n",
       "\n",
       "    .dataframe thead th {\n",
       "        text-align: right;\n",
       "    }\n",
       "</style>\n",
       "<table border=\"1\" class=\"dataframe\">\n",
       "  <thead>\n",
       "    <tr style=\"text-align: right;\">\n",
       "      <th></th>\n",
       "      <th>C/A</th>\n",
       "      <th>UNIT</th>\n",
       "      <th>SCP</th>\n",
       "      <th>STATION</th>\n",
       "      <th>LINENAME</th>\n",
       "      <th>DIVISION</th>\n",
       "      <th>DATE</th>\n",
       "      <th>TIME</th>\n",
       "      <th>DESC</th>\n",
       "      <th>ENTRIES</th>\n",
       "      <th>EXITS</th>\n",
       "    </tr>\n",
       "  </thead>\n",
       "  <tbody>\n",
       "    <tr>\n",
       "      <th>209458</th>\n",
       "      <td>TRAM2</td>\n",
       "      <td>R469</td>\n",
       "      <td>00-05-01</td>\n",
       "      <td>RIT-ROOSEVELT</td>\n",
       "      <td>R</td>\n",
       "      <td>RIT</td>\n",
       "      <td>07/30/2021</td>\n",
       "      <td>05:00:00</td>\n",
       "      <td>REGULAR</td>\n",
       "      <td>5554</td>\n",
       "      <td>589</td>\n",
       "    </tr>\n",
       "    <tr>\n",
       "      <th>209459</th>\n",
       "      <td>TRAM2</td>\n",
       "      <td>R469</td>\n",
       "      <td>00-05-01</td>\n",
       "      <td>RIT-ROOSEVELT</td>\n",
       "      <td>R</td>\n",
       "      <td>RIT</td>\n",
       "      <td>07/30/2021</td>\n",
       "      <td>09:00:00</td>\n",
       "      <td>REGULAR</td>\n",
       "      <td>5554</td>\n",
       "      <td>589</td>\n",
       "    </tr>\n",
       "    <tr>\n",
       "      <th>209460</th>\n",
       "      <td>TRAM2</td>\n",
       "      <td>R469</td>\n",
       "      <td>00-05-01</td>\n",
       "      <td>RIT-ROOSEVELT</td>\n",
       "      <td>R</td>\n",
       "      <td>RIT</td>\n",
       "      <td>07/30/2021</td>\n",
       "      <td>13:00:00</td>\n",
       "      <td>REGULAR</td>\n",
       "      <td>5554</td>\n",
       "      <td>589</td>\n",
       "    </tr>\n",
       "    <tr>\n",
       "      <th>209461</th>\n",
       "      <td>TRAM2</td>\n",
       "      <td>R469</td>\n",
       "      <td>00-05-01</td>\n",
       "      <td>RIT-ROOSEVELT</td>\n",
       "      <td>R</td>\n",
       "      <td>RIT</td>\n",
       "      <td>07/30/2021</td>\n",
       "      <td>17:00:00</td>\n",
       "      <td>REGULAR</td>\n",
       "      <td>5554</td>\n",
       "      <td>590</td>\n",
       "    </tr>\n",
       "    <tr>\n",
       "      <th>209462</th>\n",
       "      <td>TRAM2</td>\n",
       "      <td>R469</td>\n",
       "      <td>00-05-01</td>\n",
       "      <td>RIT-ROOSEVELT</td>\n",
       "      <td>R</td>\n",
       "      <td>RIT</td>\n",
       "      <td>07/30/2021</td>\n",
       "      <td>21:00:00</td>\n",
       "      <td>REGULAR</td>\n",
       "      <td>5554</td>\n",
       "      <td>591</td>\n",
       "    </tr>\n",
       "  </tbody>\n",
       "</table>\n",
       "</div>"
      ],
      "text/plain": [
       "          C/A  UNIT       SCP        STATION LINENAME DIVISION        DATE  \\\n",
       "209458  TRAM2  R469  00-05-01  RIT-ROOSEVELT        R      RIT  07/30/2021   \n",
       "209459  TRAM2  R469  00-05-01  RIT-ROOSEVELT        R      RIT  07/30/2021   \n",
       "209460  TRAM2  R469  00-05-01  RIT-ROOSEVELT        R      RIT  07/30/2021   \n",
       "209461  TRAM2  R469  00-05-01  RIT-ROOSEVELT        R      RIT  07/30/2021   \n",
       "209462  TRAM2  R469  00-05-01  RIT-ROOSEVELT        R      RIT  07/30/2021   \n",
       "\n",
       "            TIME     DESC  ENTRIES  \\\n",
       "209458  05:00:00  REGULAR     5554   \n",
       "209459  09:00:00  REGULAR     5554   \n",
       "209460  13:00:00  REGULAR     5554   \n",
       "209461  17:00:00  REGULAR     5554   \n",
       "209462  21:00:00  REGULAR     5554   \n",
       "\n",
       "        EXITS                                                                 \n",
       "209458                                                589                     \n",
       "209459                                                589                     \n",
       "209460                                                589                     \n",
       "209461                                                590                     \n",
       "209462                                                591                     "
      ]
     },
     "execution_count": 4,
     "metadata": {},
     "output_type": "execute_result"
    }
   ],
   "source": [
    "#Display the last five rows of data frame\n",
    "df.tail()"
   ]
  },
  {
   "cell_type": "code",
   "execution_count": 5,
   "metadata": {},
   "outputs": [
    {
     "name": "stdout",
     "output_type": "stream",
     "text": [
      "<class 'pandas.core.frame.DataFrame'>\n",
      "Int64Index: 2721477 entries, 0 to 209462\n",
      "Data columns (total 11 columns):\n",
      " #   Column                                                                Dtype \n",
      "---  ------                                                                ----- \n",
      " 0   C/A                                                                   object\n",
      " 1   UNIT                                                                  object\n",
      " 2   SCP                                                                   object\n",
      " 3   STATION                                                               object\n",
      " 4   LINENAME                                                              object\n",
      " 5   DIVISION                                                              object\n",
      " 6   DATE                                                                  object\n",
      " 7   TIME                                                                  object\n",
      " 8   DESC                                                                  object\n",
      " 9   ENTRIES                                                               int64 \n",
      " 10  EXITS                                                                 int64 \n",
      "dtypes: int64(2), object(9)\n",
      "memory usage: 249.2+ MB\n"
     ]
    }
   ],
   "source": [
    "#Display the information of data frame\n",
    "df.info()"
   ]
  },
  {
   "cell_type": "code",
   "execution_count": 6,
   "metadata": {},
   "outputs": [
    {
     "data": {
      "text/html": [
       "<div>\n",
       "<style scoped>\n",
       "    .dataframe tbody tr th:only-of-type {\n",
       "        vertical-align: middle;\n",
       "    }\n",
       "\n",
       "    .dataframe tbody tr th {\n",
       "        vertical-align: top;\n",
       "    }\n",
       "\n",
       "    .dataframe thead th {\n",
       "        text-align: right;\n",
       "    }\n",
       "</style>\n",
       "<table border=\"1\" class=\"dataframe\">\n",
       "  <thead>\n",
       "    <tr style=\"text-align: right;\">\n",
       "      <th></th>\n",
       "      <th>ENTRIES</th>\n",
       "      <th>EXITS</th>\n",
       "    </tr>\n",
       "  </thead>\n",
       "  <tbody>\n",
       "    <tr>\n",
       "      <th>count</th>\n",
       "      <td>2.721477e+06</td>\n",
       "      <td>2.721477e+06</td>\n",
       "    </tr>\n",
       "    <tr>\n",
       "      <th>mean</th>\n",
       "      <td>4.187829e+07</td>\n",
       "      <td>3.352181e+07</td>\n",
       "    </tr>\n",
       "    <tr>\n",
       "      <th>std</th>\n",
       "      <td>2.189091e+08</td>\n",
       "      <td>1.927547e+08</td>\n",
       "    </tr>\n",
       "    <tr>\n",
       "      <th>min</th>\n",
       "      <td>0.000000e+00</td>\n",
       "      <td>0.000000e+00</td>\n",
       "    </tr>\n",
       "    <tr>\n",
       "      <th>25%</th>\n",
       "      <td>2.168880e+05</td>\n",
       "      <td>9.585300e+04</td>\n",
       "    </tr>\n",
       "    <tr>\n",
       "      <th>50%</th>\n",
       "      <td>1.419220e+06</td>\n",
       "      <td>8.587600e+05</td>\n",
       "    </tr>\n",
       "    <tr>\n",
       "      <th>75%</th>\n",
       "      <td>6.049660e+06</td>\n",
       "      <td>3.980241e+06</td>\n",
       "    </tr>\n",
       "    <tr>\n",
       "      <th>max</th>\n",
       "      <td>2.147430e+09</td>\n",
       "      <td>2.122941e+09</td>\n",
       "    </tr>\n",
       "  </tbody>\n",
       "</table>\n",
       "</div>"
      ],
      "text/plain": [
       "            ENTRIES  \\\n",
       "count  2.721477e+06   \n",
       "mean   4.187829e+07   \n",
       "std    2.189091e+08   \n",
       "min    0.000000e+00   \n",
       "25%    2.168880e+05   \n",
       "50%    1.419220e+06   \n",
       "75%    6.049660e+06   \n",
       "max    2.147430e+09   \n",
       "\n",
       "       EXITS                                                                 \n",
       "count                                       2.721477e+06                     \n",
       "mean                                        3.352181e+07                     \n",
       "std                                         1.927547e+08                     \n",
       "min                                         0.000000e+00                     \n",
       "25%                                         9.585300e+04                     \n",
       "50%                                         8.587600e+05                     \n",
       "75%                                         3.980241e+06                     \n",
       "max                                         2.122941e+09                     "
      ]
     },
     "execution_count": 6,
     "metadata": {},
     "output_type": "execute_result"
    }
   ],
   "source": [
    "#Display the statistical information about data frme\n",
    "df.describe()"
   ]
  },
  {
   "cell_type": "code",
   "execution_count": 7,
   "metadata": {},
   "outputs": [
    {
     "data": {
      "text/plain": [
       "(2721477, 11)"
      ]
     },
     "execution_count": 7,
     "metadata": {},
     "output_type": "execute_result"
    }
   ],
   "source": [
    "# Display the size of data frame\n",
    "df.shape"
   ]
  },
  {
   "cell_type": "code",
   "execution_count": 8,
   "metadata": {},
   "outputs": [
    {
     "data": {
      "text/plain": [
       "C/A                                                                     object\n",
       "UNIT                                                                    object\n",
       "SCP                                                                     object\n",
       "STATION                                                                 object\n",
       "LINENAME                                                                object\n",
       "DIVISION                                                                object\n",
       "DATE                                                                    object\n",
       "TIME                                                                    object\n",
       "DESC                                                                    object\n",
       "ENTRIES                                                                  int64\n",
       "EXITS                                                                    int64\n",
       "dtype: object"
      ]
     },
     "execution_count": 8,
     "metadata": {},
     "output_type": "execute_result"
    }
   ],
   "source": [
    "# Display type of each column in data frame\n",
    "df.dtypes"
   ]
  },
  {
   "cell_type": "code",
   "execution_count": 9,
   "metadata": {},
   "outputs": [
    {
     "data": {
      "text/plain": [
       "Index(['C/A', 'UNIT', 'SCP', 'STATION', 'LINENAME', 'DIVISION', 'DATE', 'TIME',\n",
       "       'DESC', 'ENTRIES',\n",
       "       'EXITS                                                               '],\n",
       "      dtype='object')"
      ]
     },
     "execution_count": 9,
     "metadata": {},
     "output_type": "execute_result"
    }
   ],
   "source": [
    "#Display names of columns in the data frame\n",
    "df.columns"
   ]
  },
  {
   "cell_type": "code",
   "execution_count": 10,
   "metadata": {},
   "outputs": [
    {
     "data": {
      "text/plain": [
       "41878285.77447871"
      ]
     },
     "execution_count": 10,
     "metadata": {},
     "output_type": "execute_result"
    }
   ],
   "source": [
    "#Display mean of number of entries\n",
    "df['ENTRIES'].mean()"
   ]
  },
  {
   "cell_type": "code",
   "execution_count": 11,
   "metadata": {},
   "outputs": [
    {
     "data": {
      "text/plain": [
       "192754726.63691953"
      ]
     },
     "execution_count": 11,
     "metadata": {},
     "output_type": "execute_result"
    }
   ],
   "source": [
    "# Display standerd divation of number of exits\n",
    "df['EXITS                                                               '].std()"
   ]
  },
  {
   "cell_type": "code",
   "execution_count": 12,
   "metadata": {},
   "outputs": [
    {
     "data": {
      "text/plain": [
       "1419220.0"
      ]
     },
     "execution_count": 12,
     "metadata": {},
     "output_type": "execute_result"
    }
   ],
   "source": [
    "# Display median of number of entries\n",
    "df['ENTRIES'].median()"
   ]
  },
  {
   "cell_type": "code",
   "execution_count": 13,
   "metadata": {},
   "outputs": [
    {
     "data": {
      "text/plain": [
       "34 ST-PENN STA     55619\n",
       "FULTON ST          52376\n",
       "GRD CNTRL-42 ST    48482\n",
       "23 ST              39852\n",
       "86 ST              35390\n",
       "                   ...  \n",
       "ALABAMA AV          1628\n",
       "182-183 STS         1627\n",
       "ORCHARD BEACH       1613\n",
       "SUTTER AV           1092\n",
       "CLEVELAND ST        1090\n",
       "Name: STATION, Length: 379, dtype: int64"
      ]
     },
     "execution_count": 13,
     "metadata": {},
     "output_type": "execute_result"
    }
   ],
   "source": [
    "# Display number of values for each station\n",
    "df['STATION'].value_counts()"
   ]
  },
  {
   "cell_type": "code",
   "execution_count": 14,
   "metadata": {},
   "outputs": [
    {
     "data": {
      "text/plain": [
       "08:00:00    232912\n",
       "12:00:00    232912\n",
       "00:00:00    232900\n",
       "16:00:00    232900\n",
       "04:00:00    232863\n",
       "             ...  \n",
       "06:03:07         1\n",
       "08:07:20         1\n",
       "09:11:18         1\n",
       "12:53:56         1\n",
       "04:49:05         1\n",
       "Name: TIME, Length: 54464, dtype: int64"
      ]
     },
     "execution_count": 14,
     "metadata": {},
     "output_type": "execute_result"
    }
   ],
   "source": [
    "# Display number of values for each time\n",
    "df['TIME'].value_counts()"
   ]
  },
  {
   "cell_type": "code",
   "execution_count": 15,
   "metadata": {},
   "outputs": [
    {
     "data": {
      "text/plain": [
       "04/24/2021    29924\n",
       "04/25/2021    29844\n",
       "04/26/2021    29803\n",
       "04/27/2021    29973\n",
       "04/28/2021    29817\n",
       "              ...  \n",
       "07/26/2021    29816\n",
       "07/27/2021    29928\n",
       "07/28/2021    29923\n",
       "07/29/2021    30016\n",
       "07/30/2021    30061\n",
       "Name: DATE, Length: 91, dtype: int64"
      ]
     },
     "execution_count": 15,
     "metadata": {},
     "output_type": "execute_result"
    }
   ],
   "source": [
    "# Display number of values for each date order by the earliest date\n",
    "df['DATE'].value_counts().sort_index()"
   ]
  },
  {
   "cell_type": "code",
   "execution_count": 16,
   "metadata": {},
   "outputs": [
    {
     "data": {
      "text/plain": [
       "R549    37157\n",
       "R057    27852\n",
       "R014    27263\n",
       "R540    25953\n",
       "R029    25516\n",
       "        ...  \n",
       "R433     1628\n",
       "R237     1627\n",
       "R459     1613\n",
       "R349     1092\n",
       "R435     1090\n",
       "Name: UNIT, Length: 469, dtype: int64"
      ]
     },
     "execution_count": 16,
     "metadata": {},
     "output_type": "execute_result"
    }
   ],
   "source": [
    "# Display number of values for each unit\n",
    "df['UNIT'].value_counts()"
   ]
  },
  {
   "cell_type": "code",
   "execution_count": 17,
   "metadata": {
    "scrolled": true
   },
   "outputs": [
    {
     "data": {
      "text/plain": [
       "IRT    978201\n",
       "IND    949508\n",
       "BMT    602095\n",
       "PTH    168776\n",
       "SRT     17461\n",
       "RIT      5436\n",
       "Name: DIVISION, dtype: int64"
      ]
     },
     "execution_count": 17,
     "metadata": {},
     "output_type": "execute_result"
    }
   ],
   "source": [
    "# Display number of values for each division\n",
    "df['DIVISION'].value_counts()"
   ]
  },
  {
   "cell_type": "code",
   "execution_count": 18,
   "metadata": {},
   "outputs": [
    {
     "data": {
      "text/plain": [
       "REGULAR       2709955\n",
       "RECOVR AUD      11522\n",
       "Name: DESC, dtype: int64"
      ]
     },
     "execution_count": 18,
     "metadata": {},
     "output_type": "execute_result"
    }
   ],
   "source": [
    "# Display number of values for each data description\n",
    "df['DESC'].value_counts()"
   ]
  },
  {
   "cell_type": "code",
   "execution_count": 19,
   "metadata": {},
   "outputs": [
    {
     "data": {
      "text/plain": [
       "00-00-00    252686\n",
       "00-00-01    250981\n",
       "00-00-02    223093\n",
       "00-00-03    112618\n",
       "00-03-00     99010\n",
       "             ...  \n",
       "03-00-08         6\n",
       "01-02-08         5\n",
       "00-B8-02         1\n",
       "01-00-10         1\n",
       "01-00-11         1\n",
       "Name: SCP, Length: 227, dtype: int64"
      ]
     },
     "execution_count": 19,
     "metadata": {},
     "output_type": "execute_result"
    }
   ],
   "source": [
    "# Display number of values for each subunit_channel_position\n",
    "df['SCP'].value_counts()"
   ]
  },
  {
   "cell_type": "code",
   "execution_count": 20,
   "metadata": {},
   "outputs": [
    {
     "data": {
      "text/plain": [
       "DIVISION  STATION        \n",
       "BMT       1 AV               13092\n",
       "          104 ST              2188\n",
       "          111 ST              2166\n",
       "          121 ST              3234\n",
       "          14 ST-UNION SQ     14739\n",
       "                             ...  \n",
       "PTH       TWENTY THIRD ST     4633\n",
       "RIT       RIT-MANHATTAN       2164\n",
       "          RIT-ROOSEVELT       3272\n",
       "SRT       ST. GEORGE         13639\n",
       "          TOMPKINSVILLE       3822\n",
       "Length: 449, dtype: int64"
      ]
     },
     "execution_count": 20,
     "metadata": {},
     "output_type": "execute_result"
    }
   ],
   "source": [
    "# Display size of data frame grouped by division and stations\n",
    "df.groupby(['DIVISION', 'STATION']).size()"
   ]
  },
  {
   "cell_type": "markdown",
   "metadata": {},
   "source": [
    "### 3. Data Cleaning"
   ]
  },
  {
   "cell_type": "code",
   "execution_count": 21,
   "metadata": {},
   "outputs": [
    {
     "name": "stdout",
     "output_type": "stream",
     "text": [
      "<class 'pandas.core.frame.DataFrame'>\n",
      "Int64Index: 2721477 entries, 0 to 209462\n",
      "Data columns (total 11 columns):\n",
      " #   Column                                                                Dtype \n",
      "---  ------                                                                ----- \n",
      " 0   C/A                                                                   object\n",
      " 1   UNIT                                                                  object\n",
      " 2   SCP                                                                   object\n",
      " 3   STATION                                                               object\n",
      " 4   LINENAME                                                              object\n",
      " 5   DIVISION                                                              object\n",
      " 6   DATE                                                                  object\n",
      " 7   TIME                                                                  object\n",
      " 8   DESC                                                                  object\n",
      " 9   ENTRIES                                                               int64 \n",
      " 10  EXITS                                                                 int64 \n",
      "dtypes: int64(2), object(9)\n",
      "memory usage: 249.2+ MB\n"
     ]
    }
   ],
   "source": [
    "# Display the info of data frame\n",
    "df.info()"
   ]
  },
  {
   "cell_type": "code",
   "execution_count": 22,
   "metadata": {},
   "outputs": [],
   "source": [
    "# Remove all the spaces from columns names\n",
    "df.columns=[column.strip()for column in df.columns]"
   ]
  },
  {
   "cell_type": "code",
   "execution_count": 23,
   "metadata": {},
   "outputs": [
    {
     "name": "stdout",
     "output_type": "stream",
     "text": [
      "<class 'pandas.core.frame.DataFrame'>\n",
      "Int64Index: 2721477 entries, 0 to 209462\n",
      "Data columns (total 11 columns):\n",
      " #   Column    Dtype \n",
      "---  ------    ----- \n",
      " 0   C/A       object\n",
      " 1   UNIT      object\n",
      " 2   SCP       object\n",
      " 3   STATION   object\n",
      " 4   LINENAME  object\n",
      " 5   DIVISION  object\n",
      " 6   DATE      object\n",
      " 7   TIME      object\n",
      " 8   DESC      object\n",
      " 9   ENTRIES   int64 \n",
      " 10  EXITS     int64 \n",
      "dtypes: int64(2), object(9)\n",
      "memory usage: 249.2+ MB\n"
     ]
    }
   ],
   "source": [
    "# Display the info of data frame after removing spaces\n",
    "df.info()"
   ]
  },
  {
   "cell_type": "markdown",
   "metadata": {},
   "source": [
    "#### Rename columns"
   ]
  },
  {
   "cell_type": "code",
   "execution_count": 24,
   "metadata": {},
   "outputs": [],
   "source": [
    "# Rename the columns\n",
    "df.rename({'C/A': 'control_area', 'UNIT': 'unit','SCP':'subunit_channel_position','STATION':'station','LINENAME':'line_name','DIVISION':'division','DATE':'date','TIME':'time','DESC':'description','ENTRIES':'entries','EXITS':'exits'}, axis=1,inplace=True)"
   ]
  },
  {
   "cell_type": "code",
   "execution_count": 25,
   "metadata": {},
   "outputs": [
    {
     "name": "stdout",
     "output_type": "stream",
     "text": [
      "<class 'pandas.core.frame.DataFrame'>\n",
      "Int64Index: 2721477 entries, 0 to 209462\n",
      "Data columns (total 11 columns):\n",
      " #   Column                    Dtype \n",
      "---  ------                    ----- \n",
      " 0   control_area              object\n",
      " 1   unit                      object\n",
      " 2   subunit_channel_position  object\n",
      " 3   station                   object\n",
      " 4   line_name                 object\n",
      " 5   division                  object\n",
      " 6   date                      object\n",
      " 7   time                      object\n",
      " 8   description               object\n",
      " 9   entries                   int64 \n",
      " 10  exits                     int64 \n",
      "dtypes: int64(2), object(9)\n",
      "memory usage: 249.2+ MB\n"
     ]
    }
   ],
   "source": [
    "# Display the info of data frame after renaming columns\n",
    "df.info()"
   ]
  },
  {
   "cell_type": "code",
   "execution_count": 26,
   "metadata": {},
   "outputs": [
    {
     "data": {
      "text/plain": [
       "2721477"
      ]
     },
     "execution_count": 26,
     "metadata": {},
     "output_type": "execute_result"
    }
   ],
   "source": [
    "# The number of rows\n",
    "df.shape[0]"
   ]
  },
  {
   "cell_type": "code",
   "execution_count": 27,
   "metadata": {},
   "outputs": [
    {
     "data": {
      "text/plain": [
       "control_area                0\n",
       "unit                        0\n",
       "subunit_channel_position    0\n",
       "station                     0\n",
       "line_name                   0\n",
       "division                    0\n",
       "date                        0\n",
       "time                        0\n",
       "description                 0\n",
       "entries                     0\n",
       "exits                       0\n",
       "dtype: int64"
      ]
     },
     "execution_count": 27,
     "metadata": {},
     "output_type": "execute_result"
    }
   ],
   "source": [
    "# Check the null values\n",
    "df.isna().sum()"
   ]
  },
  {
   "cell_type": "markdown",
   "metadata": {},
   "source": [
    "#### No null values"
   ]
  },
  {
   "cell_type": "code",
   "execution_count": 28,
   "metadata": {},
   "outputs": [],
   "source": [
    "# Remove the duplicate \n",
    "# The duplicate values are RECOVR AUD\n",
    "df =df[df['description'] != 'RECOVR AUD' ]"
   ]
  },
  {
   "cell_type": "markdown",
   "metadata": {},
   "source": [
    "#### Drop duplicate"
   ]
  },
  {
   "cell_type": "code",
   "execution_count": 29,
   "metadata": {},
   "outputs": [],
   "source": [
    "# Removing duplicate \n",
    "df.drop_duplicates(inplace=True)"
   ]
  },
  {
   "cell_type": "code",
   "execution_count": 30,
   "metadata": {},
   "outputs": [
    {
     "data": {
      "text/plain": [
       "REGULAR    2709955\n",
       "Name: description, dtype: int64"
      ]
     },
     "execution_count": 30,
     "metadata": {},
     "output_type": "execute_result"
    }
   ],
   "source": [
    "# Check that the description is only REGULAR\n",
    "df['description'].value_counts()"
   ]
  },
  {
   "cell_type": "code",
   "execution_count": 31,
   "metadata": {},
   "outputs": [
    {
     "data": {
      "text/plain": [
       "REGULAR    2709955\n",
       "Name: description, dtype: int64"
      ]
     },
     "execution_count": 31,
     "metadata": {},
     "output_type": "execute_result"
    }
   ],
   "source": [
    "# Display the number of values of each description\n",
    "df.description.value_counts()"
   ]
  },
  {
   "cell_type": "code",
   "execution_count": 32,
   "metadata": {},
   "outputs": [],
   "source": [
    "# Add new column date_time contains the date and time in %m/%d/%Y %H:%M:%S format\n",
    "df[\"date_time\"] = pd.to_datetime(df.date + \" \" + df.time, \n",
    "                                            format=\"%m/%d/%Y %H:%M:%S\")"
   ]
  },
  {
   "cell_type": "code",
   "execution_count": 33,
   "metadata": {
    "scrolled": true
   },
   "outputs": [
    {
     "data": {
      "text/html": [
       "<div>\n",
       "<style scoped>\n",
       "    .dataframe tbody tr th:only-of-type {\n",
       "        vertical-align: middle;\n",
       "    }\n",
       "\n",
       "    .dataframe tbody tr th {\n",
       "        vertical-align: top;\n",
       "    }\n",
       "\n",
       "    .dataframe thead th {\n",
       "        text-align: right;\n",
       "    }\n",
       "</style>\n",
       "<table border=\"1\" class=\"dataframe\">\n",
       "  <thead>\n",
       "    <tr style=\"text-align: right;\">\n",
       "      <th></th>\n",
       "      <th>control_area</th>\n",
       "      <th>unit</th>\n",
       "      <th>subunit_channel_position</th>\n",
       "      <th>station</th>\n",
       "      <th>date_time</th>\n",
       "      <th>entries</th>\n",
       "    </tr>\n",
       "  </thead>\n",
       "  <tbody>\n",
       "    <tr>\n",
       "      <th>0</th>\n",
       "      <td>A002</td>\n",
       "      <td>R051</td>\n",
       "      <td>02-00-00</td>\n",
       "      <td>59 ST</td>\n",
       "      <td>2021-04-24 00:00:00</td>\n",
       "      <td>1</td>\n",
       "    </tr>\n",
       "    <tr>\n",
       "      <th>1806631</th>\n",
       "      <td>R138</td>\n",
       "      <td>R293</td>\n",
       "      <td>00-03-02</td>\n",
       "      <td>34 ST-PENN STA</td>\n",
       "      <td>2021-06-03 22:00:00</td>\n",
       "      <td>1</td>\n",
       "    </tr>\n",
       "    <tr>\n",
       "      <th>1806633</th>\n",
       "      <td>R138</td>\n",
       "      <td>R293</td>\n",
       "      <td>00-03-02</td>\n",
       "      <td>34 ST-PENN STA</td>\n",
       "      <td>2021-06-04 06:00:00</td>\n",
       "      <td>1</td>\n",
       "    </tr>\n",
       "    <tr>\n",
       "      <th>1806634</th>\n",
       "      <td>R138</td>\n",
       "      <td>R293</td>\n",
       "      <td>00-03-02</td>\n",
       "      <td>34 ST-PENN STA</td>\n",
       "      <td>2021-06-04 10:00:00</td>\n",
       "      <td>1</td>\n",
       "    </tr>\n",
       "    <tr>\n",
       "      <th>1806635</th>\n",
       "      <td>R138</td>\n",
       "      <td>R293</td>\n",
       "      <td>00-03-02</td>\n",
       "      <td>34 ST-PENN STA</td>\n",
       "      <td>2021-06-04 10:28:37</td>\n",
       "      <td>1</td>\n",
       "    </tr>\n",
       "  </tbody>\n",
       "</table>\n",
       "</div>"
      ],
      "text/plain": [
       "        control_area  unit subunit_channel_position         station  \\\n",
       "0               A002  R051                 02-00-00           59 ST   \n",
       "1806631         R138  R293                 00-03-02  34 ST-PENN STA   \n",
       "1806633         R138  R293                 00-03-02  34 ST-PENN STA   \n",
       "1806634         R138  R293                 00-03-02  34 ST-PENN STA   \n",
       "1806635         R138  R293                 00-03-02  34 ST-PENN STA   \n",
       "\n",
       "                  date_time  entries  \n",
       "0       2021-04-24 00:00:00        1  \n",
       "1806631 2021-06-03 22:00:00        1  \n",
       "1806633 2021-06-04 06:00:00        1  \n",
       "1806634 2021-06-04 10:00:00        1  \n",
       "1806635 2021-06-04 10:28:37        1  "
      ]
     },
     "execution_count": 33,
     "metadata": {},
     "output_type": "execute_result"
    }
   ],
   "source": [
    "#Check that there is no duplicate \n",
    "# No duplicate whene all the entries are ones\n",
    "(df\n",
    " .groupby([\"control_area\", \"unit\", \"subunit_channel_position\", \"station\", \"date_time\"])\n",
    " .entries.count()\n",
    " .reset_index()\n",
    " .sort_values(\"entries\", ascending=False)).head(5)\n"
   ]
  },
  {
   "cell_type": "markdown",
   "metadata": {},
   "source": [
    "#### No more duplicate"
   ]
  },
  {
   "cell_type": "code",
   "execution_count": 34,
   "metadata": {},
   "outputs": [
    {
     "name": "stdout",
     "output_type": "stream",
     "text": [
      "<class 'pandas.core.frame.DataFrame'>\n",
      "Int64Index: 2709955 entries, 0 to 209462\n",
      "Data columns (total 12 columns):\n",
      " #   Column                    Dtype         \n",
      "---  ------                    -----         \n",
      " 0   control_area              object        \n",
      " 1   unit                      object        \n",
      " 2   subunit_channel_position  object        \n",
      " 3   station                   object        \n",
      " 4   line_name                 object        \n",
      " 5   division                  object        \n",
      " 6   date                      object        \n",
      " 7   time                      object        \n",
      " 8   description               object        \n",
      " 9   entries                   int64         \n",
      " 10  exits                     int64         \n",
      " 11  date_time                 datetime64[ns]\n",
      "dtypes: datetime64[ns](1), int64(2), object(9)\n",
      "memory usage: 268.8+ MB\n"
     ]
    }
   ],
   "source": [
    "# Display information of data frame\n",
    "df.info()"
   ]
  },
  {
   "cell_type": "code",
   "execution_count": 35,
   "metadata": {},
   "outputs": [
    {
     "data": {
      "text/html": [
       "<div>\n",
       "<style scoped>\n",
       "    .dataframe tbody tr th:only-of-type {\n",
       "        vertical-align: middle;\n",
       "    }\n",
       "\n",
       "    .dataframe tbody tr th {\n",
       "        vertical-align: top;\n",
       "    }\n",
       "\n",
       "    .dataframe thead th {\n",
       "        text-align: right;\n",
       "    }\n",
       "</style>\n",
       "<table border=\"1\" class=\"dataframe\">\n",
       "  <thead>\n",
       "    <tr style=\"text-align: right;\">\n",
       "      <th></th>\n",
       "      <th>control_area</th>\n",
       "      <th>unit</th>\n",
       "      <th>subunit_channel_position</th>\n",
       "      <th>station</th>\n",
       "      <th>line_name</th>\n",
       "      <th>division</th>\n",
       "      <th>date</th>\n",
       "      <th>time</th>\n",
       "      <th>description</th>\n",
       "      <th>entries</th>\n",
       "      <th>exits</th>\n",
       "      <th>date_time</th>\n",
       "    </tr>\n",
       "  </thead>\n",
       "  <tbody>\n",
       "    <tr>\n",
       "      <th>0</th>\n",
       "      <td>A002</td>\n",
       "      <td>R051</td>\n",
       "      <td>02-00-00</td>\n",
       "      <td>59 ST</td>\n",
       "      <td>NQR456W</td>\n",
       "      <td>BMT</td>\n",
       "      <td>04/24/2021</td>\n",
       "      <td>00:00:00</td>\n",
       "      <td>REGULAR</td>\n",
       "      <td>7561288</td>\n",
       "      <td>2582898</td>\n",
       "      <td>2021-04-24 00:00:00</td>\n",
       "    </tr>\n",
       "    <tr>\n",
       "      <th>1</th>\n",
       "      <td>A002</td>\n",
       "      <td>R051</td>\n",
       "      <td>02-00-00</td>\n",
       "      <td>59 ST</td>\n",
       "      <td>NQR456W</td>\n",
       "      <td>BMT</td>\n",
       "      <td>04/24/2021</td>\n",
       "      <td>04:00:00</td>\n",
       "      <td>REGULAR</td>\n",
       "      <td>7561295</td>\n",
       "      <td>2582903</td>\n",
       "      <td>2021-04-24 04:00:00</td>\n",
       "    </tr>\n",
       "    <tr>\n",
       "      <th>2</th>\n",
       "      <td>A002</td>\n",
       "      <td>R051</td>\n",
       "      <td>02-00-00</td>\n",
       "      <td>59 ST</td>\n",
       "      <td>NQR456W</td>\n",
       "      <td>BMT</td>\n",
       "      <td>04/24/2021</td>\n",
       "      <td>08:00:00</td>\n",
       "      <td>REGULAR</td>\n",
       "      <td>7561302</td>\n",
       "      <td>2582918</td>\n",
       "      <td>2021-04-24 08:00:00</td>\n",
       "    </tr>\n",
       "    <tr>\n",
       "      <th>3</th>\n",
       "      <td>A002</td>\n",
       "      <td>R051</td>\n",
       "      <td>02-00-00</td>\n",
       "      <td>59 ST</td>\n",
       "      <td>NQR456W</td>\n",
       "      <td>BMT</td>\n",
       "      <td>04/24/2021</td>\n",
       "      <td>12:00:00</td>\n",
       "      <td>REGULAR</td>\n",
       "      <td>7561336</td>\n",
       "      <td>2582977</td>\n",
       "      <td>2021-04-24 12:00:00</td>\n",
       "    </tr>\n",
       "    <tr>\n",
       "      <th>4</th>\n",
       "      <td>A002</td>\n",
       "      <td>R051</td>\n",
       "      <td>02-00-00</td>\n",
       "      <td>59 ST</td>\n",
       "      <td>NQR456W</td>\n",
       "      <td>BMT</td>\n",
       "      <td>04/24/2021</td>\n",
       "      <td>16:00:00</td>\n",
       "      <td>REGULAR</td>\n",
       "      <td>7561426</td>\n",
       "      <td>2583008</td>\n",
       "      <td>2021-04-24 16:00:00</td>\n",
       "    </tr>\n",
       "  </tbody>\n",
       "</table>\n",
       "</div>"
      ],
      "text/plain": [
       "  control_area  unit subunit_channel_position station line_name division  \\\n",
       "0         A002  R051                 02-00-00   59 ST   NQR456W      BMT   \n",
       "1         A002  R051                 02-00-00   59 ST   NQR456W      BMT   \n",
       "2         A002  R051                 02-00-00   59 ST   NQR456W      BMT   \n",
       "3         A002  R051                 02-00-00   59 ST   NQR456W      BMT   \n",
       "4         A002  R051                 02-00-00   59 ST   NQR456W      BMT   \n",
       "\n",
       "         date      time description  entries    exits           date_time  \n",
       "0  04/24/2021  00:00:00     REGULAR  7561288  2582898 2021-04-24 00:00:00  \n",
       "1  04/24/2021  04:00:00     REGULAR  7561295  2582903 2021-04-24 04:00:00  \n",
       "2  04/24/2021  08:00:00     REGULAR  7561302  2582918 2021-04-24 08:00:00  \n",
       "3  04/24/2021  12:00:00     REGULAR  7561336  2582977 2021-04-24 12:00:00  \n",
       "4  04/24/2021  16:00:00     REGULAR  7561426  2583008 2021-04-24 16:00:00  "
      ]
     },
     "execution_count": 35,
     "metadata": {},
     "output_type": "execute_result"
    }
   ],
   "source": [
    "# Display the first five rows after the initial cleaning\n",
    "df.head()"
   ]
  },
  {
   "cell_type": "markdown",
   "metadata": {},
   "source": [
    "#### Make a turnstile dataframe"
   ]
  },
  {
   "cell_type": "code",
   "execution_count": 36,
   "metadata": {},
   "outputs": [],
   "source": [
    "# Creat turnstiles_daily_entries data frame \n",
    "turnstiles_daily_entries = (df\n",
    "                        .groupby([\"control_area\", \"unit\", \"subunit_channel_position\", \"station\", \"date\"],as_index=False)\n",
    "                        .entries.first())"
   ]
  },
  {
   "cell_type": "code",
   "execution_count": 37,
   "metadata": {},
   "outputs": [
    {
     "data": {
      "text/html": [
       "<div>\n",
       "<style scoped>\n",
       "    .dataframe tbody tr th:only-of-type {\n",
       "        vertical-align: middle;\n",
       "    }\n",
       "\n",
       "    .dataframe tbody tr th {\n",
       "        vertical-align: top;\n",
       "    }\n",
       "\n",
       "    .dataframe thead th {\n",
       "        text-align: right;\n",
       "    }\n",
       "</style>\n",
       "<table border=\"1\" class=\"dataframe\">\n",
       "  <thead>\n",
       "    <tr style=\"text-align: right;\">\n",
       "      <th></th>\n",
       "      <th>control_area</th>\n",
       "      <th>unit</th>\n",
       "      <th>subunit_channel_position</th>\n",
       "      <th>station</th>\n",
       "      <th>date</th>\n",
       "      <th>entries</th>\n",
       "    </tr>\n",
       "  </thead>\n",
       "  <tbody>\n",
       "    <tr>\n",
       "      <th>0</th>\n",
       "      <td>A002</td>\n",
       "      <td>R051</td>\n",
       "      <td>02-00-00</td>\n",
       "      <td>59 ST</td>\n",
       "      <td>04/24/2021</td>\n",
       "      <td>7561288</td>\n",
       "    </tr>\n",
       "    <tr>\n",
       "      <th>1</th>\n",
       "      <td>A002</td>\n",
       "      <td>R051</td>\n",
       "      <td>02-00-00</td>\n",
       "      <td>59 ST</td>\n",
       "      <td>04/25/2021</td>\n",
       "      <td>7561638</td>\n",
       "    </tr>\n",
       "    <tr>\n",
       "      <th>2</th>\n",
       "      <td>A002</td>\n",
       "      <td>R051</td>\n",
       "      <td>02-00-00</td>\n",
       "      <td>59 ST</td>\n",
       "      <td>04/26/2021</td>\n",
       "      <td>7561870</td>\n",
       "    </tr>\n",
       "    <tr>\n",
       "      <th>3</th>\n",
       "      <td>A002</td>\n",
       "      <td>R051</td>\n",
       "      <td>02-00-00</td>\n",
       "      <td>59 ST</td>\n",
       "      <td>04/27/2021</td>\n",
       "      <td>7562365</td>\n",
       "    </tr>\n",
       "    <tr>\n",
       "      <th>4</th>\n",
       "      <td>A002</td>\n",
       "      <td>R051</td>\n",
       "      <td>02-00-00</td>\n",
       "      <td>59 ST</td>\n",
       "      <td>04/28/2021</td>\n",
       "      <td>7562953</td>\n",
       "    </tr>\n",
       "  </tbody>\n",
       "</table>\n",
       "</div>"
      ],
      "text/plain": [
       "  control_area  unit subunit_channel_position station        date  entries\n",
       "0         A002  R051                 02-00-00   59 ST  04/24/2021  7561288\n",
       "1         A002  R051                 02-00-00   59 ST  04/25/2021  7561638\n",
       "2         A002  R051                 02-00-00   59 ST  04/26/2021  7561870\n",
       "3         A002  R051                 02-00-00   59 ST  04/27/2021  7562365\n",
       "4         A002  R051                 02-00-00   59 ST  04/28/2021  7562953"
      ]
     },
     "execution_count": 37,
     "metadata": {},
     "output_type": "execute_result"
    }
   ],
   "source": [
    "# Display the first five rows\n",
    "turnstiles_daily_entries.head()"
   ]
  },
  {
   "cell_type": "markdown",
   "metadata": {},
   "source": [
    "#### Adding a new columns in turnstile dataframe"
   ]
  },
  {
   "cell_type": "code",
   "execution_count": 38,
   "metadata": {},
   "outputs": [
    {
     "name": "stderr",
     "output_type": "stream",
     "text": [
      "<ipython-input-38-f55a47d44da0>:2: FutureWarning: Indexing with multiple keys (implicitly converted to a tuple of keys) will be deprecated, use a list instead.\n",
      "  turnstiles_daily_entries[[\"pre_entries_date\", \"pre_entries\"]] = (turnstiles_daily_entries\n"
     ]
    }
   ],
   "source": [
    "# Adding two columns to turnstiles_daily_entries data frame\n",
    "turnstiles_daily_entries[[\"pre_entries_date\", \"pre_entries\"]] = (turnstiles_daily_entries\n",
    "                                                       .groupby([\"control_area\", \"unit\", \"subunit_channel_position\", \"station\"])[\"date\", \"entries\"]\n",
    "                                                       .apply(lambda grp: grp.shift(1)))\n",
    "#apply the shift function by 1"
   ]
  },
  {
   "cell_type": "code",
   "execution_count": 39,
   "metadata": {},
   "outputs": [],
   "source": [
    "# Adding column diff_entries \n",
    "turnstiles_daily_entries[\"diff_entries\"] = (turnstiles_daily_entries\n",
    "                                                       .groupby([\"control_area\", \"unit\", \"subunit_channel_position\", \"station\"])[\"entries\"]\n",
    "                                                       .apply(lambda x: x.diff()))"
   ]
  },
  {
   "cell_type": "code",
   "execution_count": 40,
   "metadata": {},
   "outputs": [
    {
     "data": {
      "text/html": [
       "<div>\n",
       "<style scoped>\n",
       "    .dataframe tbody tr th:only-of-type {\n",
       "        vertical-align: middle;\n",
       "    }\n",
       "\n",
       "    .dataframe tbody tr th {\n",
       "        vertical-align: top;\n",
       "    }\n",
       "\n",
       "    .dataframe thead th {\n",
       "        text-align: right;\n",
       "    }\n",
       "</style>\n",
       "<table border=\"1\" class=\"dataframe\">\n",
       "  <thead>\n",
       "    <tr style=\"text-align: right;\">\n",
       "      <th></th>\n",
       "      <th>control_area</th>\n",
       "      <th>unit</th>\n",
       "      <th>subunit_channel_position</th>\n",
       "      <th>station</th>\n",
       "      <th>date</th>\n",
       "      <th>entries</th>\n",
       "      <th>pre_entries_date</th>\n",
       "      <th>pre_entries</th>\n",
       "      <th>diff_entries</th>\n",
       "    </tr>\n",
       "  </thead>\n",
       "  <tbody>\n",
       "    <tr>\n",
       "      <th>0</th>\n",
       "      <td>A002</td>\n",
       "      <td>R051</td>\n",
       "      <td>02-00-00</td>\n",
       "      <td>59 ST</td>\n",
       "      <td>04/24/2021</td>\n",
       "      <td>7561288</td>\n",
       "      <td>NaN</td>\n",
       "      <td>NaN</td>\n",
       "      <td>NaN</td>\n",
       "    </tr>\n",
       "    <tr>\n",
       "      <th>1</th>\n",
       "      <td>A002</td>\n",
       "      <td>R051</td>\n",
       "      <td>02-00-00</td>\n",
       "      <td>59 ST</td>\n",
       "      <td>04/25/2021</td>\n",
       "      <td>7561638</td>\n",
       "      <td>04/24/2021</td>\n",
       "      <td>7561288.0</td>\n",
       "      <td>350.0</td>\n",
       "    </tr>\n",
       "    <tr>\n",
       "      <th>2</th>\n",
       "      <td>A002</td>\n",
       "      <td>R051</td>\n",
       "      <td>02-00-00</td>\n",
       "      <td>59 ST</td>\n",
       "      <td>04/26/2021</td>\n",
       "      <td>7561870</td>\n",
       "      <td>04/25/2021</td>\n",
       "      <td>7561638.0</td>\n",
       "      <td>232.0</td>\n",
       "    </tr>\n",
       "    <tr>\n",
       "      <th>3</th>\n",
       "      <td>A002</td>\n",
       "      <td>R051</td>\n",
       "      <td>02-00-00</td>\n",
       "      <td>59 ST</td>\n",
       "      <td>04/27/2021</td>\n",
       "      <td>7562365</td>\n",
       "      <td>04/26/2021</td>\n",
       "      <td>7561870.0</td>\n",
       "      <td>495.0</td>\n",
       "    </tr>\n",
       "    <tr>\n",
       "      <th>4</th>\n",
       "      <td>A002</td>\n",
       "      <td>R051</td>\n",
       "      <td>02-00-00</td>\n",
       "      <td>59 ST</td>\n",
       "      <td>04/28/2021</td>\n",
       "      <td>7562953</td>\n",
       "      <td>04/27/2021</td>\n",
       "      <td>7562365.0</td>\n",
       "      <td>588.0</td>\n",
       "    </tr>\n",
       "  </tbody>\n",
       "</table>\n",
       "</div>"
      ],
      "text/plain": [
       "  control_area  unit subunit_channel_position station        date  entries  \\\n",
       "0         A002  R051                 02-00-00   59 ST  04/24/2021  7561288   \n",
       "1         A002  R051                 02-00-00   59 ST  04/25/2021  7561638   \n",
       "2         A002  R051                 02-00-00   59 ST  04/26/2021  7561870   \n",
       "3         A002  R051                 02-00-00   59 ST  04/27/2021  7562365   \n",
       "4         A002  R051                 02-00-00   59 ST  04/28/2021  7562953   \n",
       "\n",
       "  pre_entries_date  pre_entries  diff_entries  \n",
       "0              NaN          NaN           NaN  \n",
       "1       04/24/2021    7561288.0         350.0  \n",
       "2       04/25/2021    7561638.0         232.0  \n",
       "3       04/26/2021    7561870.0         495.0  \n",
       "4       04/27/2021    7562365.0         588.0  "
      ]
     },
     "execution_count": 40,
     "metadata": {},
     "output_type": "execute_result"
    }
   ],
   "source": [
    "# Display the first five rows of turnstiles_daily_entries data frame\n",
    "turnstiles_daily_entries.head()"
   ]
  },
  {
   "cell_type": "code",
   "execution_count": 41,
   "metadata": {},
   "outputs": [
    {
     "data": {
      "text/html": [
       "<div>\n",
       "<style scoped>\n",
       "    .dataframe tbody tr th:only-of-type {\n",
       "        vertical-align: middle;\n",
       "    }\n",
       "\n",
       "    .dataframe tbody tr th {\n",
       "        vertical-align: top;\n",
       "    }\n",
       "\n",
       "    .dataframe thead th {\n",
       "        text-align: right;\n",
       "    }\n",
       "</style>\n",
       "<table border=\"1\" class=\"dataframe\">\n",
       "  <thead>\n",
       "    <tr style=\"text-align: right;\">\n",
       "      <th></th>\n",
       "      <th>control_area</th>\n",
       "      <th>unit</th>\n",
       "      <th>subunit_channel_position</th>\n",
       "      <th>station</th>\n",
       "      <th>date</th>\n",
       "      <th>entries</th>\n",
       "      <th>pre_entries_date</th>\n",
       "      <th>pre_entries</th>\n",
       "      <th>diff_entries</th>\n",
       "    </tr>\n",
       "  </thead>\n",
       "  <tbody>\n",
       "    <tr>\n",
       "      <th>454074</th>\n",
       "      <td>TRAM2</td>\n",
       "      <td>R469</td>\n",
       "      <td>00-05-01</td>\n",
       "      <td>RIT-ROOSEVELT</td>\n",
       "      <td>07/26/2021</td>\n",
       "      <td>5554</td>\n",
       "      <td>07/25/2021</td>\n",
       "      <td>5554.0</td>\n",
       "      <td>0.0</td>\n",
       "    </tr>\n",
       "    <tr>\n",
       "      <th>454075</th>\n",
       "      <td>TRAM2</td>\n",
       "      <td>R469</td>\n",
       "      <td>00-05-01</td>\n",
       "      <td>RIT-ROOSEVELT</td>\n",
       "      <td>07/27/2021</td>\n",
       "      <td>5554</td>\n",
       "      <td>07/26/2021</td>\n",
       "      <td>5554.0</td>\n",
       "      <td>0.0</td>\n",
       "    </tr>\n",
       "    <tr>\n",
       "      <th>454076</th>\n",
       "      <td>TRAM2</td>\n",
       "      <td>R469</td>\n",
       "      <td>00-05-01</td>\n",
       "      <td>RIT-ROOSEVELT</td>\n",
       "      <td>07/28/2021</td>\n",
       "      <td>5554</td>\n",
       "      <td>07/27/2021</td>\n",
       "      <td>5554.0</td>\n",
       "      <td>0.0</td>\n",
       "    </tr>\n",
       "    <tr>\n",
       "      <th>454077</th>\n",
       "      <td>TRAM2</td>\n",
       "      <td>R469</td>\n",
       "      <td>00-05-01</td>\n",
       "      <td>RIT-ROOSEVELT</td>\n",
       "      <td>07/29/2021</td>\n",
       "      <td>5554</td>\n",
       "      <td>07/28/2021</td>\n",
       "      <td>5554.0</td>\n",
       "      <td>0.0</td>\n",
       "    </tr>\n",
       "    <tr>\n",
       "      <th>454078</th>\n",
       "      <td>TRAM2</td>\n",
       "      <td>R469</td>\n",
       "      <td>00-05-01</td>\n",
       "      <td>RIT-ROOSEVELT</td>\n",
       "      <td>07/30/2021</td>\n",
       "      <td>5554</td>\n",
       "      <td>07/29/2021</td>\n",
       "      <td>5554.0</td>\n",
       "      <td>0.0</td>\n",
       "    </tr>\n",
       "  </tbody>\n",
       "</table>\n",
       "</div>"
      ],
      "text/plain": [
       "       control_area  unit subunit_channel_position        station        date  \\\n",
       "454074        TRAM2  R469                 00-05-01  RIT-ROOSEVELT  07/26/2021   \n",
       "454075        TRAM2  R469                 00-05-01  RIT-ROOSEVELT  07/27/2021   \n",
       "454076        TRAM2  R469                 00-05-01  RIT-ROOSEVELT  07/28/2021   \n",
       "454077        TRAM2  R469                 00-05-01  RIT-ROOSEVELT  07/29/2021   \n",
       "454078        TRAM2  R469                 00-05-01  RIT-ROOSEVELT  07/30/2021   \n",
       "\n",
       "        entries pre_entries_date  pre_entries  diff_entries  \n",
       "454074     5554       07/25/2021       5554.0           0.0  \n",
       "454075     5554       07/26/2021       5554.0           0.0  \n",
       "454076     5554       07/27/2021       5554.0           0.0  \n",
       "454077     5554       07/28/2021       5554.0           0.0  \n",
       "454078     5554       07/29/2021       5554.0           0.0  "
      ]
     },
     "execution_count": 41,
     "metadata": {},
     "output_type": "execute_result"
    }
   ],
   "source": [
    "# Display the last five rows of turnstiles_daily_entries data frame\n",
    "turnstiles_daily_entries.tail()"
   ]
  },
  {
   "cell_type": "code",
   "execution_count": 42,
   "metadata": {},
   "outputs": [],
   "source": [
    "# Drop the rows for the earliest date in the df\n",
    "turnstiles_daily_entries.dropna(subset=[\"pre_entries_date\",'pre_entries'], axis=0, inplace=True)"
   ]
  },
  {
   "cell_type": "code",
   "execution_count": 43,
   "metadata": {},
   "outputs": [
    {
     "data": {
      "text/plain": [
       "control_area                0\n",
       "unit                        0\n",
       "subunit_channel_position    0\n",
       "station                     0\n",
       "date                        0\n",
       "entries                     0\n",
       "pre_entries_date            0\n",
       "pre_entries                 0\n",
       "diff_entries                0\n",
       "dtype: int64"
      ]
     },
     "execution_count": 43,
     "metadata": {},
     "output_type": "execute_result"
    }
   ],
   "source": [
    "# Check there is no null value in data frame\n",
    "turnstiles_daily_entries.isna().sum()"
   ]
  },
  {
   "cell_type": "code",
   "execution_count": 44,
   "metadata": {},
   "outputs": [
    {
     "data": {
      "text/html": [
       "<div>\n",
       "<style scoped>\n",
       "    .dataframe tbody tr th:only-of-type {\n",
       "        vertical-align: middle;\n",
       "    }\n",
       "\n",
       "    .dataframe tbody tr th {\n",
       "        vertical-align: top;\n",
       "    }\n",
       "\n",
       "    .dataframe thead th {\n",
       "        text-align: right;\n",
       "    }\n",
       "</style>\n",
       "<table border=\"1\" class=\"dataframe\">\n",
       "  <thead>\n",
       "    <tr style=\"text-align: right;\">\n",
       "      <th></th>\n",
       "      <th>control_area</th>\n",
       "      <th>unit</th>\n",
       "      <th>subunit_channel_position</th>\n",
       "      <th>station</th>\n",
       "      <th>date</th>\n",
       "      <th>entries</th>\n",
       "      <th>pre_entries_date</th>\n",
       "      <th>pre_entries</th>\n",
       "      <th>diff_entries</th>\n",
       "    </tr>\n",
       "  </thead>\n",
       "  <tbody>\n",
       "    <tr>\n",
       "      <th>3550</th>\n",
       "      <td>A011</td>\n",
       "      <td>R080</td>\n",
       "      <td>01-03-00</td>\n",
       "      <td>57 ST-7 AV</td>\n",
       "      <td>04/25/2021</td>\n",
       "      <td>885609559</td>\n",
       "      <td>04/24/2021</td>\n",
       "      <td>8.856097e+08</td>\n",
       "      <td>-166.0</td>\n",
       "    </tr>\n",
       "    <tr>\n",
       "      <th>3551</th>\n",
       "      <td>A011</td>\n",
       "      <td>R080</td>\n",
       "      <td>01-03-00</td>\n",
       "      <td>57 ST-7 AV</td>\n",
       "      <td>04/26/2021</td>\n",
       "      <td>885609408</td>\n",
       "      <td>04/25/2021</td>\n",
       "      <td>8.856096e+08</td>\n",
       "      <td>-151.0</td>\n",
       "    </tr>\n",
       "    <tr>\n",
       "      <th>3552</th>\n",
       "      <td>A011</td>\n",
       "      <td>R080</td>\n",
       "      <td>01-03-00</td>\n",
       "      <td>57 ST-7 AV</td>\n",
       "      <td>04/27/2021</td>\n",
       "      <td>885609207</td>\n",
       "      <td>04/26/2021</td>\n",
       "      <td>8.856094e+08</td>\n",
       "      <td>-201.0</td>\n",
       "    </tr>\n",
       "    <tr>\n",
       "      <th>3553</th>\n",
       "      <td>A011</td>\n",
       "      <td>R080</td>\n",
       "      <td>01-03-00</td>\n",
       "      <td>57 ST-7 AV</td>\n",
       "      <td>04/28/2021</td>\n",
       "      <td>885608991</td>\n",
       "      <td>04/27/2021</td>\n",
       "      <td>8.856092e+08</td>\n",
       "      <td>-216.0</td>\n",
       "    </tr>\n",
       "    <tr>\n",
       "      <th>3554</th>\n",
       "      <td>A011</td>\n",
       "      <td>R080</td>\n",
       "      <td>01-03-00</td>\n",
       "      <td>57 ST-7 AV</td>\n",
       "      <td>04/29/2021</td>\n",
       "      <td>885608748</td>\n",
       "      <td>04/28/2021</td>\n",
       "      <td>8.856090e+08</td>\n",
       "      <td>-243.0</td>\n",
       "    </tr>\n",
       "    <tr>\n",
       "      <th>...</th>\n",
       "      <td>...</td>\n",
       "      <td>...</td>\n",
       "      <td>...</td>\n",
       "      <td>...</td>\n",
       "      <td>...</td>\n",
       "      <td>...</td>\n",
       "      <td>...</td>\n",
       "      <td>...</td>\n",
       "      <td>...</td>\n",
       "    </tr>\n",
       "    <tr>\n",
       "      <th>450259</th>\n",
       "      <td>R730</td>\n",
       "      <td>R431</td>\n",
       "      <td>00-00-04</td>\n",
       "      <td>EASTCHSTER/DYRE</td>\n",
       "      <td>07/27/2021</td>\n",
       "      <td>1559803712</td>\n",
       "      <td>07/26/2021</td>\n",
       "      <td>1.559804e+09</td>\n",
       "      <td>-158.0</td>\n",
       "    </tr>\n",
       "    <tr>\n",
       "      <th>450260</th>\n",
       "      <td>R730</td>\n",
       "      <td>R431</td>\n",
       "      <td>00-00-04</td>\n",
       "      <td>EASTCHSTER/DYRE</td>\n",
       "      <td>07/28/2021</td>\n",
       "      <td>1559803547</td>\n",
       "      <td>07/27/2021</td>\n",
       "      <td>1.559804e+09</td>\n",
       "      <td>-165.0</td>\n",
       "    </tr>\n",
       "    <tr>\n",
       "      <th>450261</th>\n",
       "      <td>R730</td>\n",
       "      <td>R431</td>\n",
       "      <td>00-00-04</td>\n",
       "      <td>EASTCHSTER/DYRE</td>\n",
       "      <td>07/29/2021</td>\n",
       "      <td>1559803380</td>\n",
       "      <td>07/28/2021</td>\n",
       "      <td>1.559804e+09</td>\n",
       "      <td>-167.0</td>\n",
       "    </tr>\n",
       "    <tr>\n",
       "      <th>450262</th>\n",
       "      <td>R730</td>\n",
       "      <td>R431</td>\n",
       "      <td>00-00-04</td>\n",
       "      <td>EASTCHSTER/DYRE</td>\n",
       "      <td>07/30/2021</td>\n",
       "      <td>1559803230</td>\n",
       "      <td>07/29/2021</td>\n",
       "      <td>1.559803e+09</td>\n",
       "      <td>-150.0</td>\n",
       "    </tr>\n",
       "    <tr>\n",
       "      <th>453923</th>\n",
       "      <td>TRAM2</td>\n",
       "      <td>R469</td>\n",
       "      <td>00-05-00</td>\n",
       "      <td>RIT-ROOSEVELT</td>\n",
       "      <td>05/27/2021</td>\n",
       "      <td>0</td>\n",
       "      <td>05/26/2021</td>\n",
       "      <td>1.445503e+07</td>\n",
       "      <td>-14455033.0</td>\n",
       "    </tr>\n",
       "  </tbody>\n",
       "</table>\n",
       "<p>4227 rows × 9 columns</p>\n",
       "</div>"
      ],
      "text/plain": [
       "       control_area  unit subunit_channel_position          station  \\\n",
       "3550           A011  R080                 01-03-00       57 ST-7 AV   \n",
       "3551           A011  R080                 01-03-00       57 ST-7 AV   \n",
       "3552           A011  R080                 01-03-00       57 ST-7 AV   \n",
       "3553           A011  R080                 01-03-00       57 ST-7 AV   \n",
       "3554           A011  R080                 01-03-00       57 ST-7 AV   \n",
       "...             ...   ...                      ...              ...   \n",
       "450259         R730  R431                 00-00-04  EASTCHSTER/DYRE   \n",
       "450260         R730  R431                 00-00-04  EASTCHSTER/DYRE   \n",
       "450261         R730  R431                 00-00-04  EASTCHSTER/DYRE   \n",
       "450262         R730  R431                 00-00-04  EASTCHSTER/DYRE   \n",
       "453923        TRAM2  R469                 00-05-00    RIT-ROOSEVELT   \n",
       "\n",
       "              date     entries pre_entries_date   pre_entries  diff_entries  \n",
       "3550    04/25/2021   885609559       04/24/2021  8.856097e+08        -166.0  \n",
       "3551    04/26/2021   885609408       04/25/2021  8.856096e+08        -151.0  \n",
       "3552    04/27/2021   885609207       04/26/2021  8.856094e+08        -201.0  \n",
       "3553    04/28/2021   885608991       04/27/2021  8.856092e+08        -216.0  \n",
       "3554    04/29/2021   885608748       04/28/2021  8.856090e+08        -243.0  \n",
       "...            ...         ...              ...           ...           ...  \n",
       "450259  07/27/2021  1559803712       07/26/2021  1.559804e+09        -158.0  \n",
       "450260  07/28/2021  1559803547       07/27/2021  1.559804e+09        -165.0  \n",
       "450261  07/29/2021  1559803380       07/28/2021  1.559804e+09        -167.0  \n",
       "450262  07/30/2021  1559803230       07/29/2021  1.559803e+09        -150.0  \n",
       "453923  05/27/2021           0       05/26/2021  1.445503e+07   -14455033.0  \n",
       "\n",
       "[4227 rows x 9 columns]"
      ]
     },
     "execution_count": 44,
     "metadata": {},
     "output_type": "execute_result"
    }
   ],
   "source": [
    "# Check if entries less than the previos entries\n",
    "turnstiles_daily_entries[turnstiles_daily_entries[\"entries\"] < turnstiles_daily_entries[\"pre_entries\"]]"
   ]
  },
  {
   "cell_type": "code",
   "execution_count": 45,
   "metadata": {},
   "outputs": [
    {
     "data": {
      "text/plain": [
       "42 ST-PORT AUTH    271\n",
       "DEKALB AV          268\n",
       "BAY PKWY           180\n",
       "14 ST              180\n",
       "GRD CNTRL-42 ST    160\n",
       "                  ... \n",
       "82 ST-JACKSON H      1\n",
       "40 ST LOWERY ST      1\n",
       "WHITEHALL S-FRY      1\n",
       "116 ST               1\n",
       "JKSN HT-ROOSVLT      1\n",
       "Name: station, Length: 115, dtype: int64"
      ]
     },
     "execution_count": 45,
     "metadata": {},
     "output_type": "execute_result"
    }
   ],
   "source": [
    "# The number of the verification condtion for each station\n",
    "turnstiles_daily_entries[\"station\"][turnstiles_daily_entries[\"entries\"] < turnstiles_daily_entries[\"pre_entries\"]].value_counts()"
   ]
  },
  {
   "cell_type": "code",
   "execution_count": 46,
   "metadata": {},
   "outputs": [
    {
     "data": {
      "text/html": [
       "<div>\n",
       "<style scoped>\n",
       "    .dataframe tbody tr th:only-of-type {\n",
       "        vertical-align: middle;\n",
       "    }\n",
       "\n",
       "    .dataframe tbody tr th {\n",
       "        vertical-align: top;\n",
       "    }\n",
       "\n",
       "    .dataframe thead th {\n",
       "        text-align: right;\n",
       "    }\n",
       "</style>\n",
       "<table border=\"1\" class=\"dataframe\">\n",
       "  <thead>\n",
       "    <tr style=\"text-align: right;\">\n",
       "      <th></th>\n",
       "      <th>control_area</th>\n",
       "      <th>unit</th>\n",
       "      <th>subunit_channel_position</th>\n",
       "      <th>station</th>\n",
       "      <th>date</th>\n",
       "      <th>entries</th>\n",
       "      <th>pre_entries_date</th>\n",
       "      <th>pre_entries</th>\n",
       "      <th>diff_entries</th>\n",
       "    </tr>\n",
       "  </thead>\n",
       "  <tbody>\n",
       "    <tr>\n",
       "      <th>3550</th>\n",
       "      <td>A011</td>\n",
       "      <td>R080</td>\n",
       "      <td>01-03-00</td>\n",
       "      <td>57 ST-7 AV</td>\n",
       "      <td>04/25/2021</td>\n",
       "      <td>885609559</td>\n",
       "      <td>04/24/2021</td>\n",
       "      <td>885609725.0</td>\n",
       "      <td>-166.0</td>\n",
       "    </tr>\n",
       "    <tr>\n",
       "      <th>3551</th>\n",
       "      <td>A011</td>\n",
       "      <td>R080</td>\n",
       "      <td>01-03-00</td>\n",
       "      <td>57 ST-7 AV</td>\n",
       "      <td>04/26/2021</td>\n",
       "      <td>885609408</td>\n",
       "      <td>04/25/2021</td>\n",
       "      <td>885609559.0</td>\n",
       "      <td>-151.0</td>\n",
       "    </tr>\n",
       "    <tr>\n",
       "      <th>3552</th>\n",
       "      <td>A011</td>\n",
       "      <td>R080</td>\n",
       "      <td>01-03-00</td>\n",
       "      <td>57 ST-7 AV</td>\n",
       "      <td>04/27/2021</td>\n",
       "      <td>885609207</td>\n",
       "      <td>04/26/2021</td>\n",
       "      <td>885609408.0</td>\n",
       "      <td>-201.0</td>\n",
       "    </tr>\n",
       "    <tr>\n",
       "      <th>3553</th>\n",
       "      <td>A011</td>\n",
       "      <td>R080</td>\n",
       "      <td>01-03-00</td>\n",
       "      <td>57 ST-7 AV</td>\n",
       "      <td>04/28/2021</td>\n",
       "      <td>885608991</td>\n",
       "      <td>04/27/2021</td>\n",
       "      <td>885609207.0</td>\n",
       "      <td>-216.0</td>\n",
       "    </tr>\n",
       "    <tr>\n",
       "      <th>3554</th>\n",
       "      <td>A011</td>\n",
       "      <td>R080</td>\n",
       "      <td>01-03-00</td>\n",
       "      <td>57 ST-7 AV</td>\n",
       "      <td>04/29/2021</td>\n",
       "      <td>885608748</td>\n",
       "      <td>04/28/2021</td>\n",
       "      <td>885608991.0</td>\n",
       "      <td>-243.0</td>\n",
       "    </tr>\n",
       "  </tbody>\n",
       "</table>\n",
       "</div>"
      ],
      "text/plain": [
       "     control_area  unit subunit_channel_position     station        date  \\\n",
       "3550         A011  R080                 01-03-00  57 ST-7 AV  04/25/2021   \n",
       "3551         A011  R080                 01-03-00  57 ST-7 AV  04/26/2021   \n",
       "3552         A011  R080                 01-03-00  57 ST-7 AV  04/27/2021   \n",
       "3553         A011  R080                 01-03-00  57 ST-7 AV  04/28/2021   \n",
       "3554         A011  R080                 01-03-00  57 ST-7 AV  04/29/2021   \n",
       "\n",
       "        entries pre_entries_date  pre_entries  diff_entries  \n",
       "3550  885609559       04/24/2021  885609725.0        -166.0  \n",
       "3551  885609408       04/25/2021  885609559.0        -151.0  \n",
       "3552  885609207       04/26/2021  885609408.0        -201.0  \n",
       "3553  885608991       04/27/2021  885609207.0        -216.0  \n",
       "3554  885608748       04/28/2021  885608991.0        -243.0  "
      ]
     },
     "execution_count": 46,
     "metadata": {},
     "output_type": "execute_result"
    }
   ],
   "source": [
    "turnstiles_daily_entries[turnstiles_daily_entries[\"entries\"] < turnstiles_daily_entries[\"pre_entries\"]].head()"
   ]
  },
  {
   "cell_type": "code",
   "execution_count": 47,
   "metadata": {
    "scrolled": true
   },
   "outputs": [
    {
     "data": {
      "text/plain": [
       "control_area  unit  subunit_channel_position  station        \n",
       "A011          R080  01-03-00                  57 ST-7 AV         90\n",
       "                    01-03-03                  57 ST-7 AV          1\n",
       "                    01-03-04                  57 ST-7 AV          1\n",
       "A013          R081  01-06-01                  49 ST               2\n",
       "A014          R081  02-00-00                  49 ST               1\n",
       "                                                                 ..\n",
       "R612          R057  01-05-00                  ATL AV-BARCLAY      1\n",
       "R617          R058  00-00-02                  BERGEN ST           1\n",
       "R622          R123  00-00-00                  FRANKLIN AV        90\n",
       "R730          R431  00-00-04                  EASTCHSTER/DYRE    88\n",
       "TRAM2         R469  00-05-00                  RIT-ROOSEVELT       1\n",
       "Length: 214, dtype: int64"
      ]
     },
     "execution_count": 47,
     "metadata": {},
     "output_type": "execute_result"
    }
   ],
   "source": [
    "# If the condtion is true grouped by turnstile and station\n",
    "(turnstiles_daily_entries[turnstiles_daily_entries[\"entries\"] < turnstiles_daily_entries[\"pre_entries\"]]\n",
    "    .groupby([\"control_area\", \"unit\", \"subunit_channel_position\", \"station\"])\n",
    "    .size())"
   ]
  },
  {
   "cell_type": "markdown",
   "metadata": {},
   "source": [
    "#### Fixing the order problem"
   ]
  },
  {
   "cell_type": "code",
   "execution_count": 48,
   "metadata": {},
   "outputs": [
    {
     "name": "stdout",
     "output_type": "stream",
     "text": [
      "3091 1390173.0\n",
      "1308 4340554.0\n",
      "14 1028362.0\n",
      "327680 756269765.0\n",
      "193 8049630.0\n",
      "0 5309746.0\n",
      "16 2651099.0\n",
      "30 2627867.0\n",
      "200 1605012.0\n",
      "6006 4298763.0\n",
      "237 8882974.0\n",
      "132 4454753.0\n",
      "189 7643368.0\n",
      "328039 7577096.0\n",
      "238 4780275.0\n",
      "4 1534984195.0\n",
      "67109632 14.0\n",
      "327682 67109640.0\n",
      "67109632 1.0\n",
      "15 67109632.0\n",
      "12517625 94.0\n",
      "95 5405384.0\n",
      "687970645 19471254.0\n",
      "30 7489966.0\n",
      "16777220 1037158.0\n",
      "271 6101347.0\n",
      "4825276 12538332.0\n",
      "12539185 4825276.0\n",
      "181 1657902.0\n",
      "231 2524688.0\n",
      "262156 2393343.0\n",
      "67437911 375578.0\n",
      "20 4070949.0\n",
      "35 58304767.0\n",
      "5430 2341294.0\n",
      "2 33030303.0\n",
      "572 5198164.0\n",
      "111 2320052.0\n",
      "302 1953511.0\n",
      "90 4788199.0\n",
      "393412 104110962.0\n",
      "118 909043446.0\n",
      "406 4470923.0\n",
      "197281 1891026.0\n",
      "196879 3277263.0\n",
      "87 303654987.0\n",
      "11 3145365.0\n",
      "35 10736984.0\n",
      "146668937 1123536132.0\n",
      "1191142633 12133821.0\n",
      "1441860 12919099.0\n",
      "13943214 8899046.0\n",
      "69 4183423.0\n",
      "199 1653251.0\n",
      "432 11851565.0\n",
      "24 1925928.0\n",
      "327683 50346231.0\n",
      "14455033 262146.0\n",
      "0 14455033.0\n"
     ]
    }
   ],
   "source": [
    "# Ensure there is no negative data\n",
    "def get_daily_counts(row,max_counter):\n",
    "    counter=row['entries'] - row['pre_entries']\n",
    "    if counter<0:\n",
    "        counter= - counter\n",
    "    if counter >max_counter:\n",
    "        print(row['entries'],row['pre_entries'])\n",
    "        return 0\n",
    "    return counter\n",
    "\n",
    "x = turnstiles_daily_entries.apply(get_daily_counts ,axis=1,max_counter=1000000)\n"
   ]
  },
  {
   "cell_type": "code",
   "execution_count": 49,
   "metadata": {},
   "outputs": [
    {
     "name": "stdout",
     "output_type": "stream",
     "text": [
      "3091 1390173.0\n",
      "1308 4340554.0\n",
      "14 1028362.0\n",
      "327680 756269765.0\n",
      "193 8049630.0\n",
      "0 5309746.0\n",
      "16 2651099.0\n",
      "30 2627867.0\n",
      "200 1605012.0\n",
      "6006 4298763.0\n",
      "237 8882974.0\n",
      "132 4454753.0\n",
      "189 7643368.0\n",
      "328039 7577096.0\n",
      "238 4780275.0\n",
      "4 1534984195.0\n",
      "67109632 14.0\n",
      "327682 67109640.0\n",
      "67109632 1.0\n",
      "15 67109632.0\n",
      "12517625 94.0\n",
      "95 5405384.0\n",
      "687970645 19471254.0\n",
      "30 7489966.0\n",
      "16777220 1037158.0\n",
      "271 6101347.0\n",
      "4825276 12538332.0\n",
      "12539185 4825276.0\n",
      "181 1657902.0\n",
      "231 2524688.0\n",
      "262156 2393343.0\n",
      "67437911 375578.0\n",
      "20 4070949.0\n",
      "35 58304767.0\n",
      "5430 2341294.0\n",
      "2 33030303.0\n",
      "572 5198164.0\n",
      "111 2320052.0\n",
      "302 1953511.0\n",
      "90 4788199.0\n",
      "393412 104110962.0\n",
      "118 909043446.0\n",
      "406 4470923.0\n",
      "197281 1891026.0\n",
      "196879 3277263.0\n",
      "87 303654987.0\n",
      "11 3145365.0\n",
      "35 10736984.0\n",
      "146668937 1123536132.0\n",
      "1191142633 12133821.0\n",
      "1441860 12919099.0\n",
      "13943214 8899046.0\n",
      "69 4183423.0\n",
      "199 1653251.0\n",
      "432 11851565.0\n",
      "24 1925928.0\n",
      "327683 50346231.0\n",
      "14455033 262146.0\n",
      "0 14455033.0\n"
     ]
    }
   ],
   "source": [
    "def get_daily_counts(row, max_counter):\n",
    "    counter = row[\"entries\"] - row[\"pre_entries\"]\n",
    "    if counter < 0:\n",
    "        # Maybe counter is reversed?\n",
    "        counter = -counter\n",
    "    if counter > max_counter:\n",
    "        # Maybe counter was reset to 0? \n",
    "        print(row[\"entries\"], row[\"pre_entries\"])\n",
    "        counter = min(row[\"entries\"], row[\"pre_entries\"])\n",
    "    if counter > max_counter:\n",
    "        # Check it again to make sure we're not still giving a counter that's too big\n",
    "        return 0\n",
    "    return counter\n",
    "\n",
    "# If counter is > 1Million, then the counter might have been reset.  \n",
    "# Just set it to zero as different counters have different cycle limits\n",
    "# It'd probably be a good idea to use a number even significantly smaller than 1 million as the limit!\n",
    "turnstiles_daily_entries[\"daily_entries\"] = turnstiles_daily_entries.apply(get_daily_counts, axis=1, max_counter=1000000)"
   ]
  },
  {
   "cell_type": "code",
   "execution_count": 50,
   "metadata": {},
   "outputs": [
    {
     "data": {
      "text/html": [
       "<div>\n",
       "<style scoped>\n",
       "    .dataframe tbody tr th:only-of-type {\n",
       "        vertical-align: middle;\n",
       "    }\n",
       "\n",
       "    .dataframe tbody tr th {\n",
       "        vertical-align: top;\n",
       "    }\n",
       "\n",
       "    .dataframe thead th {\n",
       "        text-align: right;\n",
       "    }\n",
       "</style>\n",
       "<table border=\"1\" class=\"dataframe\">\n",
       "  <thead>\n",
       "    <tr style=\"text-align: right;\">\n",
       "      <th></th>\n",
       "      <th>control_area</th>\n",
       "      <th>unit</th>\n",
       "      <th>subunit_channel_position</th>\n",
       "      <th>station</th>\n",
       "      <th>date</th>\n",
       "      <th>entries</th>\n",
       "      <th>pre_entries_date</th>\n",
       "      <th>pre_entries</th>\n",
       "      <th>diff_entries</th>\n",
       "      <th>daily_entries</th>\n",
       "    </tr>\n",
       "  </thead>\n",
       "  <tbody>\n",
       "    <tr>\n",
       "      <th>1</th>\n",
       "      <td>A002</td>\n",
       "      <td>R051</td>\n",
       "      <td>02-00-00</td>\n",
       "      <td>59 ST</td>\n",
       "      <td>04/25/2021</td>\n",
       "      <td>7561638</td>\n",
       "      <td>04/24/2021</td>\n",
       "      <td>7561288.0</td>\n",
       "      <td>350.0</td>\n",
       "      <td>350.0</td>\n",
       "    </tr>\n",
       "    <tr>\n",
       "      <th>2</th>\n",
       "      <td>A002</td>\n",
       "      <td>R051</td>\n",
       "      <td>02-00-00</td>\n",
       "      <td>59 ST</td>\n",
       "      <td>04/26/2021</td>\n",
       "      <td>7561870</td>\n",
       "      <td>04/25/2021</td>\n",
       "      <td>7561638.0</td>\n",
       "      <td>232.0</td>\n",
       "      <td>232.0</td>\n",
       "    </tr>\n",
       "    <tr>\n",
       "      <th>3</th>\n",
       "      <td>A002</td>\n",
       "      <td>R051</td>\n",
       "      <td>02-00-00</td>\n",
       "      <td>59 ST</td>\n",
       "      <td>04/27/2021</td>\n",
       "      <td>7562365</td>\n",
       "      <td>04/26/2021</td>\n",
       "      <td>7561870.0</td>\n",
       "      <td>495.0</td>\n",
       "      <td>495.0</td>\n",
       "    </tr>\n",
       "    <tr>\n",
       "      <th>4</th>\n",
       "      <td>A002</td>\n",
       "      <td>R051</td>\n",
       "      <td>02-00-00</td>\n",
       "      <td>59 ST</td>\n",
       "      <td>04/28/2021</td>\n",
       "      <td>7562953</td>\n",
       "      <td>04/27/2021</td>\n",
       "      <td>7562365.0</td>\n",
       "      <td>588.0</td>\n",
       "      <td>588.0</td>\n",
       "    </tr>\n",
       "  </tbody>\n",
       "</table>\n",
       "</div>"
      ],
      "text/plain": [
       "  control_area  unit subunit_channel_position station        date  entries  \\\n",
       "1         A002  R051                 02-00-00   59 ST  04/25/2021  7561638   \n",
       "2         A002  R051                 02-00-00   59 ST  04/26/2021  7561870   \n",
       "3         A002  R051                 02-00-00   59 ST  04/27/2021  7562365   \n",
       "4         A002  R051                 02-00-00   59 ST  04/28/2021  7562953   \n",
       "\n",
       "  pre_entries_date  pre_entries  diff_entries  daily_entries  \n",
       "1       04/24/2021    7561288.0         350.0          350.0  \n",
       "2       04/25/2021    7561638.0         232.0          232.0  \n",
       "3       04/26/2021    7561870.0         495.0          495.0  \n",
       "4       04/27/2021    7562365.0         588.0          588.0  "
      ]
     },
     "execution_count": 50,
     "metadata": {},
     "output_type": "execute_result"
    }
   ],
   "source": [
    "# Display the first four rows of data frame\n",
    "turnstiles_daily_entries.head(4)"
   ]
  },
  {
   "cell_type": "code",
   "execution_count": 51,
   "metadata": {},
   "outputs": [
    {
     "data": {
      "text/html": [
       "<div>\n",
       "<style scoped>\n",
       "    .dataframe tbody tr th:only-of-type {\n",
       "        vertical-align: middle;\n",
       "    }\n",
       "\n",
       "    .dataframe tbody tr th {\n",
       "        vertical-align: top;\n",
       "    }\n",
       "\n",
       "    .dataframe thead th {\n",
       "        text-align: right;\n",
       "    }\n",
       "</style>\n",
       "<table border=\"1\" class=\"dataframe\">\n",
       "  <thead>\n",
       "    <tr style=\"text-align: right;\">\n",
       "      <th></th>\n",
       "      <th>control_area</th>\n",
       "      <th>unit</th>\n",
       "      <th>station</th>\n",
       "      <th>date</th>\n",
       "      <th>daily_entries</th>\n",
       "    </tr>\n",
       "  </thead>\n",
       "  <tbody>\n",
       "    <tr>\n",
       "      <th>0</th>\n",
       "      <td>A002</td>\n",
       "      <td>R051</td>\n",
       "      <td>59 ST</td>\n",
       "      <td>04/25/2021</td>\n",
       "      <td>3054.0</td>\n",
       "    </tr>\n",
       "    <tr>\n",
       "      <th>1</th>\n",
       "      <td>A002</td>\n",
       "      <td>R051</td>\n",
       "      <td>59 ST</td>\n",
       "      <td>04/26/2021</td>\n",
       "      <td>1872.0</td>\n",
       "    </tr>\n",
       "    <tr>\n",
       "      <th>2</th>\n",
       "      <td>A002</td>\n",
       "      <td>R051</td>\n",
       "      <td>59 ST</td>\n",
       "      <td>04/27/2021</td>\n",
       "      <td>4578.0</td>\n",
       "    </tr>\n",
       "    <tr>\n",
       "      <th>3</th>\n",
       "      <td>A002</td>\n",
       "      <td>R051</td>\n",
       "      <td>59 ST</td>\n",
       "      <td>04/28/2021</td>\n",
       "      <td>4827.0</td>\n",
       "    </tr>\n",
       "    <tr>\n",
       "      <th>4</th>\n",
       "      <td>A002</td>\n",
       "      <td>R051</td>\n",
       "      <td>59 ST</td>\n",
       "      <td>04/29/2021</td>\n",
       "      <td>4864.0</td>\n",
       "    </tr>\n",
       "  </tbody>\n",
       "</table>\n",
       "</div>"
      ],
      "text/plain": [
       "  control_area  unit station        date  daily_entries\n",
       "0         A002  R051   59 ST  04/25/2021         3054.0\n",
       "1         A002  R051   59 ST  04/26/2021         1872.0\n",
       "2         A002  R051   59 ST  04/27/2021         4578.0\n",
       "3         A002  R051   59 ST  04/28/2021         4827.0\n",
       "4         A002  R051   59 ST  04/29/2021         4864.0"
      ]
     },
     "execution_count": 51,
     "metadata": {},
     "output_type": "execute_result"
    }
   ],
   "source": [
    "# Creat a new data frame contains control_area, unit, station, date ,daily_entries\n",
    "control_area_unit_station_daily = turnstiles_daily_entries.groupby([\"control_area\", \"unit\", \"station\", \"date\"])[['daily_entries']].sum().reset_index()\n",
    "control_area_unit_station_daily.head()"
   ]
  },
  {
   "cell_type": "code",
   "execution_count": 52,
   "metadata": {},
   "outputs": [
    {
     "data": {
      "text/html": [
       "<div>\n",
       "<style scoped>\n",
       "    .dataframe tbody tr th:only-of-type {\n",
       "        vertical-align: middle;\n",
       "    }\n",
       "\n",
       "    .dataframe tbody tr th {\n",
       "        vertical-align: top;\n",
       "    }\n",
       "\n",
       "    .dataframe thead th {\n",
       "        text-align: right;\n",
       "    }\n",
       "</style>\n",
       "<table border=\"1\" class=\"dataframe\">\n",
       "  <thead>\n",
       "    <tr style=\"text-align: right;\">\n",
       "      <th></th>\n",
       "      <th>station</th>\n",
       "      <th>date</th>\n",
       "      <th>daily_entries</th>\n",
       "    </tr>\n",
       "  </thead>\n",
       "  <tbody>\n",
       "    <tr>\n",
       "      <th>0</th>\n",
       "      <td>1 AV</td>\n",
       "      <td>04/25/2021</td>\n",
       "      <td>6588.0</td>\n",
       "    </tr>\n",
       "    <tr>\n",
       "      <th>1</th>\n",
       "      <td>1 AV</td>\n",
       "      <td>04/26/2021</td>\n",
       "      <td>4071.0</td>\n",
       "    </tr>\n",
       "    <tr>\n",
       "      <th>2</th>\n",
       "      <td>1 AV</td>\n",
       "      <td>04/27/2021</td>\n",
       "      <td>6767.0</td>\n",
       "    </tr>\n",
       "    <tr>\n",
       "      <th>3</th>\n",
       "      <td>1 AV</td>\n",
       "      <td>04/28/2021</td>\n",
       "      <td>6998.0</td>\n",
       "    </tr>\n",
       "    <tr>\n",
       "      <th>4</th>\n",
       "      <td>1 AV</td>\n",
       "      <td>04/29/2021</td>\n",
       "      <td>7224.0</td>\n",
       "    </tr>\n",
       "  </tbody>\n",
       "</table>\n",
       "</div>"
      ],
      "text/plain": [
       "  station        date  daily_entries\n",
       "0    1 AV  04/25/2021         6588.0\n",
       "1    1 AV  04/26/2021         4071.0\n",
       "2    1 AV  04/27/2021         6767.0\n",
       "3    1 AV  04/28/2021         6998.0\n",
       "4    1 AV  04/29/2021         7224.0"
      ]
     },
     "execution_count": 52,
     "metadata": {},
     "output_type": "execute_result"
    }
   ],
   "source": [
    "# Creat a new data frame contains station, date ,daily_entries\n",
    "station_daily_entries = turnstiles_daily_entries.groupby([\"station\", \"date\"])[['daily_entries']].sum().reset_index()\n",
    "station_daily_entries.head()"
   ]
  },
  {
   "cell_type": "code",
   "execution_count": 53,
   "metadata": {},
   "outputs": [
    {
     "data": {
      "text/html": [
       "<div>\n",
       "<style scoped>\n",
       "    .dataframe tbody tr th:only-of-type {\n",
       "        vertical-align: middle;\n",
       "    }\n",
       "\n",
       "    .dataframe tbody tr th {\n",
       "        vertical-align: top;\n",
       "    }\n",
       "\n",
       "    .dataframe thead th {\n",
       "        text-align: right;\n",
       "    }\n",
       "</style>\n",
       "<table border=\"1\" class=\"dataframe\">\n",
       "  <thead>\n",
       "    <tr style=\"text-align: right;\">\n",
       "      <th></th>\n",
       "      <th>station</th>\n",
       "      <th>daily_entries</th>\n",
       "    </tr>\n",
       "  </thead>\n",
       "  <tbody>\n",
       "    <tr>\n",
       "      <th>0</th>\n",
       "      <td>34 ST-PENN STA</td>\n",
       "      <td>4799084.0</td>\n",
       "    </tr>\n",
       "    <tr>\n",
       "      <th>1</th>\n",
       "      <td>FULTON ST</td>\n",
       "      <td>4168143.0</td>\n",
       "    </tr>\n",
       "    <tr>\n",
       "      <th>2</th>\n",
       "      <td>PATH NEW WTC</td>\n",
       "      <td>3847055.0</td>\n",
       "    </tr>\n",
       "    <tr>\n",
       "      <th>3</th>\n",
       "      <td>34 ST-HERALD SQ</td>\n",
       "      <td>3762874.0</td>\n",
       "    </tr>\n",
       "    <tr>\n",
       "      <th>4</th>\n",
       "      <td>86 ST</td>\n",
       "      <td>3649763.0</td>\n",
       "    </tr>\n",
       "    <tr>\n",
       "      <th>...</th>\n",
       "      <td>...</td>\n",
       "      <td>...</td>\n",
       "    </tr>\n",
       "    <tr>\n",
       "      <th>374</th>\n",
       "      <td>TOMPKINSVILLE</td>\n",
       "      <td>26775.0</td>\n",
       "    </tr>\n",
       "    <tr>\n",
       "      <th>375</th>\n",
       "      <td>BEACH 98 ST</td>\n",
       "      <td>16321.0</td>\n",
       "    </tr>\n",
       "    <tr>\n",
       "      <th>376</th>\n",
       "      <td>BEACH 105 ST</td>\n",
       "      <td>11025.0</td>\n",
       "    </tr>\n",
       "    <tr>\n",
       "      <th>377</th>\n",
       "      <td>BROAD CHANNEL</td>\n",
       "      <td>10812.0</td>\n",
       "    </tr>\n",
       "    <tr>\n",
       "      <th>378</th>\n",
       "      <td>ORCHARD BEACH</td>\n",
       "      <td>382.0</td>\n",
       "    </tr>\n",
       "  </tbody>\n",
       "</table>\n",
       "<p>379 rows × 2 columns</p>\n",
       "</div>"
      ],
      "text/plain": [
       "             station  daily_entries\n",
       "0     34 ST-PENN STA      4799084.0\n",
       "1          FULTON ST      4168143.0\n",
       "2       PATH NEW WTC      3847055.0\n",
       "3    34 ST-HERALD SQ      3762874.0\n",
       "4              86 ST      3649763.0\n",
       "..               ...            ...\n",
       "374    TOMPKINSVILLE        26775.0\n",
       "375      BEACH 98 ST        16321.0\n",
       "376     BEACH 105 ST        11025.0\n",
       "377    BROAD CHANNEL        10812.0\n",
       "378    ORCHARD BEACH          382.0\n",
       "\n",
       "[379 rows x 2 columns]"
      ]
     },
     "execution_count": 53,
     "metadata": {},
     "output_type": "execute_result"
    }
   ],
   "source": [
    "station_totals_entries=station_daily_entries.groupby('station').sum().sort_values('daily_entries', ascending=False).reset_index()\n",
    "station_totals_entries"
   ]
  },
  {
   "cell_type": "markdown",
   "metadata": {},
   "source": [
    "#### The busiest station is 34 ST-PENN STA"
   ]
  },
  {
   "cell_type": "code",
   "execution_count": 54,
   "metadata": {},
   "outputs": [
    {
     "data": {
      "text/plain": [
       "379"
      ]
     },
     "execution_count": 54,
     "metadata": {},
     "output_type": "execute_result"
    }
   ],
   "source": [
    "# Display the unique number of stations\n",
    "len(df.station.unique())"
   ]
  },
  {
   "cell_type": "code",
   "execution_count": 55,
   "metadata": {},
   "outputs": [],
   "source": [
    "df['time_str'] = df['time'].str[:2]\n",
    "#Only the hours"
   ]
  },
  {
   "cell_type": "code",
   "execution_count": 56,
   "metadata": {},
   "outputs": [],
   "source": [
    "df['date_str'] = df['date'].str[:2]\n",
    "#Only the months"
   ]
  },
  {
   "cell_type": "code",
   "execution_count": 57,
   "metadata": {},
   "outputs": [
    {
     "data": {
      "text/html": [
       "<div>\n",
       "<style scoped>\n",
       "    .dataframe tbody tr th:only-of-type {\n",
       "        vertical-align: middle;\n",
       "    }\n",
       "\n",
       "    .dataframe tbody tr th {\n",
       "        vertical-align: top;\n",
       "    }\n",
       "\n",
       "    .dataframe thead th {\n",
       "        text-align: right;\n",
       "    }\n",
       "</style>\n",
       "<table border=\"1\" class=\"dataframe\">\n",
       "  <thead>\n",
       "    <tr style=\"text-align: right;\">\n",
       "      <th></th>\n",
       "      <th>station</th>\n",
       "      <th>date</th>\n",
       "      <th>daily_entries</th>\n",
       "    </tr>\n",
       "  </thead>\n",
       "  <tbody>\n",
       "    <tr>\n",
       "      <th>0</th>\n",
       "      <td>1 AV</td>\n",
       "      <td>04/25/2021</td>\n",
       "      <td>6588.0</td>\n",
       "    </tr>\n",
       "    <tr>\n",
       "      <th>1</th>\n",
       "      <td>1 AV</td>\n",
       "      <td>04/26/2021</td>\n",
       "      <td>4071.0</td>\n",
       "    </tr>\n",
       "    <tr>\n",
       "      <th>2</th>\n",
       "      <td>1 AV</td>\n",
       "      <td>04/27/2021</td>\n",
       "      <td>6767.0</td>\n",
       "    </tr>\n",
       "    <tr>\n",
       "      <th>3</th>\n",
       "      <td>1 AV</td>\n",
       "      <td>04/28/2021</td>\n",
       "      <td>6998.0</td>\n",
       "    </tr>\n",
       "    <tr>\n",
       "      <th>4</th>\n",
       "      <td>1 AV</td>\n",
       "      <td>04/29/2021</td>\n",
       "      <td>7224.0</td>\n",
       "    </tr>\n",
       "  </tbody>\n",
       "</table>\n",
       "</div>"
      ],
      "text/plain": [
       "  station        date  daily_entries\n",
       "0    1 AV  04/25/2021         6588.0\n",
       "1    1 AV  04/26/2021         4071.0\n",
       "2    1 AV  04/27/2021         6767.0\n",
       "3    1 AV  04/28/2021         6998.0\n",
       "4    1 AV  04/29/2021         7224.0"
      ]
     },
     "execution_count": 57,
     "metadata": {},
     "output_type": "execute_result"
    }
   ],
   "source": [
    "# Create data frame for exits called stations_daily_entries\n",
    "stations_daily_entries = \\\n",
    "(turnstiles_daily_entries.groupby(['station','date'])['daily_entries'].sum()\n",
    "                 .reset_index())  \n",
    "\n",
    "stations_daily_entries.head()"
   ]
  },
  {
   "cell_type": "code",
   "execution_count": 58,
   "metadata": {},
   "outputs": [],
   "source": [
    "# Creat turnstiles_daily_exits data frame\n",
    "turnstiles_daily_exits = (df\n",
    "                        .groupby([\"control_area\", \"unit\", \"subunit_channel_position\", \"station\", \"date\"],as_index=False)\n",
    "                        .exits.first())"
   ]
  },
  {
   "cell_type": "code",
   "execution_count": 59,
   "metadata": {},
   "outputs": [
    {
     "data": {
      "text/html": [
       "<div>\n",
       "<style scoped>\n",
       "    .dataframe tbody tr th:only-of-type {\n",
       "        vertical-align: middle;\n",
       "    }\n",
       "\n",
       "    .dataframe tbody tr th {\n",
       "        vertical-align: top;\n",
       "    }\n",
       "\n",
       "    .dataframe thead th {\n",
       "        text-align: right;\n",
       "    }\n",
       "</style>\n",
       "<table border=\"1\" class=\"dataframe\">\n",
       "  <thead>\n",
       "    <tr style=\"text-align: right;\">\n",
       "      <th></th>\n",
       "      <th>control_area</th>\n",
       "      <th>unit</th>\n",
       "      <th>subunit_channel_position</th>\n",
       "      <th>station</th>\n",
       "      <th>date</th>\n",
       "      <th>exits</th>\n",
       "    </tr>\n",
       "  </thead>\n",
       "  <tbody>\n",
       "    <tr>\n",
       "      <th>0</th>\n",
       "      <td>A002</td>\n",
       "      <td>R051</td>\n",
       "      <td>02-00-00</td>\n",
       "      <td>59 ST</td>\n",
       "      <td>04/24/2021</td>\n",
       "      <td>2582898</td>\n",
       "    </tr>\n",
       "    <tr>\n",
       "      <th>1</th>\n",
       "      <td>A002</td>\n",
       "      <td>R051</td>\n",
       "      <td>02-00-00</td>\n",
       "      <td>59 ST</td>\n",
       "      <td>04/25/2021</td>\n",
       "      <td>2583044</td>\n",
       "    </tr>\n",
       "    <tr>\n",
       "      <th>2</th>\n",
       "      <td>A002</td>\n",
       "      <td>R051</td>\n",
       "      <td>02-00-00</td>\n",
       "      <td>59 ST</td>\n",
       "      <td>04/26/2021</td>\n",
       "      <td>2583139</td>\n",
       "    </tr>\n",
       "    <tr>\n",
       "      <th>3</th>\n",
       "      <td>A002</td>\n",
       "      <td>R051</td>\n",
       "      <td>02-00-00</td>\n",
       "      <td>59 ST</td>\n",
       "      <td>04/27/2021</td>\n",
       "      <td>2583341</td>\n",
       "    </tr>\n",
       "    <tr>\n",
       "      <th>4</th>\n",
       "      <td>A002</td>\n",
       "      <td>R051</td>\n",
       "      <td>02-00-00</td>\n",
       "      <td>59 ST</td>\n",
       "      <td>04/28/2021</td>\n",
       "      <td>2583548</td>\n",
       "    </tr>\n",
       "  </tbody>\n",
       "</table>\n",
       "</div>"
      ],
      "text/plain": [
       "  control_area  unit subunit_channel_position station        date    exits\n",
       "0         A002  R051                 02-00-00   59 ST  04/24/2021  2582898\n",
       "1         A002  R051                 02-00-00   59 ST  04/25/2021  2583044\n",
       "2         A002  R051                 02-00-00   59 ST  04/26/2021  2583139\n",
       "3         A002  R051                 02-00-00   59 ST  04/27/2021  2583341\n",
       "4         A002  R051                 02-00-00   59 ST  04/28/2021  2583548"
      ]
     },
     "execution_count": 59,
     "metadata": {},
     "output_type": "execute_result"
    }
   ],
   "source": [
    "# Display the fisrt five rows\n",
    "turnstiles_daily_exits.head()"
   ]
  },
  {
   "cell_type": "code",
   "execution_count": 60,
   "metadata": {},
   "outputs": [
    {
     "name": "stderr",
     "output_type": "stream",
     "text": [
      "<ipython-input-60-9ea67ebf051b>:2: FutureWarning: Indexing with multiple keys (implicitly converted to a tuple of keys) will be deprecated, use a list instead.\n",
      "  turnstiles_daily_exits[[\"pre_exits_date\", \"pre_exits\"]] = (turnstiles_daily_exits\n"
     ]
    }
   ],
   "source": [
    "# Adding two columns to turnstiles_daily_exits data frame\n",
    "turnstiles_daily_exits[[\"pre_exits_date\", \"pre_exits\"]] = (turnstiles_daily_exits\n",
    "                                                       .groupby([\"control_area\", \"unit\", \"subunit_channel_position\", \"station\"])[\"date\", \"exits\"]\n",
    "                                                       .apply(lambda grp: grp.shift(1)))\n",
    "#apply the shift function by 1"
   ]
  },
  {
   "cell_type": "code",
   "execution_count": 61,
   "metadata": {},
   "outputs": [],
   "source": [
    "# Adding new columns to turnstiles_daily_exits data frame\n",
    "turnstiles_daily_exits[\"diff_exits\"] = (turnstiles_daily_exits\n",
    "                                                       .groupby([\"control_area\", \"unit\", \"subunit_channel_position\", \"station\"])[\"exits\"]\n",
    "                                                       .apply(lambda x: x.diff()))"
   ]
  },
  {
   "cell_type": "code",
   "execution_count": 62,
   "metadata": {},
   "outputs": [
    {
     "data": {
      "text/html": [
       "<div>\n",
       "<style scoped>\n",
       "    .dataframe tbody tr th:only-of-type {\n",
       "        vertical-align: middle;\n",
       "    }\n",
       "\n",
       "    .dataframe tbody tr th {\n",
       "        vertical-align: top;\n",
       "    }\n",
       "\n",
       "    .dataframe thead th {\n",
       "        text-align: right;\n",
       "    }\n",
       "</style>\n",
       "<table border=\"1\" class=\"dataframe\">\n",
       "  <thead>\n",
       "    <tr style=\"text-align: right;\">\n",
       "      <th></th>\n",
       "      <th>control_area</th>\n",
       "      <th>unit</th>\n",
       "      <th>subunit_channel_position</th>\n",
       "      <th>station</th>\n",
       "      <th>date</th>\n",
       "      <th>exits</th>\n",
       "      <th>pre_exits_date</th>\n",
       "      <th>pre_exits</th>\n",
       "      <th>diff_exits</th>\n",
       "    </tr>\n",
       "  </thead>\n",
       "  <tbody>\n",
       "    <tr>\n",
       "      <th>0</th>\n",
       "      <td>A002</td>\n",
       "      <td>R051</td>\n",
       "      <td>02-00-00</td>\n",
       "      <td>59 ST</td>\n",
       "      <td>04/24/2021</td>\n",
       "      <td>2582898</td>\n",
       "      <td>NaN</td>\n",
       "      <td>NaN</td>\n",
       "      <td>NaN</td>\n",
       "    </tr>\n",
       "    <tr>\n",
       "      <th>1</th>\n",
       "      <td>A002</td>\n",
       "      <td>R051</td>\n",
       "      <td>02-00-00</td>\n",
       "      <td>59 ST</td>\n",
       "      <td>04/25/2021</td>\n",
       "      <td>2583044</td>\n",
       "      <td>04/24/2021</td>\n",
       "      <td>2582898.0</td>\n",
       "      <td>146.0</td>\n",
       "    </tr>\n",
       "    <tr>\n",
       "      <th>2</th>\n",
       "      <td>A002</td>\n",
       "      <td>R051</td>\n",
       "      <td>02-00-00</td>\n",
       "      <td>59 ST</td>\n",
       "      <td>04/26/2021</td>\n",
       "      <td>2583139</td>\n",
       "      <td>04/25/2021</td>\n",
       "      <td>2583044.0</td>\n",
       "      <td>95.0</td>\n",
       "    </tr>\n",
       "    <tr>\n",
       "      <th>3</th>\n",
       "      <td>A002</td>\n",
       "      <td>R051</td>\n",
       "      <td>02-00-00</td>\n",
       "      <td>59 ST</td>\n",
       "      <td>04/27/2021</td>\n",
       "      <td>2583341</td>\n",
       "      <td>04/26/2021</td>\n",
       "      <td>2583139.0</td>\n",
       "      <td>202.0</td>\n",
       "    </tr>\n",
       "    <tr>\n",
       "      <th>4</th>\n",
       "      <td>A002</td>\n",
       "      <td>R051</td>\n",
       "      <td>02-00-00</td>\n",
       "      <td>59 ST</td>\n",
       "      <td>04/28/2021</td>\n",
       "      <td>2583548</td>\n",
       "      <td>04/27/2021</td>\n",
       "      <td>2583341.0</td>\n",
       "      <td>207.0</td>\n",
       "    </tr>\n",
       "  </tbody>\n",
       "</table>\n",
       "</div>"
      ],
      "text/plain": [
       "  control_area  unit subunit_channel_position station        date    exits  \\\n",
       "0         A002  R051                 02-00-00   59 ST  04/24/2021  2582898   \n",
       "1         A002  R051                 02-00-00   59 ST  04/25/2021  2583044   \n",
       "2         A002  R051                 02-00-00   59 ST  04/26/2021  2583139   \n",
       "3         A002  R051                 02-00-00   59 ST  04/27/2021  2583341   \n",
       "4         A002  R051                 02-00-00   59 ST  04/28/2021  2583548   \n",
       "\n",
       "  pre_exits_date  pre_exits  diff_exits  \n",
       "0            NaN        NaN         NaN  \n",
       "1     04/24/2021  2582898.0       146.0  \n",
       "2     04/25/2021  2583044.0        95.0  \n",
       "3     04/26/2021  2583139.0       202.0  \n",
       "4     04/27/2021  2583341.0       207.0  "
      ]
     },
     "execution_count": 62,
     "metadata": {},
     "output_type": "execute_result"
    }
   ],
   "source": [
    "# Display the first five rows \n",
    "turnstiles_daily_exits.head()"
   ]
  },
  {
   "cell_type": "code",
   "execution_count": 63,
   "metadata": {},
   "outputs": [
    {
     "data": {
      "text/html": [
       "<div>\n",
       "<style scoped>\n",
       "    .dataframe tbody tr th:only-of-type {\n",
       "        vertical-align: middle;\n",
       "    }\n",
       "\n",
       "    .dataframe tbody tr th {\n",
       "        vertical-align: top;\n",
       "    }\n",
       "\n",
       "    .dataframe thead th {\n",
       "        text-align: right;\n",
       "    }\n",
       "</style>\n",
       "<table border=\"1\" class=\"dataframe\">\n",
       "  <thead>\n",
       "    <tr style=\"text-align: right;\">\n",
       "      <th></th>\n",
       "      <th>control_area</th>\n",
       "      <th>unit</th>\n",
       "      <th>subunit_channel_position</th>\n",
       "      <th>station</th>\n",
       "      <th>date</th>\n",
       "      <th>exits</th>\n",
       "      <th>pre_exits_date</th>\n",
       "      <th>pre_exits</th>\n",
       "      <th>diff_exits</th>\n",
       "    </tr>\n",
       "  </thead>\n",
       "  <tbody>\n",
       "    <tr>\n",
       "      <th>454074</th>\n",
       "      <td>TRAM2</td>\n",
       "      <td>R469</td>\n",
       "      <td>00-05-01</td>\n",
       "      <td>RIT-ROOSEVELT</td>\n",
       "      <td>07/26/2021</td>\n",
       "      <td>588</td>\n",
       "      <td>07/25/2021</td>\n",
       "      <td>588.0</td>\n",
       "      <td>0.0</td>\n",
       "    </tr>\n",
       "    <tr>\n",
       "      <th>454075</th>\n",
       "      <td>TRAM2</td>\n",
       "      <td>R469</td>\n",
       "      <td>00-05-01</td>\n",
       "      <td>RIT-ROOSEVELT</td>\n",
       "      <td>07/27/2021</td>\n",
       "      <td>588</td>\n",
       "      <td>07/26/2021</td>\n",
       "      <td>588.0</td>\n",
       "      <td>0.0</td>\n",
       "    </tr>\n",
       "    <tr>\n",
       "      <th>454076</th>\n",
       "      <td>TRAM2</td>\n",
       "      <td>R469</td>\n",
       "      <td>00-05-01</td>\n",
       "      <td>RIT-ROOSEVELT</td>\n",
       "      <td>07/28/2021</td>\n",
       "      <td>589</td>\n",
       "      <td>07/27/2021</td>\n",
       "      <td>588.0</td>\n",
       "      <td>1.0</td>\n",
       "    </tr>\n",
       "    <tr>\n",
       "      <th>454077</th>\n",
       "      <td>TRAM2</td>\n",
       "      <td>R469</td>\n",
       "      <td>00-05-01</td>\n",
       "      <td>RIT-ROOSEVELT</td>\n",
       "      <td>07/29/2021</td>\n",
       "      <td>589</td>\n",
       "      <td>07/28/2021</td>\n",
       "      <td>589.0</td>\n",
       "      <td>0.0</td>\n",
       "    </tr>\n",
       "    <tr>\n",
       "      <th>454078</th>\n",
       "      <td>TRAM2</td>\n",
       "      <td>R469</td>\n",
       "      <td>00-05-01</td>\n",
       "      <td>RIT-ROOSEVELT</td>\n",
       "      <td>07/30/2021</td>\n",
       "      <td>589</td>\n",
       "      <td>07/29/2021</td>\n",
       "      <td>589.0</td>\n",
       "      <td>0.0</td>\n",
       "    </tr>\n",
       "  </tbody>\n",
       "</table>\n",
       "</div>"
      ],
      "text/plain": [
       "       control_area  unit subunit_channel_position        station        date  \\\n",
       "454074        TRAM2  R469                 00-05-01  RIT-ROOSEVELT  07/26/2021   \n",
       "454075        TRAM2  R469                 00-05-01  RIT-ROOSEVELT  07/27/2021   \n",
       "454076        TRAM2  R469                 00-05-01  RIT-ROOSEVELT  07/28/2021   \n",
       "454077        TRAM2  R469                 00-05-01  RIT-ROOSEVELT  07/29/2021   \n",
       "454078        TRAM2  R469                 00-05-01  RIT-ROOSEVELT  07/30/2021   \n",
       "\n",
       "        exits pre_exits_date  pre_exits  diff_exits  \n",
       "454074    588     07/25/2021      588.0         0.0  \n",
       "454075    588     07/26/2021      588.0         0.0  \n",
       "454076    589     07/27/2021      588.0         1.0  \n",
       "454077    589     07/28/2021      589.0         0.0  \n",
       "454078    589     07/29/2021      589.0         0.0  "
      ]
     },
     "execution_count": 63,
     "metadata": {},
     "output_type": "execute_result"
    }
   ],
   "source": [
    "# Display the last five rows \n",
    "turnstiles_daily_exits.tail()"
   ]
  },
  {
   "cell_type": "code",
   "execution_count": 64,
   "metadata": {},
   "outputs": [],
   "source": [
    "# Drop the rows for the earliest date in the df\n",
    "turnstiles_daily_exits.dropna(subset=[\"pre_exits_date\",'pre_exits'], axis=0, inplace=True)"
   ]
  },
  {
   "cell_type": "code",
   "execution_count": 65,
   "metadata": {},
   "outputs": [
    {
     "data": {
      "text/plain": [
       "control_area                0\n",
       "unit                        0\n",
       "subunit_channel_position    0\n",
       "station                     0\n",
       "date                        0\n",
       "exits                       0\n",
       "pre_exits_date              0\n",
       "pre_exits                   0\n",
       "diff_exits                  0\n",
       "dtype: int64"
      ]
     },
     "execution_count": 65,
     "metadata": {},
     "output_type": "execute_result"
    }
   ],
   "source": [
    "# Check ther is no null values\n",
    "turnstiles_daily_exits.isna().sum()"
   ]
  },
  {
   "cell_type": "code",
   "execution_count": 66,
   "metadata": {},
   "outputs": [
    {
     "data": {
      "text/html": [
       "<div>\n",
       "<style scoped>\n",
       "    .dataframe tbody tr th:only-of-type {\n",
       "        vertical-align: middle;\n",
       "    }\n",
       "\n",
       "    .dataframe tbody tr th {\n",
       "        vertical-align: top;\n",
       "    }\n",
       "\n",
       "    .dataframe thead th {\n",
       "        text-align: right;\n",
       "    }\n",
       "</style>\n",
       "<table border=\"1\" class=\"dataframe\">\n",
       "  <thead>\n",
       "    <tr style=\"text-align: right;\">\n",
       "      <th></th>\n",
       "      <th>control_area</th>\n",
       "      <th>unit</th>\n",
       "      <th>subunit_channel_position</th>\n",
       "      <th>station</th>\n",
       "      <th>date</th>\n",
       "      <th>exits</th>\n",
       "      <th>pre_exits_date</th>\n",
       "      <th>pre_exits</th>\n",
       "      <th>diff_exits</th>\n",
       "    </tr>\n",
       "  </thead>\n",
       "  <tbody>\n",
       "    <tr>\n",
       "      <th>3550</th>\n",
       "      <td>A011</td>\n",
       "      <td>R080</td>\n",
       "      <td>01-03-00</td>\n",
       "      <td>57 ST-7 AV</td>\n",
       "      <td>04/25/2021</td>\n",
       "      <td>489610575</td>\n",
       "      <td>04/24/2021</td>\n",
       "      <td>4.896115e+08</td>\n",
       "      <td>-914.0</td>\n",
       "    </tr>\n",
       "    <tr>\n",
       "      <th>3551</th>\n",
       "      <td>A011</td>\n",
       "      <td>R080</td>\n",
       "      <td>01-03-00</td>\n",
       "      <td>57 ST-7 AV</td>\n",
       "      <td>04/26/2021</td>\n",
       "      <td>489609947</td>\n",
       "      <td>04/25/2021</td>\n",
       "      <td>4.896106e+08</td>\n",
       "      <td>-628.0</td>\n",
       "    </tr>\n",
       "    <tr>\n",
       "      <th>3552</th>\n",
       "      <td>A011</td>\n",
       "      <td>R080</td>\n",
       "      <td>01-03-00</td>\n",
       "      <td>57 ST-7 AV</td>\n",
       "      <td>04/27/2021</td>\n",
       "      <td>489608977</td>\n",
       "      <td>04/26/2021</td>\n",
       "      <td>4.896099e+08</td>\n",
       "      <td>-970.0</td>\n",
       "    </tr>\n",
       "    <tr>\n",
       "      <th>3553</th>\n",
       "      <td>A011</td>\n",
       "      <td>R080</td>\n",
       "      <td>01-03-00</td>\n",
       "      <td>57 ST-7 AV</td>\n",
       "      <td>04/28/2021</td>\n",
       "      <td>489607914</td>\n",
       "      <td>04/27/2021</td>\n",
       "      <td>4.896090e+08</td>\n",
       "      <td>-1063.0</td>\n",
       "    </tr>\n",
       "    <tr>\n",
       "      <th>3554</th>\n",
       "      <td>A011</td>\n",
       "      <td>R080</td>\n",
       "      <td>01-03-00</td>\n",
       "      <td>57 ST-7 AV</td>\n",
       "      <td>04/29/2021</td>\n",
       "      <td>489606918</td>\n",
       "      <td>04/28/2021</td>\n",
       "      <td>4.896079e+08</td>\n",
       "      <td>-996.0</td>\n",
       "    </tr>\n",
       "    <tr>\n",
       "      <th>...</th>\n",
       "      <td>...</td>\n",
       "      <td>...</td>\n",
       "      <td>...</td>\n",
       "      <td>...</td>\n",
       "      <td>...</td>\n",
       "      <td>...</td>\n",
       "      <td>...</td>\n",
       "      <td>...</td>\n",
       "      <td>...</td>\n",
       "    </tr>\n",
       "    <tr>\n",
       "      <th>437527</th>\n",
       "      <td>R622</td>\n",
       "      <td>R123</td>\n",
       "      <td>00-00-00</td>\n",
       "      <td>FRANKLIN AV</td>\n",
       "      <td>07/29/2021</td>\n",
       "      <td>2061990317</td>\n",
       "      <td>07/28/2021</td>\n",
       "      <td>2.061991e+09</td>\n",
       "      <td>-575.0</td>\n",
       "    </tr>\n",
       "    <tr>\n",
       "      <th>437528</th>\n",
       "      <td>R622</td>\n",
       "      <td>R123</td>\n",
       "      <td>00-00-00</td>\n",
       "      <td>FRANKLIN AV</td>\n",
       "      <td>07/30/2021</td>\n",
       "      <td>2061989834</td>\n",
       "      <td>07/29/2021</td>\n",
       "      <td>2.061990e+09</td>\n",
       "      <td>-483.0</td>\n",
       "    </tr>\n",
       "    <tr>\n",
       "      <th>449525</th>\n",
       "      <td>R728</td>\n",
       "      <td>R226</td>\n",
       "      <td>00-05-01</td>\n",
       "      <td>GUN HILL RD</td>\n",
       "      <td>07/21/2021</td>\n",
       "      <td>1</td>\n",
       "      <td>07/20/2021</td>\n",
       "      <td>2.300000e+01</td>\n",
       "      <td>-22.0</td>\n",
       "    </tr>\n",
       "    <tr>\n",
       "      <th>453920</th>\n",
       "      <td>TRAM2</td>\n",
       "      <td>R469</td>\n",
       "      <td>00-05-00</td>\n",
       "      <td>RIT-ROOSEVELT</td>\n",
       "      <td>05/22/2021</td>\n",
       "      <td>0</td>\n",
       "      <td>05/14/2021</td>\n",
       "      <td>6.200000e+01</td>\n",
       "      <td>-62.0</td>\n",
       "    </tr>\n",
       "    <tr>\n",
       "      <th>453923</th>\n",
       "      <td>TRAM2</td>\n",
       "      <td>R469</td>\n",
       "      <td>00-05-00</td>\n",
       "      <td>RIT-ROOSEVELT</td>\n",
       "      <td>05/27/2021</td>\n",
       "      <td>0</td>\n",
       "      <td>05/26/2021</td>\n",
       "      <td>3.980632e+06</td>\n",
       "      <td>-3980632.0</td>\n",
       "    </tr>\n",
       "  </tbody>\n",
       "</table>\n",
       "<p>2988 rows × 9 columns</p>\n",
       "</div>"
      ],
      "text/plain": [
       "       control_area  unit subunit_channel_position        station        date  \\\n",
       "3550           A011  R080                 01-03-00     57 ST-7 AV  04/25/2021   \n",
       "3551           A011  R080                 01-03-00     57 ST-7 AV  04/26/2021   \n",
       "3552           A011  R080                 01-03-00     57 ST-7 AV  04/27/2021   \n",
       "3553           A011  R080                 01-03-00     57 ST-7 AV  04/28/2021   \n",
       "3554           A011  R080                 01-03-00     57 ST-7 AV  04/29/2021   \n",
       "...             ...   ...                      ...            ...         ...   \n",
       "437527         R622  R123                 00-00-00    FRANKLIN AV  07/29/2021   \n",
       "437528         R622  R123                 00-00-00    FRANKLIN AV  07/30/2021   \n",
       "449525         R728  R226                 00-05-01    GUN HILL RD  07/21/2021   \n",
       "453920        TRAM2  R469                 00-05-00  RIT-ROOSEVELT  05/22/2021   \n",
       "453923        TRAM2  R469                 00-05-00  RIT-ROOSEVELT  05/27/2021   \n",
       "\n",
       "             exits pre_exits_date     pre_exits  diff_exits  \n",
       "3550     489610575     04/24/2021  4.896115e+08      -914.0  \n",
       "3551     489609947     04/25/2021  4.896106e+08      -628.0  \n",
       "3552     489608977     04/26/2021  4.896099e+08      -970.0  \n",
       "3553     489607914     04/27/2021  4.896090e+08     -1063.0  \n",
       "3554     489606918     04/28/2021  4.896079e+08      -996.0  \n",
       "...            ...            ...           ...         ...  \n",
       "437527  2061990317     07/28/2021  2.061991e+09      -575.0  \n",
       "437528  2061989834     07/29/2021  2.061990e+09      -483.0  \n",
       "449525           1     07/20/2021  2.300000e+01       -22.0  \n",
       "453920           0     05/14/2021  6.200000e+01       -62.0  \n",
       "453923           0     05/26/2021  3.980632e+06  -3980632.0  \n",
       "\n",
       "[2988 rows x 9 columns]"
      ]
     },
     "execution_count": 66,
     "metadata": {},
     "output_type": "execute_result"
    }
   ],
   "source": [
    "# Check if exits less than the previos exits\n",
    "turnstiles_daily_exits[turnstiles_daily_exits[\"exits\"] < turnstiles_daily_exits[\"pre_exits\"]]"
   ]
  },
  {
   "cell_type": "code",
   "execution_count": 67,
   "metadata": {},
   "outputs": [
    {
     "data": {
      "text/plain": [
       "ELMHURST AV        181\n",
       "161/YANKEE STAD    181\n",
       "14 ST              180\n",
       "34 ST-PENN STA      93\n",
       "50 ST               92\n",
       "                  ... \n",
       "82 ST-JACKSON H      1\n",
       "B'WAY-LAFAYETTE      1\n",
       "WHITEHALL S-FRY      1\n",
       "116 ST               1\n",
       "JKSN HT-ROOSVLT      1\n",
       "Name: station, Length: 108, dtype: int64"
      ]
     },
     "execution_count": 67,
     "metadata": {},
     "output_type": "execute_result"
    }
   ],
   "source": [
    "# The number of the verification condtion for each station\n",
    "turnstiles_daily_exits[\"station\"][turnstiles_daily_exits[\"exits\"] < turnstiles_daily_exits[\"pre_exits\"]].value_counts()"
   ]
  },
  {
   "cell_type": "code",
   "execution_count": 68,
   "metadata": {},
   "outputs": [
    {
     "data": {
      "text/html": [
       "<div>\n",
       "<style scoped>\n",
       "    .dataframe tbody tr th:only-of-type {\n",
       "        vertical-align: middle;\n",
       "    }\n",
       "\n",
       "    .dataframe tbody tr th {\n",
       "        vertical-align: top;\n",
       "    }\n",
       "\n",
       "    .dataframe thead th {\n",
       "        text-align: right;\n",
       "    }\n",
       "</style>\n",
       "<table border=\"1\" class=\"dataframe\">\n",
       "  <thead>\n",
       "    <tr style=\"text-align: right;\">\n",
       "      <th></th>\n",
       "      <th>control_area</th>\n",
       "      <th>unit</th>\n",
       "      <th>subunit_channel_position</th>\n",
       "      <th>station</th>\n",
       "      <th>date</th>\n",
       "      <th>exits</th>\n",
       "      <th>pre_exits_date</th>\n",
       "      <th>pre_exits</th>\n",
       "      <th>diff_exits</th>\n",
       "    </tr>\n",
       "  </thead>\n",
       "  <tbody>\n",
       "    <tr>\n",
       "      <th>3550</th>\n",
       "      <td>A011</td>\n",
       "      <td>R080</td>\n",
       "      <td>01-03-00</td>\n",
       "      <td>57 ST-7 AV</td>\n",
       "      <td>04/25/2021</td>\n",
       "      <td>489610575</td>\n",
       "      <td>04/24/2021</td>\n",
       "      <td>489611489.0</td>\n",
       "      <td>-914.0</td>\n",
       "    </tr>\n",
       "    <tr>\n",
       "      <th>3551</th>\n",
       "      <td>A011</td>\n",
       "      <td>R080</td>\n",
       "      <td>01-03-00</td>\n",
       "      <td>57 ST-7 AV</td>\n",
       "      <td>04/26/2021</td>\n",
       "      <td>489609947</td>\n",
       "      <td>04/25/2021</td>\n",
       "      <td>489610575.0</td>\n",
       "      <td>-628.0</td>\n",
       "    </tr>\n",
       "    <tr>\n",
       "      <th>3552</th>\n",
       "      <td>A011</td>\n",
       "      <td>R080</td>\n",
       "      <td>01-03-00</td>\n",
       "      <td>57 ST-7 AV</td>\n",
       "      <td>04/27/2021</td>\n",
       "      <td>489608977</td>\n",
       "      <td>04/26/2021</td>\n",
       "      <td>489609947.0</td>\n",
       "      <td>-970.0</td>\n",
       "    </tr>\n",
       "    <tr>\n",
       "      <th>3553</th>\n",
       "      <td>A011</td>\n",
       "      <td>R080</td>\n",
       "      <td>01-03-00</td>\n",
       "      <td>57 ST-7 AV</td>\n",
       "      <td>04/28/2021</td>\n",
       "      <td>489607914</td>\n",
       "      <td>04/27/2021</td>\n",
       "      <td>489608977.0</td>\n",
       "      <td>-1063.0</td>\n",
       "    </tr>\n",
       "    <tr>\n",
       "      <th>3554</th>\n",
       "      <td>A011</td>\n",
       "      <td>R080</td>\n",
       "      <td>01-03-00</td>\n",
       "      <td>57 ST-7 AV</td>\n",
       "      <td>04/29/2021</td>\n",
       "      <td>489606918</td>\n",
       "      <td>04/28/2021</td>\n",
       "      <td>489607914.0</td>\n",
       "      <td>-996.0</td>\n",
       "    </tr>\n",
       "  </tbody>\n",
       "</table>\n",
       "</div>"
      ],
      "text/plain": [
       "     control_area  unit subunit_channel_position     station        date  \\\n",
       "3550         A011  R080                 01-03-00  57 ST-7 AV  04/25/2021   \n",
       "3551         A011  R080                 01-03-00  57 ST-7 AV  04/26/2021   \n",
       "3552         A011  R080                 01-03-00  57 ST-7 AV  04/27/2021   \n",
       "3553         A011  R080                 01-03-00  57 ST-7 AV  04/28/2021   \n",
       "3554         A011  R080                 01-03-00  57 ST-7 AV  04/29/2021   \n",
       "\n",
       "          exits pre_exits_date    pre_exits  diff_exits  \n",
       "3550  489610575     04/24/2021  489611489.0      -914.0  \n",
       "3551  489609947     04/25/2021  489610575.0      -628.0  \n",
       "3552  489608977     04/26/2021  489609947.0      -970.0  \n",
       "3553  489607914     04/27/2021  489608977.0     -1063.0  \n",
       "3554  489606918     04/28/2021  489607914.0      -996.0  "
      ]
     },
     "execution_count": 68,
     "metadata": {},
     "output_type": "execute_result"
    }
   ],
   "source": [
    "turnstiles_daily_exits[turnstiles_daily_exits[\"exits\"] < turnstiles_daily_exits[\"pre_exits\"]].head()"
   ]
  },
  {
   "cell_type": "code",
   "execution_count": 69,
   "metadata": {},
   "outputs": [
    {
     "data": {
      "text/plain": [
       "control_area  unit  subunit_channel_position  station       \n",
       "A011          R080  01-03-00                  57 ST-7 AV        90\n",
       "                    01-03-03                  57 ST-7 AV         1\n",
       "                    01-03-04                  57 ST-7 AV         1\n",
       "A013          R081  01-06-01                  49 ST              2\n",
       "A014          R081  02-00-00                  49 ST              1\n",
       "                                                                ..\n",
       "R612          R057  01-05-00                  ATL AV-BARCLAY     1\n",
       "R617          R058  00-00-02                  BERGEN ST          1\n",
       "R622          R123  00-00-00                  FRANKLIN AV       90\n",
       "R728          R226  00-05-01                  GUN HILL RD        1\n",
       "TRAM2         R469  00-05-00                  RIT-ROOSEVELT      2\n",
       "Length: 195, dtype: int64"
      ]
     },
     "execution_count": 69,
     "metadata": {},
     "output_type": "execute_result"
    }
   ],
   "source": [
    "# If the condtion is true grouped by turnstile and station\n",
    "(turnstiles_daily_exits[turnstiles_daily_exits[\"exits\"] < turnstiles_daily_exits[\"pre_exits\"]]\n",
    "    .groupby([\"control_area\", \"unit\", \"subunit_channel_position\", \"station\"])\n",
    "    .size())"
   ]
  },
  {
   "cell_type": "code",
   "execution_count": 70,
   "metadata": {},
   "outputs": [
    {
     "name": "stdout",
     "output_type": "stream",
     "text": [
      "222 1653813.0\n",
      "143 436767822.0\n",
      "63 2357391.0\n",
      "0 3196184.0\n",
      "11 2192436.0\n",
      "7 1025488.0\n",
      "103 2944258.0\n",
      "597 1150648.0\n",
      "800988285 4318015.0\n",
      "4318173 800988285.0\n",
      "171 2774456.0\n",
      "66 6592853.0\n",
      "128 2004689.0\n",
      "155 8071002.0\n",
      "236 563806220.0\n",
      "14090624 195.0\n",
      "132 1851757.0\n",
      "1174467742 4612025.0\n",
      "4 1671513.0\n",
      "234 3349789.0\n",
      "5534671 12055807.0\n",
      "12057050 5534671.0\n",
      "442 1102852.0\n",
      "573 2809267.0\n",
      "347 6525614.0\n",
      "40 3077781.0\n",
      "12 5011803.0\n",
      "48 11489540.0\n",
      "0 654311429.0\n",
      "0 1240819.0\n",
      "85 2974419.0\n",
      "1434 4034842.0\n",
      "11 1005893.0\n",
      "441 6668164.0\n",
      "651 1332485.0\n",
      "63 2607641.0\n",
      "70 68794149.0\n",
      "46 1875746154.0\n",
      "897 1958224.0\n",
      "369 1885963.0\n",
      "327 236191318.0\n",
      "16813995 71289.0\n",
      "139 1758519.0\n",
      "175519871 1980415156.0\n",
      "1140892720 4482586.0\n",
      "137 9252098.0\n",
      "6714703 2117913.0\n",
      "242 10879659.0\n",
      "581 11825796.0\n",
      "0 134263112.0\n",
      "3980632 0.0\n",
      "0 3980632.0\n"
     ]
    }
   ],
   "source": [
    "# Ensure there is no negative values\n",
    "def get_daily_counts(row,max_counter):\n",
    "    counter=row['exits'] - row['pre_exits']\n",
    "    if counter<0:\n",
    "        counter= - counter\n",
    "    if counter >max_counter:\n",
    "        print(row['exits'],row['pre_exits'])\n",
    "        return 0\n",
    "    return counter\n",
    "\n",
    "x = turnstiles_daily_exits.apply(get_daily_counts ,axis=1,max_counter=1000000)\n"
   ]
  },
  {
   "cell_type": "code",
   "execution_count": 71,
   "metadata": {},
   "outputs": [
    {
     "name": "stdout",
     "output_type": "stream",
     "text": [
      "222 1653813.0\n",
      "143 436767822.0\n",
      "63 2357391.0\n",
      "0 3196184.0\n",
      "11 2192436.0\n",
      "7 1025488.0\n",
      "103 2944258.0\n",
      "597 1150648.0\n",
      "800988285 4318015.0\n",
      "4318173 800988285.0\n",
      "171 2774456.0\n",
      "66 6592853.0\n",
      "128 2004689.0\n",
      "155 8071002.0\n",
      "236 563806220.0\n",
      "14090624 195.0\n",
      "132 1851757.0\n",
      "1174467742 4612025.0\n",
      "4 1671513.0\n",
      "234 3349789.0\n",
      "5534671 12055807.0\n",
      "12057050 5534671.0\n",
      "442 1102852.0\n",
      "573 2809267.0\n",
      "347 6525614.0\n",
      "40 3077781.0\n",
      "12 5011803.0\n",
      "48 11489540.0\n",
      "0 654311429.0\n",
      "0 1240819.0\n",
      "85 2974419.0\n",
      "1434 4034842.0\n",
      "11 1005893.0\n",
      "441 6668164.0\n",
      "651 1332485.0\n",
      "63 2607641.0\n",
      "70 68794149.0\n",
      "46 1875746154.0\n",
      "897 1958224.0\n",
      "369 1885963.0\n",
      "327 236191318.0\n",
      "16813995 71289.0\n",
      "139 1758519.0\n",
      "175519871 1980415156.0\n",
      "1140892720 4482586.0\n",
      "137 9252098.0\n",
      "6714703 2117913.0\n",
      "242 10879659.0\n",
      "581 11825796.0\n",
      "0 134263112.0\n",
      "3980632 0.0\n",
      "0 3980632.0\n"
     ]
    }
   ],
   "source": [
    "def get_daily_counts(row, max_counter):\n",
    "    counter = row[\"exits\"] - row[\"pre_exits\"]\n",
    "    if counter < 0:\n",
    "        # Maybe counter is reversed?\n",
    "        counter = -counter\n",
    "    if counter > max_counter:\n",
    "        # Maybe counter was reset to 0? \n",
    "        print(row[\"exits\"], row[\"pre_exits\"])\n",
    "        counter = min(row[\"exits\"], row[\"pre_exits\"])\n",
    "    if counter > max_counter:\n",
    "        # Check it again to make sure we're not still giving a counter that's too big\n",
    "        return 0\n",
    "    return counter\n",
    "\n",
    "# If counter is > 1Million, then the counter might have been reset.  \n",
    "# Just set it to zero as different counters have different cycle limits\n",
    "# It'd probably be a good idea to use a number even significantly smaller than 1 million as the limit!\n",
    "turnstiles_daily_exits[\"daily_exits\"] = turnstiles_daily_exits.apply(get_daily_counts, axis=1, max_counter=1000000)"
   ]
  },
  {
   "cell_type": "code",
   "execution_count": 72,
   "metadata": {},
   "outputs": [
    {
     "data": {
      "text/html": [
       "<div>\n",
       "<style scoped>\n",
       "    .dataframe tbody tr th:only-of-type {\n",
       "        vertical-align: middle;\n",
       "    }\n",
       "\n",
       "    .dataframe tbody tr th {\n",
       "        vertical-align: top;\n",
       "    }\n",
       "\n",
       "    .dataframe thead th {\n",
       "        text-align: right;\n",
       "    }\n",
       "</style>\n",
       "<table border=\"1\" class=\"dataframe\">\n",
       "  <thead>\n",
       "    <tr style=\"text-align: right;\">\n",
       "      <th></th>\n",
       "      <th>control_area</th>\n",
       "      <th>unit</th>\n",
       "      <th>subunit_channel_position</th>\n",
       "      <th>station</th>\n",
       "      <th>date</th>\n",
       "      <th>exits</th>\n",
       "      <th>pre_exits_date</th>\n",
       "      <th>pre_exits</th>\n",
       "      <th>diff_exits</th>\n",
       "      <th>daily_exits</th>\n",
       "    </tr>\n",
       "  </thead>\n",
       "  <tbody>\n",
       "    <tr>\n",
       "      <th>1</th>\n",
       "      <td>A002</td>\n",
       "      <td>R051</td>\n",
       "      <td>02-00-00</td>\n",
       "      <td>59 ST</td>\n",
       "      <td>04/25/2021</td>\n",
       "      <td>2583044</td>\n",
       "      <td>04/24/2021</td>\n",
       "      <td>2582898.0</td>\n",
       "      <td>146.0</td>\n",
       "      <td>146.0</td>\n",
       "    </tr>\n",
       "    <tr>\n",
       "      <th>2</th>\n",
       "      <td>A002</td>\n",
       "      <td>R051</td>\n",
       "      <td>02-00-00</td>\n",
       "      <td>59 ST</td>\n",
       "      <td>04/26/2021</td>\n",
       "      <td>2583139</td>\n",
       "      <td>04/25/2021</td>\n",
       "      <td>2583044.0</td>\n",
       "      <td>95.0</td>\n",
       "      <td>95.0</td>\n",
       "    </tr>\n",
       "    <tr>\n",
       "      <th>3</th>\n",
       "      <td>A002</td>\n",
       "      <td>R051</td>\n",
       "      <td>02-00-00</td>\n",
       "      <td>59 ST</td>\n",
       "      <td>04/27/2021</td>\n",
       "      <td>2583341</td>\n",
       "      <td>04/26/2021</td>\n",
       "      <td>2583139.0</td>\n",
       "      <td>202.0</td>\n",
       "      <td>202.0</td>\n",
       "    </tr>\n",
       "    <tr>\n",
       "      <th>4</th>\n",
       "      <td>A002</td>\n",
       "      <td>R051</td>\n",
       "      <td>02-00-00</td>\n",
       "      <td>59 ST</td>\n",
       "      <td>04/28/2021</td>\n",
       "      <td>2583548</td>\n",
       "      <td>04/27/2021</td>\n",
       "      <td>2583341.0</td>\n",
       "      <td>207.0</td>\n",
       "      <td>207.0</td>\n",
       "    </tr>\n",
       "  </tbody>\n",
       "</table>\n",
       "</div>"
      ],
      "text/plain": [
       "  control_area  unit subunit_channel_position station        date    exits  \\\n",
       "1         A002  R051                 02-00-00   59 ST  04/25/2021  2583044   \n",
       "2         A002  R051                 02-00-00   59 ST  04/26/2021  2583139   \n",
       "3         A002  R051                 02-00-00   59 ST  04/27/2021  2583341   \n",
       "4         A002  R051                 02-00-00   59 ST  04/28/2021  2583548   \n",
       "\n",
       "  pre_exits_date  pre_exits  diff_exits  daily_exits  \n",
       "1     04/24/2021  2582898.0       146.0        146.0  \n",
       "2     04/25/2021  2583044.0        95.0         95.0  \n",
       "3     04/26/2021  2583139.0       202.0        202.0  \n",
       "4     04/27/2021  2583341.0       207.0        207.0  "
      ]
     },
     "execution_count": 72,
     "metadata": {},
     "output_type": "execute_result"
    }
   ],
   "source": [
    "# Dispaly the first five rows\n",
    "turnstiles_daily_exits.head(4)"
   ]
  },
  {
   "cell_type": "code",
   "execution_count": 73,
   "metadata": {},
   "outputs": [
    {
     "data": {
      "text/html": [
       "<div>\n",
       "<style scoped>\n",
       "    .dataframe tbody tr th:only-of-type {\n",
       "        vertical-align: middle;\n",
       "    }\n",
       "\n",
       "    .dataframe tbody tr th {\n",
       "        vertical-align: top;\n",
       "    }\n",
       "\n",
       "    .dataframe thead th {\n",
       "        text-align: right;\n",
       "    }\n",
       "</style>\n",
       "<table border=\"1\" class=\"dataframe\">\n",
       "  <thead>\n",
       "    <tr style=\"text-align: right;\">\n",
       "      <th></th>\n",
       "      <th>station</th>\n",
       "      <th>date</th>\n",
       "      <th>daily_exits</th>\n",
       "    </tr>\n",
       "  </thead>\n",
       "  <tbody>\n",
       "    <tr>\n",
       "      <th>0</th>\n",
       "      <td>1 AV</td>\n",
       "      <td>04/25/2021</td>\n",
       "      <td>12549.0</td>\n",
       "    </tr>\n",
       "    <tr>\n",
       "      <th>1</th>\n",
       "      <td>1 AV</td>\n",
       "      <td>04/26/2021</td>\n",
       "      <td>7424.0</td>\n",
       "    </tr>\n",
       "    <tr>\n",
       "      <th>2</th>\n",
       "      <td>1 AV</td>\n",
       "      <td>04/27/2021</td>\n",
       "      <td>10788.0</td>\n",
       "    </tr>\n",
       "    <tr>\n",
       "      <th>3</th>\n",
       "      <td>1 AV</td>\n",
       "      <td>04/28/2021</td>\n",
       "      <td>11618.0</td>\n",
       "    </tr>\n",
       "    <tr>\n",
       "      <th>4</th>\n",
       "      <td>1 AV</td>\n",
       "      <td>04/29/2021</td>\n",
       "      <td>11955.0</td>\n",
       "    </tr>\n",
       "  </tbody>\n",
       "</table>\n",
       "</div>"
      ],
      "text/plain": [
       "  station        date  daily_exits\n",
       "0    1 AV  04/25/2021      12549.0\n",
       "1    1 AV  04/26/2021       7424.0\n",
       "2    1 AV  04/27/2021      10788.0\n",
       "3    1 AV  04/28/2021      11618.0\n",
       "4    1 AV  04/29/2021      11955.0"
      ]
     },
     "execution_count": 73,
     "metadata": {},
     "output_type": "execute_result"
    }
   ],
   "source": [
    "# Creat a new data frame contains station, date ,daily_exits\n",
    "station_daily_exits = turnstiles_daily_exits.groupby([\"station\", \"date\"])[['daily_exits']].sum().reset_index()\n",
    "station_daily_exits.head()"
   ]
  },
  {
   "cell_type": "code",
   "execution_count": 74,
   "metadata": {},
   "outputs": [
    {
     "data": {
      "text/html": [
       "<div>\n",
       "<style scoped>\n",
       "    .dataframe tbody tr th:only-of-type {\n",
       "        vertical-align: middle;\n",
       "    }\n",
       "\n",
       "    .dataframe tbody tr th {\n",
       "        vertical-align: top;\n",
       "    }\n",
       "\n",
       "    .dataframe thead th {\n",
       "        text-align: right;\n",
       "    }\n",
       "</style>\n",
       "<table border=\"1\" class=\"dataframe\">\n",
       "  <thead>\n",
       "    <tr style=\"text-align: right;\">\n",
       "      <th></th>\n",
       "      <th>station</th>\n",
       "      <th>daily_exits</th>\n",
       "    </tr>\n",
       "  </thead>\n",
       "  <tbody>\n",
       "    <tr>\n",
       "      <th>0</th>\n",
       "      <td>34 ST-PENN STA</td>\n",
       "      <td>5815669.0</td>\n",
       "    </tr>\n",
       "    <tr>\n",
       "      <th>1</th>\n",
       "      <td>34 ST-HERALD SQ</td>\n",
       "      <td>4636252.0</td>\n",
       "    </tr>\n",
       "    <tr>\n",
       "      <th>2</th>\n",
       "      <td>14 ST-UNION SQ</td>\n",
       "      <td>4416989.0</td>\n",
       "    </tr>\n",
       "    <tr>\n",
       "      <th>3</th>\n",
       "      <td>86 ST</td>\n",
       "      <td>4261175.0</td>\n",
       "    </tr>\n",
       "    <tr>\n",
       "      <th>4</th>\n",
       "      <td>PATH NEW WTC</td>\n",
       "      <td>4258296.0</td>\n",
       "    </tr>\n",
       "    <tr>\n",
       "      <th>...</th>\n",
       "      <td>...</td>\n",
       "      <td>...</td>\n",
       "    </tr>\n",
       "    <tr>\n",
       "      <th>374</th>\n",
       "      <td>RIT-ROOSEVELT</td>\n",
       "      <td>5153.0</td>\n",
       "    </tr>\n",
       "    <tr>\n",
       "      <th>375</th>\n",
       "      <td>RIT-MANHATTAN</td>\n",
       "      <td>4470.0</td>\n",
       "    </tr>\n",
       "    <tr>\n",
       "      <th>376</th>\n",
       "      <td>ORCHARD BEACH</td>\n",
       "      <td>200.0</td>\n",
       "    </tr>\n",
       "    <tr>\n",
       "      <th>377</th>\n",
       "      <td>ST. GEORGE</td>\n",
       "      <td>45.0</td>\n",
       "    </tr>\n",
       "    <tr>\n",
       "      <th>378</th>\n",
       "      <td>TOMPKINSVILLE</td>\n",
       "      <td>1.0</td>\n",
       "    </tr>\n",
       "  </tbody>\n",
       "</table>\n",
       "<p>379 rows × 2 columns</p>\n",
       "</div>"
      ],
      "text/plain": [
       "             station  daily_exits\n",
       "0     34 ST-PENN STA    5815669.0\n",
       "1    34 ST-HERALD SQ    4636252.0\n",
       "2     14 ST-UNION SQ    4416989.0\n",
       "3              86 ST    4261175.0\n",
       "4       PATH NEW WTC    4258296.0\n",
       "..               ...          ...\n",
       "374    RIT-ROOSEVELT       5153.0\n",
       "375    RIT-MANHATTAN       4470.0\n",
       "376    ORCHARD BEACH        200.0\n",
       "377       ST. GEORGE         45.0\n",
       "378    TOMPKINSVILLE          1.0\n",
       "\n",
       "[379 rows x 2 columns]"
      ]
     },
     "execution_count": 74,
     "metadata": {},
     "output_type": "execute_result"
    }
   ],
   "source": [
    "# Creat a new data frame contains  station ,daily_exits\n",
    "station_totals_exits=station_daily_exits.groupby('station').sum().sort_values('daily_exits', ascending=False).reset_index()\n",
    "station_totals_exits"
   ]
  },
  {
   "cell_type": "code",
   "execution_count": 75,
   "metadata": {},
   "outputs": [
    {
     "data": {
      "text/html": [
       "<div>\n",
       "<style scoped>\n",
       "    .dataframe tbody tr th:only-of-type {\n",
       "        vertical-align: middle;\n",
       "    }\n",
       "\n",
       "    .dataframe tbody tr th {\n",
       "        vertical-align: top;\n",
       "    }\n",
       "\n",
       "    .dataframe thead th {\n",
       "        text-align: right;\n",
       "    }\n",
       "</style>\n",
       "<table border=\"1\" class=\"dataframe\">\n",
       "  <thead>\n",
       "    <tr style=\"text-align: right;\">\n",
       "      <th></th>\n",
       "      <th>station</th>\n",
       "      <th>date</th>\n",
       "      <th>daily_exits</th>\n",
       "    </tr>\n",
       "  </thead>\n",
       "  <tbody>\n",
       "    <tr>\n",
       "      <th>0</th>\n",
       "      <td>1 AV</td>\n",
       "      <td>04/25/2021</td>\n",
       "      <td>12549.0</td>\n",
       "    </tr>\n",
       "    <tr>\n",
       "      <th>1</th>\n",
       "      <td>1 AV</td>\n",
       "      <td>04/26/2021</td>\n",
       "      <td>7424.0</td>\n",
       "    </tr>\n",
       "    <tr>\n",
       "      <th>2</th>\n",
       "      <td>1 AV</td>\n",
       "      <td>04/27/2021</td>\n",
       "      <td>10788.0</td>\n",
       "    </tr>\n",
       "    <tr>\n",
       "      <th>3</th>\n",
       "      <td>1 AV</td>\n",
       "      <td>04/28/2021</td>\n",
       "      <td>11618.0</td>\n",
       "    </tr>\n",
       "    <tr>\n",
       "      <th>4</th>\n",
       "      <td>1 AV</td>\n",
       "      <td>04/29/2021</td>\n",
       "      <td>11955.0</td>\n",
       "    </tr>\n",
       "  </tbody>\n",
       "</table>\n",
       "</div>"
      ],
      "text/plain": [
       "  station        date  daily_exits\n",
       "0    1 AV  04/25/2021      12549.0\n",
       "1    1 AV  04/26/2021       7424.0\n",
       "2    1 AV  04/27/2021      10788.0\n",
       "3    1 AV  04/28/2021      11618.0\n",
       "4    1 AV  04/29/2021      11955.0"
      ]
     },
     "execution_count": 75,
     "metadata": {},
     "output_type": "execute_result"
    }
   ],
   "source": [
    "# Creat a new data frame contains  station ,date ,daily_exits\n",
    "stations_daily = \\\n",
    "(turnstiles_daily_exits.groupby(['station','date'])['daily_exits'].sum()\n",
    "                 .reset_index())  \n",
    "\n",
    "stations_daily.head()"
   ]
  },
  {
   "cell_type": "code",
   "execution_count": 76,
   "metadata": {},
   "outputs": [],
   "source": [
    "# Add the traffic column\n",
    "df['traffic']=(turnstiles_daily_entries['daily_entries']+turnstiles_daily_exits['daily_exits'])"
   ]
  },
  {
   "cell_type": "code",
   "execution_count": 77,
   "metadata": {},
   "outputs": [
    {
     "data": {
      "text/html": [
       "<div>\n",
       "<style scoped>\n",
       "    .dataframe tbody tr th:only-of-type {\n",
       "        vertical-align: middle;\n",
       "    }\n",
       "\n",
       "    .dataframe tbody tr th {\n",
       "        vertical-align: top;\n",
       "    }\n",
       "\n",
       "    .dataframe thead th {\n",
       "        text-align: right;\n",
       "    }\n",
       "</style>\n",
       "<table border=\"1\" class=\"dataframe\">\n",
       "  <thead>\n",
       "    <tr style=\"text-align: right;\">\n",
       "      <th></th>\n",
       "      <th>control_area</th>\n",
       "      <th>unit</th>\n",
       "      <th>subunit_channel_position</th>\n",
       "      <th>station</th>\n",
       "      <th>line_name</th>\n",
       "      <th>division</th>\n",
       "      <th>date</th>\n",
       "      <th>time</th>\n",
       "      <th>description</th>\n",
       "      <th>entries</th>\n",
       "      <th>exits</th>\n",
       "      <th>date_time</th>\n",
       "      <th>time_str</th>\n",
       "      <th>date_str</th>\n",
       "      <th>traffic</th>\n",
       "    </tr>\n",
       "  </thead>\n",
       "  <tbody>\n",
       "    <tr>\n",
       "      <th>0</th>\n",
       "      <td>A002</td>\n",
       "      <td>R051</td>\n",
       "      <td>02-00-00</td>\n",
       "      <td>59 ST</td>\n",
       "      <td>NQR456W</td>\n",
       "      <td>BMT</td>\n",
       "      <td>04/24/2021</td>\n",
       "      <td>00:00:00</td>\n",
       "      <td>REGULAR</td>\n",
       "      <td>7561288</td>\n",
       "      <td>2582898</td>\n",
       "      <td>2021-04-24 00:00:00</td>\n",
       "      <td>00</td>\n",
       "      <td>04</td>\n",
       "      <td>NaN</td>\n",
       "    </tr>\n",
       "    <tr>\n",
       "      <th>1</th>\n",
       "      <td>A002</td>\n",
       "      <td>R051</td>\n",
       "      <td>02-00-00</td>\n",
       "      <td>59 ST</td>\n",
       "      <td>NQR456W</td>\n",
       "      <td>BMT</td>\n",
       "      <td>04/24/2021</td>\n",
       "      <td>04:00:00</td>\n",
       "      <td>REGULAR</td>\n",
       "      <td>7561295</td>\n",
       "      <td>2582903</td>\n",
       "      <td>2021-04-24 04:00:00</td>\n",
       "      <td>04</td>\n",
       "      <td>04</td>\n",
       "      <td>496.0</td>\n",
       "    </tr>\n",
       "    <tr>\n",
       "      <th>2</th>\n",
       "      <td>A002</td>\n",
       "      <td>R051</td>\n",
       "      <td>02-00-00</td>\n",
       "      <td>59 ST</td>\n",
       "      <td>NQR456W</td>\n",
       "      <td>BMT</td>\n",
       "      <td>04/24/2021</td>\n",
       "      <td>08:00:00</td>\n",
       "      <td>REGULAR</td>\n",
       "      <td>7561302</td>\n",
       "      <td>2582918</td>\n",
       "      <td>2021-04-24 08:00:00</td>\n",
       "      <td>08</td>\n",
       "      <td>04</td>\n",
       "      <td>327.0</td>\n",
       "    </tr>\n",
       "    <tr>\n",
       "      <th>3</th>\n",
       "      <td>A002</td>\n",
       "      <td>R051</td>\n",
       "      <td>02-00-00</td>\n",
       "      <td>59 ST</td>\n",
       "      <td>NQR456W</td>\n",
       "      <td>BMT</td>\n",
       "      <td>04/24/2021</td>\n",
       "      <td>12:00:00</td>\n",
       "      <td>REGULAR</td>\n",
       "      <td>7561336</td>\n",
       "      <td>2582977</td>\n",
       "      <td>2021-04-24 12:00:00</td>\n",
       "      <td>12</td>\n",
       "      <td>04</td>\n",
       "      <td>697.0</td>\n",
       "    </tr>\n",
       "    <tr>\n",
       "      <th>4</th>\n",
       "      <td>A002</td>\n",
       "      <td>R051</td>\n",
       "      <td>02-00-00</td>\n",
       "      <td>59 ST</td>\n",
       "      <td>NQR456W</td>\n",
       "      <td>BMT</td>\n",
       "      <td>04/24/2021</td>\n",
       "      <td>16:00:00</td>\n",
       "      <td>REGULAR</td>\n",
       "      <td>7561426</td>\n",
       "      <td>2583008</td>\n",
       "      <td>2021-04-24 16:00:00</td>\n",
       "      <td>16</td>\n",
       "      <td>04</td>\n",
       "      <td>795.0</td>\n",
       "    </tr>\n",
       "  </tbody>\n",
       "</table>\n",
       "</div>"
      ],
      "text/plain": [
       "  control_area  unit subunit_channel_position station line_name division  \\\n",
       "0         A002  R051                 02-00-00   59 ST   NQR456W      BMT   \n",
       "1         A002  R051                 02-00-00   59 ST   NQR456W      BMT   \n",
       "2         A002  R051                 02-00-00   59 ST   NQR456W      BMT   \n",
       "3         A002  R051                 02-00-00   59 ST   NQR456W      BMT   \n",
       "4         A002  R051                 02-00-00   59 ST   NQR456W      BMT   \n",
       "\n",
       "         date      time description  entries    exits           date_time  \\\n",
       "0  04/24/2021  00:00:00     REGULAR  7561288  2582898 2021-04-24 00:00:00   \n",
       "1  04/24/2021  04:00:00     REGULAR  7561295  2582903 2021-04-24 04:00:00   \n",
       "2  04/24/2021  08:00:00     REGULAR  7561302  2582918 2021-04-24 08:00:00   \n",
       "3  04/24/2021  12:00:00     REGULAR  7561336  2582977 2021-04-24 12:00:00   \n",
       "4  04/24/2021  16:00:00     REGULAR  7561426  2583008 2021-04-24 16:00:00   \n",
       "\n",
       "  time_str date_str  traffic  \n",
       "0       00       04      NaN  \n",
       "1       04       04    496.0  \n",
       "2       08       04    327.0  \n",
       "3       12       04    697.0  \n",
       "4       16       04    795.0  "
      ]
     },
     "execution_count": 77,
     "metadata": {},
     "output_type": "execute_result"
    }
   ],
   "source": [
    "# Display the first five rows of the orignal data frame\n",
    "df.head(5)"
   ]
  },
  {
   "cell_type": "code",
   "execution_count": 78,
   "metadata": {},
   "outputs": [
    {
     "data": {
      "text/plain": [
       "173           CANAL ST\n",
       "226          FULTON ST\n",
       "59     34 ST-HERALD SQ\n",
       "61      34 ST-PENN STA\n",
       "110              86 ST\n",
       "Name: station, dtype: object"
      ]
     },
     "execution_count": 78,
     "metadata": {},
     "output_type": "execute_result"
    }
   ],
   "source": [
    "# Creat new data frame of the top 5 station of traffic\n",
    "top5_stations=(df.groupby(['station'])['traffic'].sum()\n",
    "                   .reset_index()\n",
    "                   .sort_values(by='traffic',ascending=False) \n",
    "                   .station.head(5))\n",
    "top5_stations"
   ]
  },
  {
   "cell_type": "code",
   "execution_count": 79,
   "metadata": {},
   "outputs": [
    {
     "data": {
      "text/html": [
       "<div>\n",
       "<style scoped>\n",
       "    .dataframe tbody tr th:only-of-type {\n",
       "        vertical-align: middle;\n",
       "    }\n",
       "\n",
       "    .dataframe tbody tr th {\n",
       "        vertical-align: top;\n",
       "    }\n",
       "\n",
       "    .dataframe thead th {\n",
       "        text-align: right;\n",
       "    }\n",
       "</style>\n",
       "<table border=\"1\" class=\"dataframe\">\n",
       "  <thead>\n",
       "    <tr style=\"text-align: right;\">\n",
       "      <th></th>\n",
       "      <th>control_area</th>\n",
       "      <th>unit</th>\n",
       "      <th>subunit_channel_position</th>\n",
       "      <th>station</th>\n",
       "      <th>line_name</th>\n",
       "      <th>division</th>\n",
       "      <th>date</th>\n",
       "      <th>time</th>\n",
       "      <th>description</th>\n",
       "      <th>entries</th>\n",
       "      <th>exits</th>\n",
       "      <th>date_time</th>\n",
       "      <th>time_str</th>\n",
       "      <th>date_str</th>\n",
       "      <th>traffic</th>\n",
       "    </tr>\n",
       "  </thead>\n",
       "  <tbody>\n",
       "    <tr>\n",
       "      <th>3931</th>\n",
       "      <td>A025</td>\n",
       "      <td>R023</td>\n",
       "      <td>01-06-02</td>\n",
       "      <td>34 ST-HERALD SQ</td>\n",
       "      <td>BDFMNQRW</td>\n",
       "      <td>BMT</td>\n",
       "      <td>07/19/2021</td>\n",
       "      <td>20:00:00</td>\n",
       "      <td>REGULAR</td>\n",
       "      <td>570161</td>\n",
       "      <td>202271</td>\n",
       "      <td>2021-07-19 20:00:00</td>\n",
       "      <td>20</td>\n",
       "      <td>07</td>\n",
       "      <td>998387.0</td>\n",
       "    </tr>\n",
       "    <tr>\n",
       "      <th>3931</th>\n",
       "      <td>A025</td>\n",
       "      <td>R023</td>\n",
       "      <td>01-06-02</td>\n",
       "      <td>34 ST-HERALD SQ</td>\n",
       "      <td>BDFMNQRW</td>\n",
       "      <td>BMT</td>\n",
       "      <td>07/03/2021</td>\n",
       "      <td>04:00:00</td>\n",
       "      <td>REGULAR</td>\n",
       "      <td>567868</td>\n",
       "      <td>197505</td>\n",
       "      <td>2021-07-03 04:00:00</td>\n",
       "      <td>04</td>\n",
       "      <td>07</td>\n",
       "      <td>998387.0</td>\n",
       "    </tr>\n",
       "    <tr>\n",
       "      <th>3931</th>\n",
       "      <td>A025</td>\n",
       "      <td>R023</td>\n",
       "      <td>01-06-02</td>\n",
       "      <td>34 ST-HERALD SQ</td>\n",
       "      <td>BDFMNQRW</td>\n",
       "      <td>BMT</td>\n",
       "      <td>05/05/2021</td>\n",
       "      <td>12:00:00</td>\n",
       "      <td>REGULAR</td>\n",
       "      <td>558096</td>\n",
       "      <td>183385</td>\n",
       "      <td>2021-05-05 12:00:00</td>\n",
       "      <td>12</td>\n",
       "      <td>05</td>\n",
       "      <td>998387.0</td>\n",
       "    </tr>\n",
       "    <tr>\n",
       "      <th>3931</th>\n",
       "      <td>A025</td>\n",
       "      <td>R023</td>\n",
       "      <td>01-06-02</td>\n",
       "      <td>34 ST-HERALD SQ</td>\n",
       "      <td>BDFMNQRW</td>\n",
       "      <td>BMT</td>\n",
       "      <td>06/02/2021</td>\n",
       "      <td>08:00:00</td>\n",
       "      <td>REGULAR</td>\n",
       "      <td>562700</td>\n",
       "      <td>189515</td>\n",
       "      <td>2021-06-02 08:00:00</td>\n",
       "      <td>08</td>\n",
       "      <td>06</td>\n",
       "      <td>998387.0</td>\n",
       "    </tr>\n",
       "    <tr>\n",
       "      <th>3931</th>\n",
       "      <td>A025</td>\n",
       "      <td>R023</td>\n",
       "      <td>01-06-02</td>\n",
       "      <td>34 ST-HERALD SQ</td>\n",
       "      <td>BDFMNQRW</td>\n",
       "      <td>BMT</td>\n",
       "      <td>06/16/2021</td>\n",
       "      <td>20:00:00</td>\n",
       "      <td>REGULAR</td>\n",
       "      <td>565129</td>\n",
       "      <td>193126</td>\n",
       "      <td>2021-06-16 20:00:00</td>\n",
       "      <td>20</td>\n",
       "      <td>06</td>\n",
       "      <td>998387.0</td>\n",
       "    </tr>\n",
       "  </tbody>\n",
       "</table>\n",
       "</div>"
      ],
      "text/plain": [
       "     control_area  unit subunit_channel_position          station line_name  \\\n",
       "3931         A025  R023                 01-06-02  34 ST-HERALD SQ  BDFMNQRW   \n",
       "3931         A025  R023                 01-06-02  34 ST-HERALD SQ  BDFMNQRW   \n",
       "3931         A025  R023                 01-06-02  34 ST-HERALD SQ  BDFMNQRW   \n",
       "3931         A025  R023                 01-06-02  34 ST-HERALD SQ  BDFMNQRW   \n",
       "3931         A025  R023                 01-06-02  34 ST-HERALD SQ  BDFMNQRW   \n",
       "\n",
       "     division        date      time description  entries   exits  \\\n",
       "3931      BMT  07/19/2021  20:00:00     REGULAR   570161  202271   \n",
       "3931      BMT  07/03/2021  04:00:00     REGULAR   567868  197505   \n",
       "3931      BMT  05/05/2021  12:00:00     REGULAR   558096  183385   \n",
       "3931      BMT  06/02/2021  08:00:00     REGULAR   562700  189515   \n",
       "3931      BMT  06/16/2021  20:00:00     REGULAR   565129  193126   \n",
       "\n",
       "               date_time time_str date_str   traffic  \n",
       "3931 2021-07-19 20:00:00       20       07  998387.0  \n",
       "3931 2021-07-03 04:00:00       04       07  998387.0  \n",
       "3931 2021-05-05 12:00:00       12       05  998387.0  \n",
       "3931 2021-06-02 08:00:00       08       06  998387.0  \n",
       "3931 2021-06-16 20:00:00       20       06  998387.0  "
      ]
     },
     "execution_count": 79,
     "metadata": {},
     "output_type": "execute_result"
    }
   ],
   "source": [
    "# Sort data frame by traffic number in ascending\n",
    "top5_stations=df[df['station'].isin(top5_stations)].sort_values(by='traffic',ascending=False)\n",
    "top5_stations.head()"
   ]
  },
  {
   "cell_type": "code",
   "execution_count": 80,
   "metadata": {},
   "outputs": [],
   "source": [
    "# The repeated date for the busiest station\n",
    "b=top5_stations.groupby(top5_stations['station']==\"34 STPENNSTA\")['date_str'].value_counts(sort=False)"
   ]
  },
  {
   "cell_type": "code",
   "execution_count": 81,
   "metadata": {},
   "outputs": [
    {
     "data": {
      "text/plain": [
       "61      34 ST-PENN STA\n",
       "226          FULTON ST\n",
       "315       PATH NEW WTC\n",
       "59     34 ST-HERALD SQ\n",
       "110              86 ST\n",
       "46               23 ST\n",
       "52               28 ST\n",
       "233    GRD CNTRL-42 ST\n",
       "68     42 ST-PORT AUTH\n",
       "9               125 ST\n",
       "Name: station, dtype: object"
      ]
     },
     "execution_count": 81,
     "metadata": {},
     "output_type": "execute_result"
    }
   ],
   "source": [
    "# Creat new data frame of the top 10 station of daily_entries\n",
    "top10_stations = (station_totals_entries.groupby(['station'])['daily_entries'].sum()\n",
    "                   .reset_index()\n",
    "                   .sort_values(by='daily_entries',ascending=False) \n",
    "                   .station.head(10))\n",
    "\n",
    "top10_stations"
   ]
  },
  {
   "cell_type": "code",
   "execution_count": 82,
   "metadata": {},
   "outputs": [
    {
     "data": {
      "text/plain": [
       "61      34 ST-PENN STA\n",
       "59     34 ST-HERALD SQ\n",
       "14      14 ST-UNION SQ\n",
       "110              86 ST\n",
       "315       PATH NEW WTC\n",
       "233    GRD CNTRL-42 ST\n",
       "9               125 ST\n",
       "68     42 ST-PORT AUTH\n",
       "46               23 ST\n",
       "226          FULTON ST\n",
       "Name: station, dtype: object"
      ]
     },
     "execution_count": 82,
     "metadata": {},
     "output_type": "execute_result"
    }
   ],
   "source": [
    "# Creat new data frame of the top 10 station of daily_exits\n",
    "top10_stations = (station_totals_exits.groupby(['station'])['daily_exits'].sum()\n",
    "                   .reset_index()\n",
    "                   .sort_values(by='daily_exits',ascending=False) \n",
    "                   .station.head(10))\n",
    "\n",
    "top10_stations"
   ]
  },
  {
   "cell_type": "code",
   "execution_count": 83,
   "metadata": {},
   "outputs": [],
   "source": [
    "stations_daily_top10 = station_totals_entries[station_totals_entries['station'].isin(top10_stations)]"
   ]
  },
  {
   "cell_type": "code",
   "execution_count": 84,
   "metadata": {},
   "outputs": [],
   "source": [
    "stations_daily_top10 = station_totals_exits[station_totals_exits['station'].isin(top10_stations)]"
   ]
  },
  {
   "cell_type": "code",
   "execution_count": 85,
   "metadata": {},
   "outputs": [],
   "source": [
    "a=df.groupby(df['station']==\"34 STPENNSTA\")['time_str'].value_counts(sort=False)"
   ]
  },
  {
   "cell_type": "code",
   "execution_count": 86,
   "metadata": {},
   "outputs": [
    {
     "data": {
      "text/plain": [
       "0     243221\n",
       "1     177249\n",
       "2      19096\n",
       "3      10475\n",
       "4     243267\n",
       "5     177117\n",
       "6      19183\n",
       "7      11443\n",
       "8     243702\n",
       "9     177535\n",
       "10     20242\n",
       "11     11682\n",
       "12    243667\n",
       "13    178007\n",
       "14     19353\n",
       "15     11030\n",
       "16    243747\n",
       "17    177861\n",
       "18     20093\n",
       "19     11091\n",
       "20    243593\n",
       "21    177409\n",
       "22     19247\n",
       "23     10645\n",
       "Name: time_str, dtype: int64"
      ]
     },
     "execution_count": 86,
     "metadata": {},
     "output_type": "execute_result"
    }
   ],
   "source": [
    "a.reset_index(drop=True)"
   ]
  },
  {
   "cell_type": "code",
   "execution_count": 87,
   "metadata": {},
   "outputs": [],
   "source": [
    "b=top5_stations.groupby(top5_stations['station']==\"34 STPENNSTA\")['date_str'].value_counts(sort=False)"
   ]
  },
  {
   "cell_type": "code",
   "execution_count": 88,
   "metadata": {},
   "outputs": [],
   "source": [
    "a=top5_stations.groupby(top5_stations['station']==\"34 STPENNSTA\")['time_str'].value_counts(sort=False)"
   ]
  },
  {
   "cell_type": "code",
   "execution_count": 89,
   "metadata": {},
   "outputs": [
    {
     "data": {
      "text/plain": [
       "0         04\n",
       "1         04\n",
       "2         04\n",
       "3         04\n",
       "4         04\n",
       "          ..\n",
       "209458    07\n",
       "209459    07\n",
       "209460    07\n",
       "209461    07\n",
       "209462    07\n",
       "Name: date_str, Length: 2709955, dtype: object"
      ]
     },
     "execution_count": 89,
     "metadata": {},
     "output_type": "execute_result"
    }
   ],
   "source": [
    "df['date_str']"
   ]
  },
  {
   "cell_type": "markdown",
   "metadata": {},
   "source": [
    "### 4. Data Visualization"
   ]
  },
  {
   "cell_type": "markdown",
   "metadata": {},
   "source": [
    "#### Represnting the division"
   ]
  },
  {
   "cell_type": "code",
   "execution_count": 90,
   "metadata": {},
   "outputs": [
    {
     "data": {
      "image/png": "[encoded data removed]",
      "text/plain": [
       "<Figure size 432x432 with 1 Axes>"
      ]
     },
     "metadata": {},
     "output_type": "display_data"
    }
   ],
   "source": [
    "# Pie chart for each division\n",
    "sns.set(style='darkgrid')\n",
    "plt.rcParams['figure.figsize'] = 6,6\n",
    "sorted_counts = df['division'].value_counts()\n",
    "plt.pie(sorted_counts, startangle = 90, counterclock = False, autopct='%.0f%%' );\n",
    "plt.title('Division in MTA transport project');\n",
    "plt.legend(sorted_counts.index);"
   ]
  },
  {
   "cell_type": "markdown",
   "metadata": {},
   "source": [
    "##### The biggest division is IRT Interborough Rapid Transit Company"
   ]
  },
  {
   "cell_type": "markdown",
   "metadata": {},
   "source": [
    "#### The most repeted stations in MTA data set"
   ]
  },
  {
   "cell_type": "code",
   "execution_count": 91,
   "metadata": {},
   "outputs": [],
   "source": [
    "def random_color_func(word=None, font_size=None, position=None,  orientation=None, font_path=None, random_state=None):\n",
    "    h = 216\n",
    "    s = 70\n",
    "    l = int(100.0 * float(random_state.randint(50, 120)) / 255.0)\n",
    "    return \"hsl({}, {}%, {}%)\".format(h, s, l)"
   ]
  },
  {
   "cell_type": "code",
   "execution_count": 92,
   "metadata": {},
   "outputs": [],
   "source": [
    "text=\" \".join(df[\"station\"])"
   ]
  },
  {
   "cell_type": "code",
   "execution_count": 93,
   "metadata": {},
   "outputs": [
    {
     "data": {
      "image/png": "[encoded data removed]",
      "text/plain": [
       "<Figure size 648x288 with 1 Axes>"
      ]
     },
     "metadata": {},
     "output_type": "display_data"
    }
   ],
   "source": [
    "# Write the most reapted word in station column\n",
    "plt.rcParams['figure.figsize'] =9, 4\n",
    "wordcloud = WordCloud(font_path=\"Roboto-Medium.ttf\",max_font_size=100, max_words=60, background_color=\"white\",width=500, height=200,collocations=False).generate(text)\n",
    "plt.figure()\n",
    "plt.imshow(wordcloud, interpolation=\"bilinear\")\n",
    "plt.axis(\"off\")\n",
    "plt.title(\"The most repeted stations in MTA data set\")\n",
    "plt.show();"
   ]
  },
  {
   "cell_type": "markdown",
   "metadata": {},
   "source": [
    "##### The most reapeted station is ST"
   ]
  },
  {
   "cell_type": "markdown",
   "metadata": {},
   "source": [
    "#### The number of weekly entreis in million\n",
    "#### The busiest station with the weekly entries"
   ]
  },
  {
   "cell_type": "code",
   "execution_count": 94,
   "metadata": {},
   "outputs": [
    {
     "data": {
      "image/png": "[encoded data removed]",
      "text/plain": [
       "<Figure size 936x432 with 1 Axes>"
      ]
     },
     "metadata": {},
     "output_type": "display_data"
    }
   ],
   "source": [
    "#The 10 busiest station with the weekly entries\n",
    "plt.figure(figsize=(13,6))\n",
    "sns.barplot(data=stations_daily_top10, x =station_totals_entries['daily_entries'][:10],y=station_totals_entries['station'][:10],color='steelblue')\n",
    "plt.title('The 10 busiest station with the weekly entries')\n",
    "plt.xlabel('Number of Entries (Millions)')\n",
    "plt.ylabel('Stations');"
   ]
  },
  {
   "cell_type": "code",
   "execution_count": 95,
   "metadata": {},
   "outputs": [
    {
     "data": {
      "image/png": "[encoded data removed]",
      "text/plain": [
       "<Figure size 936x432 with 1 Axes>"
      ]
     },
     "metadata": {},
     "output_type": "display_data"
    }
   ],
   "source": [
    "#The 10 busiest station with the weekly exits\n",
    "plt.figure(figsize=(13,6))\n",
    "sns.barplot(data=stations_daily_top10, x =station_totals_exits['daily_exits'][:10],y=station_totals_exits['station'][:10],color='steelblue')\n",
    "plt.title('The 10 busiest station with the weekly exits')\n",
    "plt.xlabel('Number of Entries (Millions)')\n",
    "plt.ylabel('Stations');"
   ]
  },
  {
   "cell_type": "markdown",
   "metadata": {},
   "source": [
    "##### The busiest station is 34-ST-PENNSTA"
   ]
  },
  {
   "cell_type": "code",
   "execution_count": 110,
   "metadata": {},
   "outputs": [
    {
     "data": {
      "image/png": "[encoded data removed]",
      "text/plain": [
       "<Figure size 936x360 with 1 Axes>"
      ]
     },
     "metadata": {},
     "output_type": "display_data"
    }
   ],
   "source": [
    "# The busiest station according to the traffic\n",
    "plt.figure(figsize=(13,5))\n",
    "sns.barplot(data=top5_stations, x='station',y='traffic',color='steelblue')\n",
    "plt.xlabel('Stations')\n",
    "plt.ylabel('Number of Entries Per Day')\n",
    "plt.title('The Five Most Crowded Stations');"
   ]
  },
  {
   "cell_type": "markdown",
   "metadata": {},
   "source": [
    "#### The busiest month"
   ]
  },
  {
   "cell_type": "code",
   "execution_count": 97,
   "metadata": {},
   "outputs": [
    {
     "data": {
      "text/plain": [
       "Text(0.5, 1.0, 'Rush months for the busiest station')"
      ]
     },
     "execution_count": 97,
     "metadata": {},
     "output_type": "execute_result"
    },
    {
     "data": {
      "image/png": "[encoded data removed]",
      "text/plain": [
       "<Figure size 648x288 with 1 Axes>"
      ]
     },
     "metadata": {},
     "output_type": "display_data"
    }
   ],
   "source": [
    "#Rush months for the busiest station\n",
    "\n",
    "b.plot(kind='bar')\n",
    "plt.xlabel('Months')\n",
    "plt.ylabel('Number of Entries')\n",
    "plt.xticks(rotation=0)\n",
    "positions = (0, 1, 2,3)\n",
    "labels = (\"April\", \"May\", \"June\",'July')\n",
    "plt.xticks(positions, labels)\n",
    "plt.title('Rush months for the busiest station')\n"
   ]
  },
  {
   "cell_type": "markdown",
   "metadata": {},
   "source": [
    "#### The busiest months of the the busiest station are May and July"
   ]
  },
  {
   "cell_type": "markdown",
   "metadata": {},
   "source": [
    "#### Rush hours"
   ]
  },
  {
   "cell_type": "code",
   "execution_count": 98,
   "metadata": {},
   "outputs": [
    {
     "data": {
      "image/png": "[encoded data removed]",
      "text/plain": [
       "<Figure size 648x288 with 1 Axes>"
      ]
     },
     "metadata": {},
     "output_type": "display_data"
    }
   ],
   "source": [
    "#Rush hours for the busiest station\n",
    "a.reset_index(drop=True).plot(kind='bar')\n",
    "plt.xlabel('Hours')\n",
    "plt.ylabel('Number of Entries') \n",
    "plt.xticks(rotation=0)\n",
    "plt.title('Rush Hours in the busiest station');"
   ]
  },
  {
   "cell_type": "markdown",
   "metadata": {},
   "source": [
    "##### The peek hours are 12,4,8 AM\n",
    "##### The peek hours are 12,4,8 PM"
   ]
  },
  {
   "cell_type": "markdown",
   "metadata": {},
   "source": [
    "#### Busiest months"
   ]
  },
  {
   "cell_type": "code",
   "execution_count": 99,
   "metadata": {},
   "outputs": [
    {
     "data": {
      "image/png": "[encoded data removed]",
      "text/plain": [
       "<Figure size 648x288 with 1 Axes>"
      ]
     },
     "metadata": {},
     "output_type": "display_data"
    }
   ],
   "source": [
    "#Rush months for all the stations\n",
    "plt.rcParams['figure.figsize'] =9, 4\n",
    "sns.countplot(data=df, y='date_str',order = df['date_str'].value_counts().index,color='steelblue')\n",
    "plt.xlabel('Number of Entries')\n",
    "plt.ylabel('Months')\n",
    "plt.title('Rush months in all the stations');"
   ]
  },
  {
   "cell_type": "markdown",
   "metadata": {},
   "source": [
    "##### The busiest months are June and July of 2021"
   ]
  },
  {
   "cell_type": "markdown",
   "metadata": {},
   "source": [
    "#### Connect with SQLalchemy"
   ]
  },
  {
   "cell_type": "code",
   "execution_count": 100,
   "metadata": {},
   "outputs": [
    {
     "data": {
      "text/plain": [
       "Engine(sqlite:///D:/newDDB.db)"
      ]
     },
     "execution_count": 100,
     "metadata": {},
     "output_type": "execute_result"
    }
   ],
   "source": [
    "# Connect with a data base\n",
    "engine = create_engine(\"sqlite:///D:/newDDB.db\")\n",
    "engine"
   ]
  },
  {
   "cell_type": "code",
   "execution_count": 101,
   "metadata": {},
   "outputs": [
    {
     "data": {
      "text/plain": [
       "['turnstile_210501']"
      ]
     },
     "execution_count": 101,
     "metadata": {},
     "output_type": "execute_result"
    }
   ],
   "source": [
    "# Display the tables names in data base\n",
    "all_tables = engine.table_names()\n",
    "all_tables"
   ]
  },
  {
   "cell_type": "markdown",
   "metadata": {},
   "source": [
    "#### Select all data from table"
   ]
  },
  {
   "cell_type": "code",
   "execution_count": 102,
   "metadata": {},
   "outputs": [
    {
     "data": {
      "text/html": [
       "<div>\n",
       "<style scoped>\n",
       "    .dataframe tbody tr th:only-of-type {\n",
       "        vertical-align: middle;\n",
       "    }\n",
       "\n",
       "    .dataframe tbody tr th {\n",
       "        vertical-align: top;\n",
       "    }\n",
       "\n",
       "    .dataframe thead th {\n",
       "        text-align: right;\n",
       "    }\n",
       "</style>\n",
       "<table border=\"1\" class=\"dataframe\">\n",
       "  <thead>\n",
       "    <tr style=\"text-align: right;\">\n",
       "      <th></th>\n",
       "      <th>C/A</th>\n",
       "      <th>UNIT</th>\n",
       "      <th>SCP</th>\n",
       "      <th>STATION</th>\n",
       "      <th>LINENAME</th>\n",
       "      <th>DIVISION</th>\n",
       "      <th>DATE</th>\n",
       "      <th>TIME</th>\n",
       "      <th>DESC</th>\n",
       "      <th>ENTRIES</th>\n",
       "      <th>EXITS</th>\n",
       "    </tr>\n",
       "  </thead>\n",
       "  <tbody>\n",
       "    <tr>\n",
       "      <th>0</th>\n",
       "      <td>A002</td>\n",
       "      <td>R051</td>\n",
       "      <td>02-00-00</td>\n",
       "      <td>59 ST</td>\n",
       "      <td>NQR456W</td>\n",
       "      <td>BMT</td>\n",
       "      <td>04/24/2021</td>\n",
       "      <td>00:00:00</td>\n",
       "      <td>REGULAR</td>\n",
       "      <td>7561288</td>\n",
       "      <td>2582898</td>\n",
       "    </tr>\n",
       "    <tr>\n",
       "      <th>1</th>\n",
       "      <td>A002</td>\n",
       "      <td>R051</td>\n",
       "      <td>02-00-00</td>\n",
       "      <td>59 ST</td>\n",
       "      <td>NQR456W</td>\n",
       "      <td>BMT</td>\n",
       "      <td>04/24/2021</td>\n",
       "      <td>04:00:00</td>\n",
       "      <td>REGULAR</td>\n",
       "      <td>7561295</td>\n",
       "      <td>2582903</td>\n",
       "    </tr>\n",
       "    <tr>\n",
       "      <th>2</th>\n",
       "      <td>A002</td>\n",
       "      <td>R051</td>\n",
       "      <td>02-00-00</td>\n",
       "      <td>59 ST</td>\n",
       "      <td>NQR456W</td>\n",
       "      <td>BMT</td>\n",
       "      <td>04/24/2021</td>\n",
       "      <td>08:00:00</td>\n",
       "      <td>REGULAR</td>\n",
       "      <td>7561302</td>\n",
       "      <td>2582918</td>\n",
       "    </tr>\n",
       "    <tr>\n",
       "      <th>3</th>\n",
       "      <td>A002</td>\n",
       "      <td>R051</td>\n",
       "      <td>02-00-00</td>\n",
       "      <td>59 ST</td>\n",
       "      <td>NQR456W</td>\n",
       "      <td>BMT</td>\n",
       "      <td>04/24/2021</td>\n",
       "      <td>12:00:00</td>\n",
       "      <td>REGULAR</td>\n",
       "      <td>7561336</td>\n",
       "      <td>2582977</td>\n",
       "    </tr>\n",
       "    <tr>\n",
       "      <th>4</th>\n",
       "      <td>A002</td>\n",
       "      <td>R051</td>\n",
       "      <td>02-00-00</td>\n",
       "      <td>59 ST</td>\n",
       "      <td>NQR456W</td>\n",
       "      <td>BMT</td>\n",
       "      <td>04/24/2021</td>\n",
       "      <td>16:00:00</td>\n",
       "      <td>REGULAR</td>\n",
       "      <td>7561426</td>\n",
       "      <td>2583008</td>\n",
       "    </tr>\n",
       "    <tr>\n",
       "      <th>...</th>\n",
       "      <td>...</td>\n",
       "      <td>...</td>\n",
       "      <td>...</td>\n",
       "      <td>...</td>\n",
       "      <td>...</td>\n",
       "      <td>...</td>\n",
       "      <td>...</td>\n",
       "      <td>...</td>\n",
       "      <td>...</td>\n",
       "      <td>...</td>\n",
       "      <td>...</td>\n",
       "    </tr>\n",
       "    <tr>\n",
       "      <th>2930787</th>\n",
       "      <td>TRAM2</td>\n",
       "      <td>R469</td>\n",
       "      <td>00-05-01</td>\n",
       "      <td>RIT-ROOSEVELT</td>\n",
       "      <td>R</td>\n",
       "      <td>RIT</td>\n",
       "      <td>07/30/2021</td>\n",
       "      <td>05:00:00</td>\n",
       "      <td>REGULAR</td>\n",
       "      <td>5554</td>\n",
       "      <td>589</td>\n",
       "    </tr>\n",
       "    <tr>\n",
       "      <th>2930788</th>\n",
       "      <td>TRAM2</td>\n",
       "      <td>R469</td>\n",
       "      <td>00-05-01</td>\n",
       "      <td>RIT-ROOSEVELT</td>\n",
       "      <td>R</td>\n",
       "      <td>RIT</td>\n",
       "      <td>07/30/2021</td>\n",
       "      <td>09:00:00</td>\n",
       "      <td>REGULAR</td>\n",
       "      <td>5554</td>\n",
       "      <td>589</td>\n",
       "    </tr>\n",
       "    <tr>\n",
       "      <th>2930789</th>\n",
       "      <td>TRAM2</td>\n",
       "      <td>R469</td>\n",
       "      <td>00-05-01</td>\n",
       "      <td>RIT-ROOSEVELT</td>\n",
       "      <td>R</td>\n",
       "      <td>RIT</td>\n",
       "      <td>07/30/2021</td>\n",
       "      <td>13:00:00</td>\n",
       "      <td>REGULAR</td>\n",
       "      <td>5554</td>\n",
       "      <td>589</td>\n",
       "    </tr>\n",
       "    <tr>\n",
       "      <th>2930790</th>\n",
       "      <td>TRAM2</td>\n",
       "      <td>R469</td>\n",
       "      <td>00-05-01</td>\n",
       "      <td>RIT-ROOSEVELT</td>\n",
       "      <td>R</td>\n",
       "      <td>RIT</td>\n",
       "      <td>07/30/2021</td>\n",
       "      <td>17:00:00</td>\n",
       "      <td>REGULAR</td>\n",
       "      <td>5554</td>\n",
       "      <td>590</td>\n",
       "    </tr>\n",
       "    <tr>\n",
       "      <th>2930791</th>\n",
       "      <td>TRAM2</td>\n",
       "      <td>R469</td>\n",
       "      <td>00-05-01</td>\n",
       "      <td>RIT-ROOSEVELT</td>\n",
       "      <td>R</td>\n",
       "      <td>RIT</td>\n",
       "      <td>07/30/2021</td>\n",
       "      <td>21:00:00</td>\n",
       "      <td>REGULAR</td>\n",
       "      <td>5554</td>\n",
       "      <td>591</td>\n",
       "    </tr>\n",
       "  </tbody>\n",
       "</table>\n",
       "<p>2930792 rows × 11 columns</p>\n",
       "</div>"
      ],
      "text/plain": [
       "           C/A  UNIT       SCP        STATION LINENAME DIVISION        DATE  \\\n",
       "0         A002  R051  02-00-00          59 ST  NQR456W      BMT  04/24/2021   \n",
       "1         A002  R051  02-00-00          59 ST  NQR456W      BMT  04/24/2021   \n",
       "2         A002  R051  02-00-00          59 ST  NQR456W      BMT  04/24/2021   \n",
       "3         A002  R051  02-00-00          59 ST  NQR456W      BMT  04/24/2021   \n",
       "4         A002  R051  02-00-00          59 ST  NQR456W      BMT  04/24/2021   \n",
       "...        ...   ...       ...            ...      ...      ...         ...   \n",
       "2930787  TRAM2  R469  00-05-01  RIT-ROOSEVELT        R      RIT  07/30/2021   \n",
       "2930788  TRAM2  R469  00-05-01  RIT-ROOSEVELT        R      RIT  07/30/2021   \n",
       "2930789  TRAM2  R469  00-05-01  RIT-ROOSEVELT        R      RIT  07/30/2021   \n",
       "2930790  TRAM2  R469  00-05-01  RIT-ROOSEVELT        R      RIT  07/30/2021   \n",
       "2930791  TRAM2  R469  00-05-01  RIT-ROOSEVELT        R      RIT  07/30/2021   \n",
       "\n",
       "             TIME     DESC  ENTRIES    EXITS  \n",
       "0        00:00:00  REGULAR  7561288  2582898  \n",
       "1        04:00:00  REGULAR  7561295  2582903  \n",
       "2        08:00:00  REGULAR  7561302  2582918  \n",
       "3        12:00:00  REGULAR  7561336  2582977  \n",
       "4        16:00:00  REGULAR  7561426  2583008  \n",
       "...           ...      ...      ...      ...  \n",
       "2930787  05:00:00  REGULAR     5554      589  \n",
       "2930788  09:00:00  REGULAR     5554      589  \n",
       "2930789  13:00:00  REGULAR     5554      589  \n",
       "2930790  17:00:00  REGULAR     5554      590  \n",
       "2930791  21:00:00  REGULAR     5554      591  \n",
       "\n",
       "[2930792 rows x 11 columns]"
      ]
     },
     "execution_count": 102,
     "metadata": {},
     "output_type": "execute_result"
    }
   ],
   "source": [
    "# Display all the data from table\n",
    "MTAsql = pd.read_sql('SELECT * FROM turnstile_210501;', engine)\n",
    "MTAsql"
   ]
  },
  {
   "cell_type": "markdown",
   "metadata": {},
   "source": [
    "#### Select all the data from table for each station oreder by number of entries"
   ]
  },
  {
   "cell_type": "code",
   "execution_count": 103,
   "metadata": {},
   "outputs": [
    {
     "data": {
      "text/html": [
       "<div>\n",
       "<style scoped>\n",
       "    .dataframe tbody tr th:only-of-type {\n",
       "        vertical-align: middle;\n",
       "    }\n",
       "\n",
       "    .dataframe tbody tr th {\n",
       "        vertical-align: top;\n",
       "    }\n",
       "\n",
       "    .dataframe thead th {\n",
       "        text-align: right;\n",
       "    }\n",
       "</style>\n",
       "<table border=\"1\" class=\"dataframe\">\n",
       "  <thead>\n",
       "    <tr style=\"text-align: right;\">\n",
       "      <th></th>\n",
       "      <th>C/A</th>\n",
       "      <th>UNIT</th>\n",
       "      <th>SCP</th>\n",
       "      <th>STATION</th>\n",
       "      <th>LINENAME</th>\n",
       "      <th>DIVISION</th>\n",
       "      <th>DATE</th>\n",
       "      <th>TIME</th>\n",
       "      <th>DESC</th>\n",
       "      <th>ENTRIES</th>\n",
       "      <th>EXITS</th>\n",
       "    </tr>\n",
       "  </thead>\n",
       "  <tbody>\n",
       "    <tr>\n",
       "      <th>0</th>\n",
       "      <td>J022</td>\n",
       "      <td>R435</td>\n",
       "      <td>00-00-00</td>\n",
       "      <td>CLEVELAND ST</td>\n",
       "      <td>J</td>\n",
       "      <td>BMT</td>\n",
       "      <td>04/24/2021</td>\n",
       "      <td>01:00:00</td>\n",
       "      <td>REGULAR</td>\n",
       "      <td>5239949</td>\n",
       "      <td>5914295</td>\n",
       "    </tr>\n",
       "    <tr>\n",
       "      <th>1</th>\n",
       "      <td>H037</td>\n",
       "      <td>R349</td>\n",
       "      <td>00-00-00</td>\n",
       "      <td>SUTTER AV</td>\n",
       "      <td>L</td>\n",
       "      <td>BMT</td>\n",
       "      <td>04/24/2021</td>\n",
       "      <td>01:00:00</td>\n",
       "      <td>REGULAR</td>\n",
       "      <td>2529643</td>\n",
       "      <td>2935088</td>\n",
       "    </tr>\n",
       "    <tr>\n",
       "      <th>2</th>\n",
       "      <td>OB01</td>\n",
       "      <td>R459</td>\n",
       "      <td>00-00-00</td>\n",
       "      <td>ORCHARD BEACH</td>\n",
       "      <td>6</td>\n",
       "      <td>IND</td>\n",
       "      <td>05/21/2021</td>\n",
       "      <td>09:04:53</td>\n",
       "      <td>REGULAR</td>\n",
       "      <td>401646</td>\n",
       "      <td>24779</td>\n",
       "    </tr>\n",
       "    <tr>\n",
       "      <th>3</th>\n",
       "      <td>N215</td>\n",
       "      <td>R237</td>\n",
       "      <td>00-00-00</td>\n",
       "      <td>182-183 STS</td>\n",
       "      <td>BD</td>\n",
       "      <td>IND</td>\n",
       "      <td>04/24/2021</td>\n",
       "      <td>00:00:00</td>\n",
       "      <td>REGULAR</td>\n",
       "      <td>14405519</td>\n",
       "      <td>6764457</td>\n",
       "    </tr>\n",
       "    <tr>\n",
       "      <th>4</th>\n",
       "      <td>J020</td>\n",
       "      <td>R433</td>\n",
       "      <td>00-00-00</td>\n",
       "      <td>ALABAMA AV</td>\n",
       "      <td>J</td>\n",
       "      <td>BMT</td>\n",
       "      <td>04/24/2021</td>\n",
       "      <td>01:00:00</td>\n",
       "      <td>REGULAR</td>\n",
       "      <td>2186127</td>\n",
       "      <td>1717993</td>\n",
       "    </tr>\n",
       "    <tr>\n",
       "      <th>...</th>\n",
       "      <td>...</td>\n",
       "      <td>...</td>\n",
       "      <td>...</td>\n",
       "      <td>...</td>\n",
       "      <td>...</td>\n",
       "      <td>...</td>\n",
       "      <td>...</td>\n",
       "      <td>...</td>\n",
       "      <td>...</td>\n",
       "      <td>...</td>\n",
       "      <td>...</td>\n",
       "    </tr>\n",
       "    <tr>\n",
       "      <th>374</th>\n",
       "      <td>C025</td>\n",
       "      <td>R215</td>\n",
       "      <td>00-00-00</td>\n",
       "      <td>86 ST</td>\n",
       "      <td>R</td>\n",
       "      <td>BMT</td>\n",
       "      <td>04/24/2021</td>\n",
       "      <td>00:00:00</td>\n",
       "      <td>REGULAR</td>\n",
       "      <td>382302</td>\n",
       "      <td>525156</td>\n",
       "    </tr>\n",
       "    <tr>\n",
       "      <th>375</th>\n",
       "      <td>A030</td>\n",
       "      <td>R083</td>\n",
       "      <td>01-00-00</td>\n",
       "      <td>23 ST</td>\n",
       "      <td>NRW</td>\n",
       "      <td>BMT</td>\n",
       "      <td>04/24/2021</td>\n",
       "      <td>00:00:00</td>\n",
       "      <td>REGULAR</td>\n",
       "      <td>77996</td>\n",
       "      <td>87272</td>\n",
       "    </tr>\n",
       "    <tr>\n",
       "      <th>376</th>\n",
       "      <td>R235</td>\n",
       "      <td>R045</td>\n",
       "      <td>01-00-00</td>\n",
       "      <td>GRD CNTRL-42 ST</td>\n",
       "      <td>4567S</td>\n",
       "      <td>IRT</td>\n",
       "      <td>04/24/2021</td>\n",
       "      <td>01:00:00</td>\n",
       "      <td>REGULAR</td>\n",
       "      <td>69</td>\n",
       "      <td>341</td>\n",
       "    </tr>\n",
       "    <tr>\n",
       "      <th>377</th>\n",
       "      <td>A077</td>\n",
       "      <td>R028</td>\n",
       "      <td>03-00-00</td>\n",
       "      <td>FULTON ST</td>\n",
       "      <td>ACJZ2345</td>\n",
       "      <td>BMT</td>\n",
       "      <td>04/24/2021</td>\n",
       "      <td>03:00:00</td>\n",
       "      <td>REGULAR</td>\n",
       "      <td>414239</td>\n",
       "      <td>126787</td>\n",
       "    </tr>\n",
       "    <tr>\n",
       "      <th>378</th>\n",
       "      <td>N067</td>\n",
       "      <td>R012</td>\n",
       "      <td>00-00-00</td>\n",
       "      <td>34 ST-PENN STA</td>\n",
       "      <td>ACE</td>\n",
       "      <td>IND</td>\n",
       "      <td>04/24/2021</td>\n",
       "      <td>00:00:00</td>\n",
       "      <td>REGULAR</td>\n",
       "      <td>244613</td>\n",
       "      <td>742397</td>\n",
       "    </tr>\n",
       "  </tbody>\n",
       "</table>\n",
       "<p>379 rows × 11 columns</p>\n",
       "</div>"
      ],
      "text/plain": [
       "      C/A  UNIT       SCP          STATION  LINENAME DIVISION        DATE  \\\n",
       "0    J022  R435  00-00-00     CLEVELAND ST         J      BMT  04/24/2021   \n",
       "1    H037  R349  00-00-00        SUTTER AV         L      BMT  04/24/2021   \n",
       "2    OB01  R459  00-00-00    ORCHARD BEACH         6      IND  05/21/2021   \n",
       "3    N215  R237  00-00-00      182-183 STS        BD      IND  04/24/2021   \n",
       "4    J020  R433  00-00-00       ALABAMA AV         J      BMT  04/24/2021   \n",
       "..    ...   ...       ...              ...       ...      ...         ...   \n",
       "374  C025  R215  00-00-00            86 ST         R      BMT  04/24/2021   \n",
       "375  A030  R083  01-00-00            23 ST       NRW      BMT  04/24/2021   \n",
       "376  R235  R045  01-00-00  GRD CNTRL-42 ST     4567S      IRT  04/24/2021   \n",
       "377  A077  R028  03-00-00        FULTON ST  ACJZ2345      BMT  04/24/2021   \n",
       "378  N067  R012  00-00-00   34 ST-PENN STA       ACE      IND  04/24/2021   \n",
       "\n",
       "         TIME     DESC   ENTRIES    EXITS  \n",
       "0    01:00:00  REGULAR   5239949  5914295  \n",
       "1    01:00:00  REGULAR   2529643  2935088  \n",
       "2    09:04:53  REGULAR    401646    24779  \n",
       "3    00:00:00  REGULAR  14405519  6764457  \n",
       "4    01:00:00  REGULAR   2186127  1717993  \n",
       "..        ...      ...       ...      ...  \n",
       "374  00:00:00  REGULAR    382302   525156  \n",
       "375  00:00:00  REGULAR     77996    87272  \n",
       "376  01:00:00  REGULAR        69      341  \n",
       "377  03:00:00  REGULAR    414239   126787  \n",
       "378  00:00:00  REGULAR    244613   742397  \n",
       "\n",
       "[379 rows x 11 columns]"
      ]
     },
     "execution_count": 103,
     "metadata": {},
     "output_type": "execute_result"
    }
   ],
   "source": [
    "# Display all the data from table for each station oreder by entries in ascending\n",
    "pd.read_sql('SELECT * FROM turnstile_210501 group by STATION order by count(ENTRIES);', engine)"
   ]
  },
  {
   "cell_type": "code",
   "execution_count": 104,
   "metadata": {},
   "outputs": [
    {
     "data": {
      "text/html": [
       "<div>\n",
       "<style scoped>\n",
       "    .dataframe tbody tr th:only-of-type {\n",
       "        vertical-align: middle;\n",
       "    }\n",
       "\n",
       "    .dataframe tbody tr th {\n",
       "        vertical-align: top;\n",
       "    }\n",
       "\n",
       "    .dataframe thead th {\n",
       "        text-align: right;\n",
       "    }\n",
       "</style>\n",
       "<table border=\"1\" class=\"dataframe\">\n",
       "  <thead>\n",
       "    <tr style=\"text-align: right;\">\n",
       "      <th></th>\n",
       "      <th>DIVISION</th>\n",
       "      <th>LINENAME</th>\n",
       "    </tr>\n",
       "  </thead>\n",
       "  <tbody>\n",
       "    <tr>\n",
       "      <th>0</th>\n",
       "      <td>BMT</td>\n",
       "      <td>NQR456W</td>\n",
       "    </tr>\n",
       "    <tr>\n",
       "      <th>1</th>\n",
       "      <td>IND</td>\n",
       "      <td>A</td>\n",
       "    </tr>\n",
       "    <tr>\n",
       "      <th>2</th>\n",
       "      <td>IRT</td>\n",
       "      <td>1RW</td>\n",
       "    </tr>\n",
       "    <tr>\n",
       "      <th>3</th>\n",
       "      <td>PTH</td>\n",
       "      <td>1</td>\n",
       "    </tr>\n",
       "    <tr>\n",
       "      <th>4</th>\n",
       "      <td>RIT</td>\n",
       "      <td>R</td>\n",
       "    </tr>\n",
       "    <tr>\n",
       "      <th>5</th>\n",
       "      <td>SRT</td>\n",
       "      <td>1</td>\n",
       "    </tr>\n",
       "  </tbody>\n",
       "</table>\n",
       "</div>"
      ],
      "text/plain": [
       "  DIVISION LINENAME\n",
       "0      BMT  NQR456W\n",
       "1      IND        A\n",
       "2      IRT      1RW\n",
       "3      PTH        1\n",
       "4      RIT        R\n",
       "5      SRT        1"
      ]
     },
     "execution_count": 104,
     "metadata": {},
     "output_type": "execute_result"
    }
   ],
   "source": [
    "# Select DIVISION and LINENAME from table for each DIVISION\n",
    "pd.read_sql('SELECT DIVISION,LINENAME FROM turnstile_210501 group by DIVISION;', engine)"
   ]
  },
  {
   "cell_type": "code",
   "execution_count": 105,
   "metadata": {},
   "outputs": [
    {
     "data": {
      "text/html": [
       "<div>\n",
       "<style scoped>\n",
       "    .dataframe tbody tr th:only-of-type {\n",
       "        vertical-align: middle;\n",
       "    }\n",
       "\n",
       "    .dataframe tbody tr th {\n",
       "        vertical-align: top;\n",
       "    }\n",
       "\n",
       "    .dataframe thead th {\n",
       "        text-align: right;\n",
       "    }\n",
       "</style>\n",
       "<table border=\"1\" class=\"dataframe\">\n",
       "  <thead>\n",
       "    <tr style=\"text-align: right;\">\n",
       "      <th></th>\n",
       "      <th>STATION</th>\n",
       "      <th>DATE</th>\n",
       "      <th>TIME</th>\n",
       "    </tr>\n",
       "  </thead>\n",
       "  <tbody>\n",
       "    <tr>\n",
       "      <th>0</th>\n",
       "      <td>59 ST</td>\n",
       "      <td>04/24/2021</td>\n",
       "      <td>00:00:00</td>\n",
       "    </tr>\n",
       "    <tr>\n",
       "      <th>1</th>\n",
       "      <td>HOWARD BCH JFK</td>\n",
       "      <td>04/24/2021</td>\n",
       "      <td>01:00:00</td>\n",
       "    </tr>\n",
       "    <tr>\n",
       "      <th>2</th>\n",
       "      <td>SOUTH FERRY</td>\n",
       "      <td>04/24/2021</td>\n",
       "      <td>01:00:00</td>\n",
       "    </tr>\n",
       "    <tr>\n",
       "      <th>3</th>\n",
       "      <td>NEWARK HW BMEBE</td>\n",
       "      <td>04/24/2021</td>\n",
       "      <td>02:51:28</td>\n",
       "    </tr>\n",
       "    <tr>\n",
       "      <th>4</th>\n",
       "      <td>RIT-MANHATTAN</td>\n",
       "      <td>04/24/2021</td>\n",
       "      <td>01:00:00</td>\n",
       "    </tr>\n",
       "    <tr>\n",
       "      <th>5</th>\n",
       "      <td>ST. GEORGE</td>\n",
       "      <td>04/24/2021</td>\n",
       "      <td>00:00:00</td>\n",
       "    </tr>\n",
       "  </tbody>\n",
       "</table>\n",
       "</div>"
      ],
      "text/plain": [
       "           STATION        DATE      TIME\n",
       "0            59 ST  04/24/2021  00:00:00\n",
       "1   HOWARD BCH JFK  04/24/2021  01:00:00\n",
       "2      SOUTH FERRY  04/24/2021  01:00:00\n",
       "3  NEWARK HW BMEBE  04/24/2021  02:51:28\n",
       "4    RIT-MANHATTAN  04/24/2021  01:00:00\n",
       "5       ST. GEORGE  04/24/2021  00:00:00"
      ]
     },
     "execution_count": 105,
     "metadata": {},
     "output_type": "execute_result"
    }
   ],
   "source": [
    "# Select STATION,DATE,TIME from table for each DIVISION\n",
    "pd.read_sql('SELECT STATION,DATE,TIME FROM turnstile_210501 group by DIVISION;', engine)"
   ]
  },
  {
   "cell_type": "markdown",
   "metadata": {},
   "source": [
    "### Final recomendation"
   ]
  },
  {
   "cell_type": "markdown",
   "metadata": {},
   "source": [
    "#### Expand the busiest stations as a short term solution"
   ]
  },
  {
   "cell_type": "markdown",
   "metadata": {},
   "source": [
    "#### Add new stations new to the busiest stations as a long term solution"
   ]
  }
 ],
 "metadata": {
  "kernelspec": {
   "display_name": "Python 3",
   "language": "python",
   "name": "python3"
  },
  "language_info": {
   "codemirror_mode": {
    "name": "ipython",
    "version": 3
   },
   "file_extension": ".py",
   "mimetype": "text/x-python",
   "name": "python",
   "nbconvert_exporter": "python",
   "pygments_lexer": "ipython3",
   "version": "3.8.3"
  }
 },
 "nbformat": 4,
 "nbformat_minor": 4
}
